{
 "cells": [
  {
   "cell_type": "markdown",
   "id": "9a5f1d0f",
   "metadata": {},
   "source": [
    "## Verschiedene Verteilungen mit `np.random`\n",
    "In diesem Notebook werden verschiedene Verteilungen mit NumPy erzeugt und visualisiert. Die Visualisierungen werden mit Matplotlib erstellt."
   ]
  },
  {
   "cell_type": "code",
   "execution_count": 2,
   "id": "4cb7f51b",
   "metadata": {},
   "outputs": [],
   "source": [
    "import numpy as np\n",
    "import matplotlib.pyplot as plt\n"
   ]
  },
  {
   "cell_type": "markdown",
   "id": "c09e4da9",
   "metadata": {},
   "source": [
    "### 1. Gleichverteilung (`np.random.uniform`)\n",
    "Erzeugt Werte gleichmäßig verteilt in einem bestimmten Bereich."
   ]
  },
  {
   "cell_type": "code",
   "execution_count": 8,
   "id": "0592de57",
   "metadata": {},
   "outputs": [],
   "source": [
    "# Gleichverteilung\n"
   ]
  },
  {
   "cell_type": "markdown",
   "id": "f48d89b8",
   "metadata": {},
   "source": [
    "### 2. Normalverteilung (`np.random.normal`)\n",
    "Erzeugt Werte aus einer Normalverteilung mit einem Mittelwert und einer Standardabweichung."
   ]
  },
  {
   "cell_type": "code",
   "execution_count": 9,
   "id": "136e9c97",
   "metadata": {},
   "outputs": [],
   "source": [
    "# Normalverteilung\n"
   ]
  },
  {
   "cell_type": "markdown",
   "id": "6f9cc0c2",
   "metadata": {},
   "source": [
    "### 3. Binomialverteilung (`np.random.binomial`)\n",
    "Erzeugt Werte aus einer Binomialverteilung, die die Anzahl der Erfolge in einer Reihe von Experimenten beschreibt."
   ]
  },
  {
   "cell_type": "code",
   "execution_count": 10,
   "id": "ac3894f6",
   "metadata": {},
   "outputs": [],
   "source": [
    "# Binomialverteilung\n"
   ]
  },
  {
   "cell_type": "markdown",
   "id": "98623a4b",
   "metadata": {},
   "source": [
    "### 4. Poissonverteilung (`np.random.poisson`)\n",
    "Erzeugt Werte aus einer Poissonverteilung, die seltene Ereignisse modelliert."
   ]
  },
  {
   "cell_type": "code",
   "execution_count": 11,
   "id": "dc6018d1",
   "metadata": {},
   "outputs": [],
   "source": [
    "# Poissonverteilung\n"
   ]
  },
  {
   "cell_type": "markdown",
   "id": "416e8767",
   "metadata": {},
   "source": [
    "### 5. Exponentialverteilung (`np.random.exponential`)\n",
    "Erzeugt Werte aus einer Exponentialverteilung, die die Zeit zwischen zufälligen Ereignissen beschreibt."
   ]
  },
  {
   "cell_type": "code",
   "execution_count": 12,
   "id": "b0b2e31f",
   "metadata": {},
   "outputs": [],
   "source": [
    "# Exponentialverteilung\n"
   ]
  },
  {
   "cell_type": "markdown",
   "id": "15ba1e1a-3931-4f75-8ba9-e9f7587b99eb",
   "metadata": {},
   "source": [
    "# Aufgabe: Simulation und Analyse einer Normalverteilung mit NumPy\n",
    "\n",
    "Ein Unternehmen möchte die Produktionszeit einer Maschine analysieren. Es wird angenommen, dass die Produktionszeit pro Produkt normalverteilt ist. \n",
    "\n",
    "1) Erzeuge mit np.random.normal eine Stichprobe von 1000 Produktionszeiten, wobei:\n",
    "\n",
    "    Der Mittelwert der Produktionszeit mü bei 50 Minuten liegt.\n",
    "    Die Standardabweichung sigma 10 Minuten beträgt.\n",
    "\n",
    "2) Plotte die Häufigkeitsverteilung"
   ]
  }
 ],
 "metadata": {
  "kernelspec": {
   "display_name": "Python 3 (ipykernel)",
   "language": "python",
   "name": "python3"
  },
  "language_info": {
   "codemirror_mode": {
    "name": "ipython",
    "version": 3
   },
   "file_extension": ".py",
   "mimetype": "text/x-python",
   "name": "python",
   "nbconvert_exporter": "python",
   "pygments_lexer": "ipython3",
   "version": "3.12.4"
  }
 },
 "nbformat": 4,
 "nbformat_minor": 5
}
