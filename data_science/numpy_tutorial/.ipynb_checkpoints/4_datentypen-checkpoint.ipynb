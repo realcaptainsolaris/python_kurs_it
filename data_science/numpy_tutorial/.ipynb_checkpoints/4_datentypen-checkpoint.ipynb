{
 "cells": [
  {
   "cell_type": "markdown",
   "id": "644ad431",
   "metadata": {},
   "source": [
    "# Numpy Datentypen\n",
    "Numpy Arrays bestehen immer aus Elementen eines Datentyps. Übersteigt ein Element des Arrays den Wert des eigentlichen Datentyps, kommt es oft zu unvorhergesehenen Effekten, die man nur verstehen kann, wenn man ein Verständnis von Datentypen im Allgemeinen und insbesondere den C-Datentypen hat. Die Datentypen von Numpy entsprechen den echten C-Datentypen.\n",
    "\n",
    "Ist zum Beispiel der Datentyp eines Arrays uint8, ist der erlaubte Wertebereich der Elemente von 0 bis 255 (8 Bit). Negative Werte oder Werte, die 255 übersteigen, lassen sich mit uint8 einfach nicht abbilden. Trägt man nun trotzdem zum Beispiel ein Element mit Wert 256 ein, wird in der Ausgabe der Wert 0 ausgegeben. Warum?\n",
    "\n",
    "Gucken wir uns das mal auf Binärebene an. Das ist die Zahl 256 als Binärzahl:\n",
    "100000000\n",
    "Beim Abzählen sehen wir, dass die Zahl 9 Stellen hat, also 9 Bit. Diese Zahl passt nicht in das 8 Bit-Format und daraus folgt, dass folgende Zahl in den Speicher gelegt wird.\n",
    "00000000. Die 1 am Anfang wurde also einfach abgeschnitten.\n",
    "\n",
    "Das ist die Binärzahl für 0. Deshalb sehen wir in der Ausgabe 0 (siehe Biespiel unten). Die Binärzahl für 257 ist übrigens 100000001. Man sollte sich denken können, welche Zahl man in der Ausgabe sieht. Neuere Versionen von Numpy warnen vor dem Überlauf und lassen diese Operationen nicht zu.\n",
    "\n",
    "\n",
    "## Den richtigen Datentyp wählen\n",
    "Generell sollte man darauf achten, den richtigen Datentyp zu wählen. Immer int64 zu wählen ist allerdings ebensowenig richtig, weil das viel Speicherplatz verschwendet. \n",
    "Der Datentyp kann entweder als String angegeben werden oder als np-Konstante"
   ]
  },
  {
   "cell_type": "code",
   "execution_count": 2,
   "id": "af5d5982",
   "metadata": {},
   "outputs": [
    {
     "data": {
      "text/plain": [
       "(array([1., 2., 3.]), array([3., 4., 5.]))"
      ]
     },
     "execution_count": 2,
     "metadata": {},
     "output_type": "execute_result"
    }
   ],
   "source": [
    "import numpy as np\n",
    "x = np.array([1, 2, 3], dtype=\"float64\")\n",
    "y = np.array([3, 4, 5], dtype=np.float64)\n",
    "x, y"
   ]
  },
  {
   "cell_type": "markdown",
   "id": "002dd2c9",
   "metadata": {},
   "source": [
    "\n",
    "## Vorzeichenbehaftete Integer\n",
    "int8, int16, int32, int64\n",
    "\n",
    "int8 hat zum Beispiel den Wertebereich -128 to 127.    \n",
    "int32 hat zum Beispiel den Wertebereich -2147483648 to 2147483647   \n",
    "int64 hat den Wertebereich -9223372036854775808 to 9223372036854775807   \n",
    "\n",
    "## Vorzeichenlose Integer\n",
    "uint8 hat zum Beispiel den Wertebereich 0 - 255.    \n",
    "uint32 hat zum Beispiel den Wertebereich 0 - 4294967295       \n",
    "uint64 hat den Wertebereich 0 - $2^{64}-1$\n",
    "\n",
    "## Fließkommazahlen\n",
    "float32 \n",
    "und float64 \n"
   ]
  },
  {
   "cell_type": "code",
   "execution_count": 10,
   "id": "fb6ac0e8-ea79-47b3-9240-8b208f4cce9d",
   "metadata": {},
   "outputs": [
    {
     "data": {
      "text/plain": [
       "array([[4., 8.],\n",
       "       [2., 7.],\n",
       "       [9., 1.],\n",
       "       [5., 7.],\n",
       "       [6., 9.],\n",
       "       [3., 7.],\n",
       "       [8., 9.],\n",
       "       [5., 1.]], dtype=float32)"
      ]
     },
     "execution_count": 10,
     "metadata": {},
     "output_type": "execute_result"
    }
   ],
   "source": [
    "data = np.random.randint(1, 10, (8, 2)).astype(np.float32)\n",
    "data\n"
   ]
  },
  {
   "cell_type": "code",
   "execution_count": 11,
   "id": "a682c3e1",
   "metadata": {},
   "outputs": [
    {
     "ename": "OverflowError",
     "evalue": "Python integer 256 out of bounds for uint8",
     "output_type": "error",
     "traceback": [
      "\u001b[0;31m---------------------------------------------------------------------------\u001b[0m",
      "\u001b[0;31mOverflowError\u001b[0m                             Traceback (most recent call last)",
      "Cell \u001b[0;32mIn[11], line 4\u001b[0m\n\u001b[1;32m      1\u001b[0m \u001b[38;5;28;01mimport\u001b[39;00m \u001b[38;5;21;01mnumpy\u001b[39;00m \u001b[38;5;28;01mas\u001b[39;00m \u001b[38;5;21;01mnp\u001b[39;00m\n\u001b[1;32m      3\u001b[0m \u001b[38;5;66;03m# es wurden Elemente in die Liste gegeben, die nicht dem gewählten Datentyp uint8 entsprechen.\u001b[39;00m\n\u001b[0;32m----> 4\u001b[0m x \u001b[38;5;241m=\u001b[39m \u001b[43mnp\u001b[49m\u001b[38;5;241;43m.\u001b[39;49m\u001b[43marray\u001b[49m\u001b[43m(\u001b[49m\u001b[43m[\u001b[49m\u001b[38;5;241;43m255\u001b[39;49m\u001b[43m,\u001b[49m\u001b[43m \u001b[49m\u001b[38;5;241;43m256\u001b[39;49m\u001b[43m,\u001b[49m\u001b[43m \u001b[49m\u001b[38;5;241;43m257\u001b[39;49m\u001b[43m]\u001b[49m\u001b[43m,\u001b[49m\u001b[43m \u001b[49m\u001b[43mdtype\u001b[49m\u001b[38;5;241;43m=\u001b[39;49m\u001b[38;5;124;43m\"\u001b[39;49m\u001b[38;5;124;43muint8\u001b[39;49m\u001b[38;5;124;43m\"\u001b[39;49m\u001b[43m)\u001b[49m\n\u001b[1;32m      5\u001b[0m x\n",
      "\u001b[0;31mOverflowError\u001b[0m: Python integer 256 out of bounds for uint8"
     ]
    }
   ],
   "source": [
    "import numpy as np\n",
    "\n",
    "# es wurden Elemente in die Liste gegeben, die nicht dem gewählten Datentyp uint8 entsprechen.\n",
    "x = np.array([255, 256, 257], dtype=\"uint8\")\n",
    "x"
   ]
  },
  {
   "cell_type": "markdown",
   "id": "cff7ca65",
   "metadata": {},
   "source": [
    "## bestehendes Array in anderen Datentyp umwandeln mit astype\n",
    "Es ist einfach, ein bestehendes Array in einen anderen Datentyp zumzuwandeln. Dazu wählt man die Methode `astype`."
   ]
  },
  {
   "cell_type": "code",
   "execution_count": 12,
   "id": "9ef1b36d",
   "metadata": {},
   "outputs": [
    {
     "data": {
      "text/plain": [
       "array([255, 256, 257], dtype=int32)"
      ]
     },
     "execution_count": 12,
     "metadata": {},
     "output_type": "execute_result"
    }
   ],
   "source": [
    "# unsigned int16 Vektor in int32 umwandeln"
   ]
  },
  {
   "cell_type": "markdown",
   "id": "a311c100",
   "metadata": {},
   "source": [
    "## Datentyp für Unicode Strings\n",
    "Obwohl Numpy für numerische Operationen gedacht ist, stehen auch Datentypen für Unicode-Strings zur Verfügung. Ein String mit der Länge 6 (abcdef) hat zum Beispiel den Datentyp <U6."
   ]
  },
  {
   "cell_type": "code",
   "execution_count": 1,
   "id": "361cb8d5",
   "metadata": {},
   "outputs": [],
   "source": [
    "# Array mit Strings"
   ]
  },
  {
   "cell_type": "markdown",
   "id": "178ecb50-052a-44da-9c01-9855865f35b7",
   "metadata": {},
   "source": [
    "## Rundung\n",
    "Numpy nutzt das gleich Rundungsverfahren wie Python's built-in Funktion round: das mathematische Runden (ROUND_HALF_TO_EVEN)"
   ]
  },
  {
   "cell_type": "markdown",
   "id": "99225fd6-84cf-4ce2-9455-f1eb9f9aca23",
   "metadata": {},
   "source": [
    "### Mathematisches Runden (ROUND_HALF_TO_EVEN)"
   ]
  },
  {
   "cell_type": "code",
   "execution_count": 2,
   "id": "f59b23ab-eb45-4c6b-a8f6-cc236465b97c",
   "metadata": {},
   "outputs": [],
   "source": [
    "# normalverteilte 3 x 4 Matrix mit Pseudozufallszahlen"
   ]
  },
  {
   "cell_type": "markdown",
   "id": "bca60643-eb70-46a0-a57a-df19431f72f5",
   "metadata": {},
   "source": [
    "auf 3 Dezimalstellen gerundet"
   ]
  },
  {
   "cell_type": "code",
   "execution_count": 4,
   "id": "02f7dc54-be9b-4b92-a9ce-512f9e1d8929",
   "metadata": {},
   "outputs": [],
   "source": [
    "# auf 3 Nachkommastellen runden"
   ]
  },
  {
   "cell_type": "markdown",
   "id": "2c8e8baa-d2c0-4418-9825-9f8ab80d64fb",
   "metadata": {},
   "source": [
    "Alternativ geht auch folgendes:"
   ]
  },
  {
   "cell_type": "code",
   "execution_count": 20,
   "id": "ad16d5da-12f8-401b-a83b-9948d3bd9bc3",
   "metadata": {},
   "outputs": [
    {
     "data": {
      "text/plain": [
       "array([[-0.25, -2.06,  1.22, -2.89],\n",
       "       [-0.59, -1.34,  0.37, -0.4 ],\n",
       "       [-0.5 , -0.47, -0.15,  0.64]])"
      ]
     },
     "execution_count": 20,
     "metadata": {},
     "output_type": "execute_result"
    }
   ],
   "source": [
    "# Runden über die round-Methode des ndarray-Objekts"
   ]
  },
  {
   "cell_type": "markdown",
   "id": "49d18151-52a4-4be4-ba58-2c8d097d49ef",
   "metadata": {},
   "source": [
    "### kaufmännisches Runden\n",
    "Um kaufmännisches Runden zu implementieren, was selten nötig ist, muss man sich eine Befehlfsfunktion schreiben"
   ]
  },
  {
   "cell_type": "code",
   "execution_count": 5,
   "id": "13bce7a2-6f9d-4360-8827-bd92bbea9477",
   "metadata": {},
   "outputs": [],
   "source": [
    "def round_half_up(n, decimals=0):\n",
    "    multiplier = 10**decimals\n",
    "    return np.floor(n * multiplier + 0.5) / multiplier\n",
    "\n"
   ]
  }
 ],
 "metadata": {
  "kernelspec": {
   "display_name": "Python 3 (ipykernel)",
   "language": "python",
   "name": "python3"
  },
  "language_info": {
   "codemirror_mode": {
    "name": "ipython",
    "version": 3
   },
   "file_extension": ".py",
   "mimetype": "text/x-python",
   "name": "python",
   "nbconvert_exporter": "python",
   "pygments_lexer": "ipython3",
   "version": "3.12.4"
  }
 },
 "nbformat": 4,
 "nbformat_minor": 5
}
