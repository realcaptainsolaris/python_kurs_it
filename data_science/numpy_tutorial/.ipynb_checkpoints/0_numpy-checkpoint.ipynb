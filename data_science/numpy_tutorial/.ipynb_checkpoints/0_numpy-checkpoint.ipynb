{
 "cells": [
  {
   "cell_type": "markdown",
   "id": "567ef578-78f5-4d45-b65b-3f0ebc154c01",
   "metadata": {},
   "source": [
    "# Numpy Einführung"
   ]
  },
  {
   "cell_type": "code",
   "execution_count": 19,
   "id": "497b5669",
   "metadata": {},
   "outputs": [
    {
     "name": "stdout",
     "output_type": "stream",
     "text": [
      "The history saving thread hit an unexpected error (OperationalError('attempt to write a readonly database')).History will not be written to the database.\n"
     ]
    }
   ],
   "source": [
    "import numpy as np"
   ]
  },
  {
   "cell_type": "markdown",
   "id": "bf726986-113a-42f2-9f20-0f3ceb074169",
   "metadata": {},
   "source": [
    "## Erstellen eines Numpy Arrays"
   ]
  },
  {
   "cell_type": "code",
   "execution_count": 14,
   "id": "535de941",
   "metadata": {},
   "outputs": [],
   "source": [
    "# Die Elemente eines Numpy nd-Arrays sollten immer vom selben Datentyp sein\n",
    "..."
   ]
  },
  {
   "cell_type": "markdown",
   "id": "40fffa88-8b9e-475c-88a3-f5f146816045",
   "metadata": {},
   "source": [
    "### Array Dimension, Shape, Datentyp und Size"
   ]
  },
  {
   "cell_type": "code",
   "execution_count": 13,
   "id": "e8bd5aae",
   "metadata": {},
   "outputs": [],
   "source": [
    "# Array-Dimension, Shape, Datentyp und Size\n",
    "..."
   ]
  },
  {
   "cell_type": "code",
   "execution_count": 15,
   "id": "369a123d",
   "metadata": {},
   "outputs": [],
   "source": [
    "# Ein Array mit Integer und Floats. Numpy bildet alle Werte als float64 Bit ab\n",
    "..."
   ]
  },
  {
   "cell_type": "markdown",
   "id": "5b10849a",
   "metadata": {},
   "source": [
    "## Vektoren\n",
    "\n",
    "#### Spaltenvektor (m × 1-Matrix)\n",
    "Ein Spaltenvektor ist eine Matrix mit genau einer Spalte\n",
    "$\n",
    " \\vec{e}_1= \\left(\\begin{array}{c} 1 \\\\ 0 \\\\ 1 \\end{array}\\right)\n",
    "$\n",
    "\n",
    "\n",
    "#### Zeilenvektor ( 1 × n-Matrix)\n",
    " (Numpy Arrays sind per default Zeilenvektoren)   \n",
    "da ein Zeilenvektor die transponierte form eines Spaltenvektors ist, tragen sie das T im Namen:    \n",
    "$\n",
    " \\vec{x}{^T} = (x \\; y \\; z) \n",
    "$"
   ]
  },
  {
   "cell_type": "markdown",
   "id": "d604785a-21e1-489b-be89-a6b0f46b0160",
   "metadata": {},
   "source": [
    "## Matrizen\n",
    "\n",
    "Eine Matrix ist eine rechteckige Anordnung von Zahlen, Symbolen oder Ausdrücken, die in Zeilen und Spalten organisiert ist. Sie wird verwendet, um Daten kompakt darzustellen und erleichtert Berechnungen in Bereichen wie Algebra, Physik, Informatik und maschinellem Lernen.\n",
    "\n",
    "Eine 2x3 Matrix würde mathematisch so notiert werden:\n",
    "\n",
    "$ M = \\left( \\begin{matrix} 1 & 2 & 3 \\\\ 3 & 4 & 4 \\end{matrix} \\right) $\n",
    "\n"
   ]
  },
  {
   "cell_type": "code",
   "execution_count": 18,
   "id": "2ba797e1",
   "metadata": {},
   "outputs": [],
   "source": [
    "# Dimension und Shape eines 2-dimensionales Arrays. shape(2, 3) bedeutet: 2 Reihen, 3 Spalten\n",
    "..."
   ]
  },
  {
   "cell_type": "markdown",
   "id": "00fd824c",
   "metadata": {},
   "source": [
    "## Axis - der Achsenbegriff\n"
   ]
  },
  {
   "cell_type": "markdown",
   "id": "9937739a",
   "metadata": {},
   "source": [
    "\n",
    "## Arrays erstellen"
   ]
  },
  {
   "cell_type": "markdown",
   "id": "9b3bad7a",
   "metadata": {},
   "source": [
    "### Array mit gemischten Datentypen int und float"
   ]
  },
  {
   "cell_type": "code",
   "execution_count": 13,
   "id": "d129f594",
   "metadata": {},
   "outputs": [
    {
     "name": "stdout",
     "output_type": "stream",
     "text": [
      "[1.1 2.2 4.  2. ]\n",
      "shape:  (4,)\n",
      "dim:  1\n",
      "dtype:  float64\n"
     ]
    }
   ],
   "source": [
    "M = np.array([1.1, 2.2, 4, 2])\n",
    "print(M)\n",
    "print(\"shape: \", M.shape)\n",
    "print(\"dim: \", M.ndim)\n",
    "print(\"dtype: \", M.dtype)"
   ]
  },
  {
   "cell_type": "markdown",
   "id": "e89f911f",
   "metadata": {},
   "source": [
    "### Explizit Datentyp beim Erstellen des Arrays angeben"
   ]
  },
  {
   "cell_type": "code",
   "execution_count": 14,
   "id": "e1a9417d",
   "metadata": {},
   "outputs": [
    {
     "name": "stdout",
     "output_type": "stream",
     "text": [
      "[1. 2. 4. 2.]\n",
      "dtype:  float32\n"
     ]
    }
   ],
   "source": [
    "M = np.array([1, 2, 4, 2], dtype=\"float32\")\n",
    "print(M)\n",
    "print(\"dtype: \", M.dtype)"
   ]
  },
  {
   "cell_type": "markdown",
   "id": "5b376835",
   "metadata": {},
   "source": [
    "### Null Matrix (intrinsic numpy array)\n",
    "\n",
    "#### 2 x 2 Null-Matrix\n",
    "$ \\left( \\begin{matrix} 0 & 0 \\\\ 0 & 0 \\end{matrix} \\right) $"
   ]
  },
  {
   "cell_type": "code",
   "execution_count": 15,
   "id": "59bf137c",
   "metadata": {},
   "outputs": [
    {
     "data": {
      "text/plain": [
       "array([[0., 0.],\n",
       "       [0., 0.]])"
      ]
     },
     "execution_count": 15,
     "metadata": {},
     "output_type": "execute_result"
    }
   ],
   "source": [
    "N = np.zeros(shape=(2,2))\n",
    "N"
   ]
  },
  {
   "cell_type": "code",
   "execution_count": 16,
   "id": "d4d4d3e5",
   "metadata": {},
   "outputs": [
    {
     "data": {
      "text/plain": [
       "array([0, 0, 0, 0, 0, 0, 0, 0, 0, 0, 0], dtype=int32)"
      ]
     },
     "execution_count": 16,
     "metadata": {},
     "output_type": "execute_result"
    }
   ],
   "source": [
    "# eindimensionale Null-Matrix und Datentyp int32\n",
    "N = np.zeros(shape=(11,), dtype=\"int32\")\n",
    "N"
   ]
  },
  {
   "cell_type": "code",
   "execution_count": 17,
   "id": "13df84fe",
   "metadata": {},
   "outputs": [
    {
     "data": {
      "text/plain": [
       "array([[[0, 0],\n",
       "        [0, 0]],\n",
       "\n",
       "       [[0, 0],\n",
       "        [0, 0]]], dtype=int32)"
      ]
     },
     "execution_count": 17,
     "metadata": {},
     "output_type": "execute_result"
    }
   ],
   "source": [
    "# dreidimensionale Null-Matrix (Tensor)\n",
    "N = np.zeros(shape=(2,2,2), dtype=\"int32\")\n",
    "N"
   ]
  },
  {
   "cell_type": "markdown",
   "id": "8e7b2757",
   "metadata": {},
   "source": [
    "## Einheitsmatrix\n",
    "Eine spezielle Form ist die n × n-Einheitsmatrix, welche eine `Diagonalmatrix ist, deren Hauptdiagonalelemente alle gleich 1 sind`.\n",
    "\n",
    "Die Einheitsmatrix wird mit E bezeichnet.\n",
    "\n",
    "\n",
    "#### Einheitsmatrix 3. Ordnung\n",
    "$ E = \\left( \\begin{matrix} 1 & 0 & 0 \\\\ 0 & 1 & 0 \\\\ 0 & 0 & 1 \\end{matrix} \\right) $"
   ]
  },
  {
   "cell_type": "code",
   "execution_count": 18,
   "id": "c49adbc1",
   "metadata": {},
   "outputs": [
    {
     "data": {
      "text/plain": [
       "array([[1., 0., 0.],\n",
       "       [0., 1., 0.],\n",
       "       [0., 0., 1.]])"
      ]
     },
     "execution_count": 18,
     "metadata": {},
     "output_type": "execute_result"
    }
   ],
   "source": [
    "E = np.identity(3)\n",
    "E"
   ]
  },
  {
   "cell_type": "markdown",
   "id": "da432000",
   "metadata": {},
   "source": [
    "## Matrix mit Default-Werten\n",
    "\n",
    "$ M = \\left( \\begin{matrix} 42 & 42 & 42 \\\\ 42 & 42 & 42 \\\\ 42 & 42 & 42 \\end{matrix} \\right) $"
   ]
  },
  {
   "cell_type": "code",
   "execution_count": 19,
   "id": "3e3c1a14",
   "metadata": {},
   "outputs": [
    {
     "data": {
      "text/plain": [
       "array([[42, 42, 42],\n",
       "       [42, 42, 42],\n",
       "       [42, 42, 42]], dtype=int16)"
      ]
     },
     "execution_count": 19,
     "metadata": {},
     "output_type": "execute_result"
    }
   ],
   "source": [
    "M = np.full(shape=(3,3), fill_value=42, dtype=\"int16\")\n",
    "M"
   ]
  },
  {
   "cell_type": "markdown",
   "id": "bdd9acbc",
   "metadata": {},
   "source": [
    "## Diagonal-Matrix\n",
    "Als  m  ×  n-Diagonalmatrix  D  =  (dij)  wird  eine  Matrix  bezeichnet,  deren  Elemente\n",
    "außerhalb der Hauptdiagonale Null sind, bei der also gilt: dij = 0 für alle i ≠ j\n",
    "\n",
    "#### 3 x 3 Diagonalmatrix\n",
    "$\\left(  \\begin{array}{rrrr} \n",
    "2 & 0 & 0 \\\\ \n",
    "0 & 3 & 0 \\\\ \n",
    "0 & 0 & 1 \\\\ \n",
    "\\end{array} \\right) $"
   ]
  },
  {
   "cell_type": "code",
   "execution_count": 20,
   "id": "cdc0053b",
   "metadata": {},
   "outputs": [
    {
     "data": {
      "text/plain": [
       "array([[2, 0, 0],\n",
       "       [0, 3, 0],\n",
       "       [0, 0, 1]])"
      ]
     },
     "execution_count": 20,
     "metadata": {},
     "output_type": "execute_result"
    }
   ],
   "source": [
    "D = np.diag([2, 3, 1])\n",
    "D"
   ]
  },
  {
   "cell_type": "markdown",
   "id": "bb79c3fc",
   "metadata": {},
   "source": [
    "## Reihe anlegen mit Range\n",
    "Wir können mit Numpy ählich wie der range-Funktion aus Python auch eine Reihe anlegen. Dazu können wir die numpy-Methode `arange` nutzen, die identisch zur range-Funktion die drei Parameter Start, Stop (exklusive) und Schrittweite hat.\n",
    "\n",
    "Mit arange erstellte Arrays sind stehts eindimensional, haben also den Shape (n, )."
   ]
  },
  {
   "cell_type": "code",
   "execution_count": 21,
   "id": "485dff49",
   "metadata": {},
   "outputs": [
    {
     "data": {
      "text/plain": [
       "(array([0, 2, 4, 6, 8]), (5,))"
      ]
     },
     "execution_count": 21,
     "metadata": {},
     "output_type": "execute_result"
    }
   ],
   "source": [
    "R = np.arange(0, 10, 2)\n",
    "R, R.shape"
   ]
  },
  {
   "cell_type": "markdown",
   "id": "6d097e31",
   "metadata": {},
   "source": [
    "## Intervall anlegen mit linspace\n",
    "mit der Numpy-Methode `linspace` lässt sich einfach ein Intervall anlegen. Wichtige Argumente sind hier `endpoint`, das angibt, ob das Interval halboffen sein soll und `num`, dass die Anzahl der gleichgroßen Werte zwischen den Intervall-Grenzen angibt, d.h. die Abstände der Punkte sind gleichgroß. Defaultwert für num ist 50."
   ]
  },
  {
   "cell_type": "code",
   "execution_count": 22,
   "id": "97bfd801",
   "metadata": {},
   "outputs": [
    {
     "data": {
      "text/plain": [
       "array([1.  , 1.05, 1.1 , 1.15, 1.2 , 1.25, 1.3 , 1.35, 1.4 , 1.45, 1.5 ,\n",
       "       1.55, 1.6 , 1.65, 1.7 , 1.75, 1.8 , 1.85, 1.9 , 1.95])"
      ]
     },
     "execution_count": 22,
     "metadata": {},
     "output_type": "execute_result"
    }
   ],
   "source": [
    "# halboffenes Intervall zwischen 1 und 2 mit 20 Werten\n",
    "I = np.linspace(1, 2, num=20, endpoint=False)\n",
    "I"
   ]
  },
  {
   "cell_type": "code",
   "execution_count": 23,
   "id": "3aacf484",
   "metadata": {},
   "outputs": [
    {
     "data": {
      "text/plain": [
       "array([1.        , 1.11111111, 1.22222222, 1.33333333, 1.44444444,\n",
       "       1.55555556, 1.66666667, 1.77777778, 1.88888889, 2.        ])"
      ]
     },
     "execution_count": 23,
     "metadata": {},
     "output_type": "execute_result"
    }
   ],
   "source": [
    "# geschlossenes Intervall zwischen 1 und 2 mit 20 Werten\n",
    "I = np.linspace(1, 2, num=10)\n",
    "I"
   ]
  },
  {
   "cell_type": "markdown",
   "id": "31c3cad3",
   "metadata": {},
   "source": [
    "## Übungsaufgaben\n",
    "Erstelle eine 3 x 4 Null-Matrix     \n",
    "Erstelle ein geschlossenes Interval zwischen 1 und 20 mit 70 Abständen     \n",
    "Erstelle eine Diagonalmatrix mit den Werten 4, 2, 8, 1 auf der Diagonalen     "
   ]
  },
  {
   "cell_type": "code",
   "execution_count": null,
   "id": "91079e90-7027-47e1-a4cd-7fe38e5fe278",
   "metadata": {},
   "outputs": [],
   "source": []
  },
  {
   "cell_type": "code",
   "execution_count": null,
   "id": "6a838a92-34b3-410c-aeb9-eef2ff463221",
   "metadata": {},
   "outputs": [],
   "source": [
    "SIZE = 100\n",
    "\n",
    "# Create a Python List with 100 Integers\n",
    "mylist = range(SIZE)\n",
    "\n",
    "sys.getsizeof(1) # size of an integer in Python is 28 Bytes\n",
    "sys.getsizeof(1)* SIZE  # 2800\n",
    "\n",
    "# create a Numpy array\n",
    "numpy_array = np.arange(SIZE)\n",
    "numpy_array.itemsize # size of an integer in numpy is 4 Bytes\n",
    "numpy_array.itemsize  * SIZE # 400"
   ]
  }
 ],
 "metadata": {
  "kernelspec": {
   "display_name": "Python 3 (ipykernel)",
   "language": "python",
   "name": "python3"
  },
  "language_info": {
   "codemirror_mode": {
    "name": "ipython",
    "version": 3
   },
   "file_extension": ".py",
   "mimetype": "text/x-python",
   "name": "python",
   "nbconvert_exporter": "python",
   "pygments_lexer": "ipython3",
   "version": "3.12.4"
  },
  "vscode": {
   "interpreter": {
    "hash": "a0510decc67b34d5607519e9a5f35cf1d849611bea35f48ec007be6c04781e6e"
   }
  }
 },
 "nbformat": 4,
 "nbformat_minor": 5
}
