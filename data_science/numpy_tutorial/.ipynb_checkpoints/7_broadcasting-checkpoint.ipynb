{
 "cells": [
  {
   "cell_type": "markdown",
   "id": "2e8888ac",
   "metadata": {},
   "source": [
    "# Broadcasting\n",
    "Broadcasting in NumPy ermöglicht arithmetische Operationen zwischen Arrays unterschiedlicher Formen, indem kleinere Arrays automatisch an größere angepasst werden. Eine Dimension mit 1 wird entsprechend \"gestreckt\", um die Operation zu ermöglichen. Dadurch spart NumPy Speicher und Rechenzeit, ohne unnötige Kopien der Daten zu erstellen.\n",
    "\n",
    "![title](broadcasting_1.png)"
   ]
  },
  {
   "cell_type": "code",
   "execution_count": 2,
   "id": "b59ae412",
   "metadata": {},
   "outputs": [],
   "source": [
    "import numpy as np"
   ]
  },
  {
   "cell_type": "code",
   "execution_count": 6,
   "id": "55912aff",
   "metadata": {},
   "outputs": [
    {
     "name": "stdout",
     "output_type": "stream",
     "text": [
      "[2 4 6]\n",
      "[2 4 6]\n"
     ]
    }
   ],
   "source": [
    "a = np.array([1, 2, 3])\n",
    "b = np.array([2])\n",
    "\n",
    "result = a * b\n",
    "result\n",
    "\n",
    "x = a * 2\n",
    "print(x)\n",
    "print(result)"
   ]
  },
  {
   "cell_type": "markdown",
   "id": "c728a662",
   "metadata": {},
   "source": [
    "## 1) Arrays mit unterschiedlichem Shape addieren\n",
    "Arrays können miteinander addiert werden, wenn sie a) den gleichen Shape haben oder b) einer der Shapes 1 ist."
   ]
  },
  {
   "cell_type": "code",
   "execution_count": 1,
   "id": "02cc5d89",
   "metadata": {},
   "outputs": [
    {
     "data": {
      "text/plain": [
       "Ellipsis"
      ]
     },
     "execution_count": 1,
     "metadata": {},
     "output_type": "execute_result"
    }
   ],
   "source": [
    "..."
   ]
  },
  {
   "cell_type": "markdown",
   "id": "087fd31c",
   "metadata": {},
   "source": [
    "## 2) Skalar-Multiplikation\n",
    "Skalar zu Array-Broadcasting: Der Skalar wird auf die gesamte Form des Arrays erweitert.\n",
    "\n",
    "$a = 3$\n",
    "\n",
    "$ M = \\left( \\begin{matrix} 4 & 2 \\\\ 3 & 5 \\\\ 2 & 9 \\end{matrix} \\right) \\cdot a = \\left( \\begin{matrix} 12 & 6 \\\\ 9 & 15 \\\\ 6 & 27 \\end{matrix} \\right) $"
   ]
  },
  {
   "cell_type": "code",
   "execution_count": 2,
   "id": "147827a0",
   "metadata": {},
   "outputs": [
    {
     "data": {
      "text/plain": [
       "Ellipsis"
      ]
     },
     "execution_count": 2,
     "metadata": {},
     "output_type": "execute_result"
    }
   ],
   "source": [
    "M = np.array([[4, 2], [3, 5], [2, 9]])\n",
    "M * 3"
   ]
  },
  {
   "cell_type": "markdown",
   "id": "5f8ff9bd-70e8-41ac-b6ac-3b107daadd3d",
   "metadata": {},
   "source": [
    "## Übungsaufgabe: Temperaturumrechnung für mehrere Städte\n",
    "\n",
    "Gegeben sind die die Tagesdurchschnittstemperaturen (in °C) für mehrere Städte über eine Woche in einem 2D-Array vorliegen. Deine Aufgabe ist es, diese Temperaturen mithilfe von Broadcasting in Fahrenheit umzurechnen."
   ]
  },
  {
   "cell_type": "code",
   "execution_count": 3,
   "id": "97df9869-d401-4575-a1a2-1deda283e32e",
   "metadata": {},
   "outputs": [],
   "source": [
    "import numpy as np\n",
    "\n",
    "# Temperaturen in Grad Celsius für 4 Städte über 7 Tage\n",
    "temperatures_celsius = np.array([\n",
    "    [15, 17, 20, 21, 19, 18, 16],  # Stadt 1\n",
    "    [10, 12, 15, 14, 13, 11, 9],   # Stadt 2\n",
    "    [25, 27, 28, 29, 30, 26, 24],  # Stadt 3\n",
    "    [5, 7, 10, 12, 8, 6, 4]        # Stadt 4\n",
    "])\n",
    "\n",
    "# TODO: Konvertiere die Temperaturen in Fahrenheit\n",
    "# Formel: Fahrenheit = Celsius * 9/5 + 32\n",
    "\n"
   ]
  },
  {
   "cell_type": "markdown",
   "id": "cdf8d44f-12e0-4fa9-8f41-18747e4384d7",
   "metadata": {},
   "source": [
    "### Erwartete Ausgabe\n",
    "\n",
    "Temperaturen in Fahrenheit:\n",
    "\n",
    "[[59.   62.6  68.   69.8  66.2  64.4  60.8]   \n",
    " [50.   53.6  59.   57.2  55.4  51.8  48.2]     \n",
    " [77.   80.6  82.4  84.2  86.   78.8  75.2]     \n",
    " [41.   44.6  50.   53.6  46.4  42.8  39.2]]    \n"
   ]
  }
 ],
 "metadata": {
  "kernelspec": {
   "display_name": "Python 3 (ipykernel)",
   "language": "python",
   "name": "python3"
  },
  "language_info": {
   "codemirror_mode": {
    "name": "ipython",
    "version": 3
   },
   "file_extension": ".py",
   "mimetype": "text/x-python",
   "name": "python",
   "nbconvert_exporter": "python",
   "pygments_lexer": "ipython3",
   "version": "3.12.4"
  }
 },
 "nbformat": 4,
 "nbformat_minor": 5
}
