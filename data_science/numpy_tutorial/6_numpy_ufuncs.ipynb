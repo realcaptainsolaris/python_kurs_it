{
 "cells": [
  {
   "cell_type": "markdown",
   "id": "1c04fc0c",
   "metadata": {},
   "source": [
    "# Numpy uFuncs - Universelle Funktionen\n",
    "\n",
    "Auf Numpy-Arrays können mit Numpy Universellen Funktionen elementweise Operationen in  hoher Geschwindigkeit ausgeführt werden. Der Grund ist, dass die Operationen vektorisiert werden, d.h. durch die CPU spezialiserte, parallele Abarbeitung von Operationen stattfindet (SIMD, Single Instruction, Multiple Data). \n",
    "\n",
    "Siehe auch: https://de.wikipedia.org/wiki/Flynnsche_Klassifikation\n",
    "\n",
    "## Simple arithmetische Operatoren\n",
    "Arithmetische Operatoren sind in Numpy als uFunctions implementiert und operieren auf allen Elementen."
   ]
  },
  {
   "cell_type": "code",
   "execution_count": 1,
   "id": "35ffe608",
   "metadata": {},
   "outputs": [],
   "source": [
    "import numpy as np\n",
    "\n",
    "a = np.array([1, 1])\n",
    "b = np.array([2, 3])\n",
    "\n",
    "# Basic operations\n",
    "\n",
    "# oder mit Operatoren\n"
   ]
  },
  {
   "cell_type": "markdown",
   "id": "d1d35d93-8cf7-464a-b1bc-5fd85e36dddb",
   "metadata": {},
   "source": [
    "## Skalarmultiplikation\n",
    "\n",
    " Dabei wird jeder Eintrag des Vektors mit dem Skalar (in diesem Fall 5) multipliziert."
   ]
  },
  {
   "cell_type": "code",
   "execution_count": 6,
   "id": "6f7ed437",
   "metadata": {},
   "outputs": [
    {
     "data": {
      "text/plain": [
       "(array([1, 2, 3]),\n",
       " array([[1, 2, 3],\n",
       "        [3, 4, 5]]))"
      ]
     },
     "execution_count": 6,
     "metadata": {},
     "output_type": "execute_result"
    }
   ],
   "source": [
    "z = np.array([1, 2, 3])\n",
    "y = np.array([[1, 2, 3], [3, 4, 5]])\n",
    "# Multiplizieren aller Werte von z und y mit dem Skalar 5\n",
    "\n",
    "z, y"
   ]
  },
  {
   "cell_type": "markdown",
   "id": "fcc9f6c7",
   "metadata": {},
   "source": [
    "### quadratische gleichung in Numpy implementiert\n",
    "$f(x) = -2x^2 + 3$    \n",
    "$f: \\mathbb{R} → \\mathbb{R}$    \n",
    "(Definitionsbereich: Menge der reelen Zahlen, Wertebereich: Menge der reelen Zahlen)\n",
    "\n",
    "\n",
    "1. **Elementweise Potenzierung**: Jedes Element des Vektors \\(x\\) wird quadriert (\\(x^2\\)).\n",
    "2. **Skalarmultiplikation**: Das quadrierte Ergebnis wird mit \\(-2\\) multipliziert, wodurch die Werte skaliert und negativiert werden (\\(-2x^2\\)).\n",
    "3. **Addition eines Skalars**: Zum Ergebnis wird der Skalar \\(3\\) addiert, wodurch die Funktion um \\(3\\) auf der y-Achse verschoben wird."
   ]
  },
  {
   "cell_type": "code",
   "execution_count": 8,
   "id": "3a6d6c36",
   "metadata": {},
   "outputs": [],
   "source": [
    "# Aufgabe: quadratische Gleichung schreiben"
   ]
  },
  {
   "cell_type": "code",
   "execution_count": 9,
   "id": "6d5d8e69",
   "metadata": {},
   "outputs": [],
   "source": [
    "# mit Linspace ein Intervall zwischen -20 und 20 erstellen und Plotten\n",
    "# und Funktion plotten"
   ]
  },
  {
   "cell_type": "markdown",
   "id": "5f7ea5e7",
   "metadata": {},
   "source": [
    "## Elemente eines Arrays durch einen Wert teilen"
   ]
  },
  {
   "cell_type": "code",
   "execution_count": 10,
   "id": "c6397e54",
   "metadata": {},
   "outputs": [],
   "source": [
    "# Division"
   ]
  },
  {
   "cell_type": "markdown",
   "id": "76ed1b69",
   "metadata": {},
   "source": [
    "## Zwei mehrdimensionale Arrays elementweise multiplizieren\n",
    "eine normale Multiplikation ist keine Matrix-Multiplikation, sondern eine elementweise Multiplikation. Hier ist darauf zu achten, dass die Shapes der beiden Arrays übereinstimmen.\n",
    "\n",
    "$ A = \\left( \\begin{matrix} 2 & 3 \\\\ 4 & 5 \\end{matrix} \\right) $\n",
    "$ B = \\left( \\begin{matrix} 1 & 2 \\\\ 3 & 4 \\end{matrix} \\right) $\n",
    "$ C = \\left( \\begin{matrix} 2 & 6 \\\\ 12 & 20 \\end{matrix} \\right) $"
   ]
  },
  {
   "cell_type": "code",
   "execution_count": 7,
   "id": "9cbf90b2",
   "metadata": {},
   "outputs": [
    {
     "data": {
      "text/plain": [
       "array([[ 2,  6],\n",
       "       [12, 20]])"
      ]
     },
     "execution_count": 7,
     "metadata": {},
     "output_type": "execute_result"
    }
   ],
   "source": [
    "A = np.array([[2, 3], [4, 5]])\n",
    "B = np.array([[1, 2], [3, 4]])\n",
    "C = A * B\n",
    "C"
   ]
  },
  {
   "cell_type": "markdown",
   "id": "5cb73c26",
   "metadata": {},
   "source": [
    "## Matrixmultiplikation\n",
    "\n",
    "### Regel der Matrix-Multiplikation\n",
    "\n",
    "Die Matrix-Multiplikation ist definiert, wenn die **Anzahl der Spalten der ersten Matrix** gleich der **Anzahl der Zeilen der zweiten Matrix** ist.\n",
    "\n",
    "#### Mathematische Regel:\n",
    "Wenn \\( A \\) eine Matrix der Dimension \\( m \\times n \\) ist und \\( B \\) eine Matrix der Dimension \\( n \\times p \\), dann ist das Produkt \\( C = A \\cdot B \\) eine Matrix der Dimension \\( m \\times p \\).\n",
    "\n",
    "#### Berechnung eines Eintrags:\n",
    "Der Eintrag \\( c_{ij} \\) in der \\(i\\)-ten Zeile und \\(j\\)-ten Spalte der Matrix \\(C\\) wird berechnet als:\n",
    "\\[\n",
    "c_{ij} = \\sum_{k=1}^n a_{ik} \\cdot b_{kj}\n",
    "\\]\n",
    "Dabei wird das **Skalarprodukt** der \\(i\\)-ten Zeile von \\(A\\) mit der \\(j\\)-ten Spalte von \\(B\\) gebildet.\n",
    "\n",
    "---\n",
    "\n",
    "### Beispiel:\n",
    "Sei $ A $ eine $2 \\times 3$-Matrix:\n",
    "$$\n",
    "A = \\begin{pmatrix} 1 & 2 & 3 \\\\ 4 & 5 & 6 \\end{pmatrix}\n",
    "$$\n",
    "\n",
    "und $ B $ eine $3 \\times 2$-Matrix:\n",
    "\n",
    "$$\n",
    "B = \\begin{pmatrix} 7 & 8 \\\\ 9 & 10 \\\\ 11 & 12 \\end{pmatrix}\n",
    "$$\n",
    "\n",
    "\n",
    "Dann ist das Produkt $ C = A \\cdot B $ eine $2 \\times 2$-Matrix:\n",
    "$$\n",
    "C = \\begin{pmatrix} (1\\cdot7 + 2\\cdot9 + 3\\cdot11) & (1\\cdot8 + 2\\cdot10 + 3\\cdot12) \\\\ (4\\cdot7 + 5\\cdot9 + 6\\cdot11) & (4\\cdot8 + 5\\cdot10 + 6\\cdot12) \\end{pmatrix}\n",
    "$$\n",
    "\n",
    "$$\n",
    "C = \\begin{pmatrix} 58 & 64 \\\\ 139 & 154 \\end{pmatrix}\n",
    "$$\n",
    "\n",
    "---\n",
    "\n",
    "### Hinweise:\n",
    "1. Die Matrix-Multiplikation ist **nicht kommutativ**: $ A \\cdot B \\neq B \\cdot A $ (in der Regel).\n",
    "2. Die Matrix-Multiplikation ist **assoziativ**: $ (A \\cdot B) \\cdot C = A \\cdot (B \\cdot C) $.\n",
    "3. Die Matrix-Multiplikation ist **distributiv**: $ A \\cdot (B + C) = A \\cdot B + A \\cdot C $.\n",
    "\n",
    "$ A = \\left( \\begin{matrix} 2 & 3 & 4 \\\\ 4 & 5 & 1 \\end{matrix} \\right) $\n",
    "$ B = \\left( \\begin{matrix} 1 & 2 \\\\ 3 & 4 \\\\ 2 & 4 \\end{matrix} \\right) $\n",
    "$ C = \\left( \\begin{matrix} 19 & 32 \\\\ 21 & 32 \\end{matrix} \\right) $"
   ]
  },
  {
   "cell_type": "code",
   "execution_count": 13,
   "id": "05cf8cd1",
   "metadata": {},
   "outputs": [
    {
     "name": "stdout",
     "output_type": "stream",
     "text": [
      "[[2 3 4]\n",
      " [4 5 1]]\n",
      "--\n",
      "[[1 2]\n",
      " [3 4]\n",
      " [2 4]]\n",
      "--\n",
      "[[19 32]\n",
      " [21 32]]\n",
      "[[10 13  6]\n",
      " [22 29 16]\n",
      " [20 26 12]]\n"
     ]
    }
   ],
   "source": [
    "A = np.array([[2, 3, 4], [4, 5, 1]])\n",
    "B = np.array([[1, 2], [3, 4], [2, 4]])\n",
    "C = A @ B\n",
    "print(A)\n",
    "print(\"--\")\n",
    "print(B)\n",
    "print(\"--\")\n",
    "print(C)\n",
    "C = B @ A\n",
    "print(C)"
   ]
  },
  {
   "cell_type": "markdown",
   "id": "31ae1bb5",
   "metadata": {},
   "source": [
    "## Absolute Werte der Elemente einer Matrix mit abs"
   ]
  },
  {
   "cell_type": "code",
   "execution_count": 9,
   "id": "8edb92c6",
   "metadata": {},
   "outputs": [
    {
     "data": {
      "text/plain": [
       "array([1.71331339, 5.45842897, 1.72092464, 7.25323411, 6.02620421,\n",
       "       6.09216099, 5.85655394, 6.08106993, 0.53579987, 3.5138726 ])"
      ]
     },
     "execution_count": 9,
     "metadata": {},
     "output_type": "execute_result"
    }
   ],
   "source": [
    "x = np.random.normal(loc=1, scale=5, size=10)\n",
    "absolute_values = np.abs(x)\n",
    "absolute_values"
   ]
  },
  {
   "cell_type": "code",
   "execution_count": null,
   "id": "7836ac77",
   "metadata": {},
   "outputs": [],
   "source": []
  },
  {
   "cell_type": "markdown",
   "id": "68804f48",
   "metadata": {},
   "source": [
    "## Größter gemeinsamer Teiler"
   ]
  },
  {
   "cell_type": "code",
   "execution_count": 10,
   "id": "e849645b",
   "metadata": {},
   "outputs": [
    {
     "name": "stdout",
     "output_type": "stream",
     "text": [
      "[[2 6]\n",
      " [4 8]]\n",
      "[[ 1  9]\n",
      " [ 3 16]]\n"
     ]
    },
    {
     "data": {
      "text/plain": [
       "array([[1, 3],\n",
       "       [1, 8]])"
      ]
     },
     "execution_count": 10,
     "metadata": {},
     "output_type": "execute_result"
    }
   ],
   "source": [
    "A = np.array([[2, 6], [4, 8]])\n",
    "B = np.array([[1, 9], [3, 16]])\n",
    "print(A)\n",
    "print(B)\n",
    "np.gcd(A, B)"
   ]
  },
  {
   "cell_type": "markdown",
   "id": "bfea49dc",
   "metadata": {},
   "source": [
    "## kleinstes gemeinsames Vielfaches"
   ]
  },
  {
   "cell_type": "code",
   "execution_count": 11,
   "id": "1b38b027",
   "metadata": {},
   "outputs": [
    {
     "name": "stdout",
     "output_type": "stream",
     "text": [
      "[[2 6]\n",
      " [4 8]]\n",
      "[[ 1  9]\n",
      " [ 3 16]]\n"
     ]
    },
    {
     "data": {
      "text/plain": [
       "array([[ 2, 18],\n",
       "       [12, 16]])"
      ]
     },
     "execution_count": 11,
     "metadata": {},
     "output_type": "execute_result"
    }
   ],
   "source": [
    "A = np.array([[2, 6], [4, 8]])\n",
    "B = np.array([[1, 9], [3, 16]])\n",
    "print(A)\n",
    "print(B)\n",
    "np.lcm(A, B)"
   ]
  },
  {
   "cell_type": "markdown",
   "id": "7254066c",
   "metadata": {},
   "source": [
    "## Modulo"
   ]
  },
  {
   "cell_type": "code",
   "execution_count": 12,
   "id": "afcc05b5",
   "metadata": {},
   "outputs": [
    {
     "name": "stdout",
     "output_type": "stream",
     "text": [
      "[[2 6]\n",
      " [4 8]]\n",
      "[[ 1  9]\n",
      " [ 3 16]]\n"
     ]
    },
    {
     "data": {
      "text/plain": [
       "array([[0, 6],\n",
       "       [1, 8]])"
      ]
     },
     "execution_count": 12,
     "metadata": {},
     "output_type": "execute_result"
    }
   ],
   "source": [
    "\n",
    "A = np.array([[2, 6], [4, 8]])\n",
    "B = np.array([[1, 9], [3, 16]])\n",
    "print(A)\n",
    "print(B)\n",
    "A % B"
   ]
  },
  {
   "cell_type": "markdown",
   "id": "df7be223",
   "metadata": {},
   "source": [
    "## Arithmetische Vergleichsfunktionen\n",
    "\n",
    "Arithmetische Vergleichsfunktionen in NumPy ermöglichen elementweise Vergleiche zwischen Arrays oder zwischen einem Array und einem Skalar. Beispiele sind **größer** \\((>)\\), **kleiner gleich** \\((\\leq)\\), oder **gleich** \\((==)\\), die jeweils ein Boolesches Array zurückgeben. Neben den Funktionen wie `np.greater(a, b)` oder `np.equal(a, b)` kann auch die **Operatorenschreibweise** direkt verwendet werden, z. B. `a > b` oder `a == b`, da NumPy diese Operatoren überlädt und äquivalent ausführt.\n"
   ]
  },
  {
   "cell_type": "code",
   "execution_count": 14,
   "id": "53cb241c",
   "metadata": {},
   "outputs": [
    {
     "data": {
      "text/plain": [
       "array([[False,  True],\n",
       "       [False,  True]])"
      ]
     },
     "execution_count": 14,
     "metadata": {},
     "output_type": "execute_result"
    },
    {
     "name": "stdout",
     "output_type": "stream",
     "text": [
      "The history saving thread hit an unexpected error (OperationalError('attempt to write a readonly database')).History will not be written to the database.\n"
     ]
    }
   ],
   "source": [
    "A = np.array([[2, 6], [4, 8]])\n",
    "B = np.array([[1, 9], [3, 16]])\n",
    "\n",
    "A < B"
   ]
  },
  {
   "cell_type": "code",
   "execution_count": 15,
   "id": "515590b1",
   "metadata": {},
   "outputs": [
    {
     "data": {
      "text/plain": [
       "(array([[ True, False],\n",
       "        [ True, False]]),\n",
       " array([[ True,  True],\n",
       "        [ True,  True]]))"
      ]
     },
     "execution_count": 15,
     "metadata": {},
     "output_type": "execute_result"
    }
   ],
   "source": [
    "A = np.array([[2, 6], [4, 8]])\n",
    "B = np.array([[1, 9], [3, 16]])\n",
    "\n",
    "A >= B, A != B"
   ]
  },
  {
   "cell_type": "markdown",
   "id": "cf5723d2",
   "metadata": {},
   "source": [
    "## Trigonometrische Funktionen"
   ]
  },
  {
   "cell_type": "code",
   "execution_count": 13,
   "id": "b58457dc",
   "metadata": {},
   "outputs": [
    {
     "data": {
      "text/plain": [
       "(array([ 0.00000000e+00,  6.42787610e-01,  9.84807753e-01,  8.66025404e-01,\n",
       "         3.42020143e-01, -3.42020143e-01, -8.66025404e-01, -9.84807753e-01,\n",
       "        -6.42787610e-01, -2.44929360e-16]),\n",
       " array([ 1.        ,  0.76604444,  0.17364818, -0.5       , -0.93969262,\n",
       "        -0.93969262, -0.5       ,  0.17364818,  0.76604444,  1.        ]))"
      ]
     },
     "execution_count": 13,
     "metadata": {},
     "output_type": "execute_result"
    }
   ],
   "source": [
    "theta = np.linspace(0, 2 * np.pi, 10)\n",
    "sine = np.sin(theta)\n",
    "cos = np.cos(theta)\n",
    "sine, cos"
   ]
  },
  {
   "cell_type": "markdown",
   "id": "b317043e-4b9a-459e-b4c1-48c1200a7484",
   "metadata": {},
   "source": [
    "# Aufgabe: Gewichtete Features berechnen\n",
    "\n",
    "### Beschreibung:\n",
    "In Machine Learning werden Feature-Matrizen oft mit Gewichten skaliert, um die Bedeutung einzelner Features zu verändern. Du hast eine Feature-Matrix und eine Gewichtsmatrix, und du sollst die gewichtete Feature-Matrix berechnen, indem du die beiden Matrizen elementweise multiplizierst."
   ]
  },
  {
   "cell_type": "code",
   "execution_count": 11,
   "id": "8e25940c-f7d4-470e-b01a-fd6301690e8e",
   "metadata": {},
   "outputs": [
    {
     "name": "stdout",
     "output_type": "stream",
     "text": [
      "Original Feature-Matrix:\n",
      "[[ 1  2  3  4]\n",
      " [ 5  6  7  8]\n",
      " [ 9 10 11 12]]\n",
      "\n",
      "Gewichtsmatrix:\n",
      "[[0.5 1.  1.5 2. ]]\n",
      "\n",
      "Gewichtete Feature-Matrix:\n",
      "Ellipsis\n"
     ]
    }
   ],
   "source": [
    "import numpy as np\n",
    "\n",
    "# Feature-Matrix (z.B. 3 Samples mit 4 Features)\n",
    "features = np.array([[1, 2, 3, 4],\n",
    "                     [5, 6, 7, 8],\n",
    "                     [9, 10, 11, 12]])\n",
    "\n",
    "# Gewichtsmatrix (jedes Feature hat ein Gewicht)\n",
    "weights = np.array([[0.5, 1.0, 1.5, 2.0]])\n",
    "\n",
    "# TODO: Berechne die gewichtete Feature-Matrix\n",
    "weighted_features = ...\n",
    "\n",
    "print(\"Original Feature-Matrix:\")\n",
    "print(features)\n",
    "\n",
    "print(\"\\nGewichtsmatrix:\")\n",
    "print(weights)\n",
    "\n",
    "print(\"\\nGewichtete Feature-Matrix:\")\n",
    "print(weighted_features)\n"
   ]
  },
  {
   "cell_type": "markdown",
   "id": "f59e2122-93d5-437c-9727-9688cea638a8",
   "metadata": {},
   "source": [
    "## erwartete Ausgabe\n",
    "\n",
    "Original Feature-Matrix:\n",
    "\n",
    "[    \n",
    "[ 1  2  3  4]    \n",
    " [ 5  6  7  8]    \n",
    " [ 9 10 11 12]    \n",
    "]   \n",
    "\n",
    "Gewichtsmatrix:\n",
    "\n",
    "[[0.5 1.  1.5 2. ]]\n",
    "\n",
    "Gewichtete Feature-Matrix:\n",
    "\n",
    "[[ 0.5  2.   4.5  8. ]    \n",
    " [ 2.5  6.   10.5 16. ]    \n",
    " [ 4.5 10.  16.5 24. ]]    \n"
   ]
  }
 ],
 "metadata": {
  "kernelspec": {
   "display_name": "Python 3 (ipykernel)",
   "language": "python",
   "name": "python3"
  },
  "language_info": {
   "codemirror_mode": {
    "name": "ipython",
    "version": 3
   },
   "file_extension": ".py",
   "mimetype": "text/x-python",
   "name": "python",
   "nbconvert_exporter": "python",
   "pygments_lexer": "ipython3",
   "version": "3.12.4"
  }
 },
 "nbformat": 4,
 "nbformat_minor": 5
}
