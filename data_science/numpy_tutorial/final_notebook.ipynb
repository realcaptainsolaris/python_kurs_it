{
 "cells": [
  {
   "cell_type": "code",
   "execution_count": null,
   "id": "72c771f9",
   "metadata": {},
   "outputs": [],
   "source": [
    "import numpy as np"
   ]
  },
  {
   "cell_type": "code",
   "execution_count": null,
   "id": "b982ab4f",
   "metadata": {},
   "outputs": [],
   "source": [
    "# Definiere ein Array mit Zahlen"
   ]
  },
  {
   "cell_type": "markdown",
   "id": "2de83611",
   "metadata": {},
   "source": [
    "## Vektoren\n",
    "\n",
    "#### Spaltenvektor (m × 1-Matrix)\n",
    "Ein Spaltenvektor ist eine Matrix mit genau einer Spalte\n",
    "$$\n",
    " \\vec{e}_1= \\left(\\begin{array}{c} 1 \\\\ 0 \\\\ 1 \\end{array}\\right)\n",
    "$$\n",
    "\n",
    "#### Zeilenvektor ( 1 × n-Matrix)\n",
    " (Numpy Arrays sind per default Zeilenvektoren)\n",
    "da ein Zeilenvektor die transponierte Form eines Spaltenvektors ist, tragen sie das T im Namen:\n",
    "$$\n",
    " \\vec{x}{^T} = (x \\; y \\; z) \n",
    "$$"
   ]
  },
  {
   "cell_type": "code",
   "execution_count": null,
   "id": "3ede44d1",
   "metadata": {},
   "outputs": [],
   "source": [
    "# Array-Dimension und Eigenschaften\n",
    "# Nutze x.ndim, x.shape, x.dtype, x.size"
   ]
  },
  {
   "cell_type": "markdown",
   "id": "f8e25f1e",
   "metadata": {},
   "source": [
    "## Axis - der Achsenbegriff\n",
    "\n",
    "![title](numpy-arrays-have-axes.webp)"
   ]
  },
  {
   "cell_type": "markdown",
   "id": "440ae578",
   "metadata": {},
   "source": [
    "## Arrays erstellen"
   ]
  },
  {
   "cell_type": "code",
   "execution_count": null,
   "id": "1058e3a0",
   "metadata": {},
   "outputs": [],
   "source": [
    "# Erstelle ein Array mit gemischten Datentypen und überprüfe die Eigenschaften"
   ]
  },
  {
   "cell_type": "markdown",
   "id": "9aab8793",
   "metadata": {},
   "source": [
    "### Null Matrix (intrinsic numpy array)\n",
    "\n",
    "#### 2 x 2 Null-Matrix\n",
    "$$\n",
    " \\left( \\begin{matrix} 0 & 0 \\\\ 0 & 0 \\end{matrix} \\right) \n",
    "$$"
   ]
  },
  {
   "cell_type": "code",
   "execution_count": null,
   "id": "fd154e14",
   "metadata": {},
   "outputs": [],
   "source": [
    "# Erstelle eine Nullmatrix mit np.zeros(shape=(2, 2))"
   ]
  },
  {
   "cell_type": "markdown",
   "id": "29548ff3",
   "metadata": {},
   "source": [
    "## Einheitsmatrix\n",
    "Eine spezielle Form ist die n × n-Einheitsmatrix, welche eine `Diagonalmatrix ist, deren Hauptdiagonalelemente alle gleich 1 sind`.\n",
    "Die Einheitsmatrix wird mit E bezeichnet.\n",
    "\n",
    "#### Einheitsmatrix 3. Ordnung\n",
    "$$\n",
    " E = \\left( \\begin{matrix} 1 & 0 & 0 \\\\ 0 & 1 & 0 \\\\ 0 & 0 & 1 \\end{matrix} \\right) \n",
    "$$"
   ]
  },
  {
   "cell_type": "code",
   "execution_count": null,
   "id": "1ba45c7c",
   "metadata": {},
   "outputs": [],
   "source": [
    "# Erstelle eine Einheitsmatrix mit np.identity()"
   ]
  },
  {
   "cell_type": "markdown",
   "id": "a501a591",
   "metadata": {},
   "source": [
    "## Matrix mit Default-Werten\n",
    "\n",
    "$$\n",
    " M = \\left( \\begin{matrix} 42 & 42 & 42 \\\\ 42 & 42 & 42 \\\\ 42 & 42 & 42 \\end{matrix} \\right) \n",
    "$$"
   ]
  },
  {
   "cell_type": "code",
   "execution_count": null,
   "id": "c1096fc2",
   "metadata": {},
   "outputs": [],
   "source": [
    "# Erstelle eine Matrix mit Default-Werten np.full(shape=(3,3), fill_value=42)"
   ]
  },
  {
   "cell_type": "markdown",
   "id": "23f41a7f",
   "metadata": {},
   "source": [
    "## Diagonal-Matrix\n",
    "Als  m  ×  n-Diagonalmatrix  D  =  (dij)  wird  eine  Matrix  bezeichnet,  deren  Elemente\n",
    "außerhalb der Hauptdiagonale Null sind, bei der also gilt: dij = 0 für alle i ≠ j\n",
    "\n",
    "#### 3 x 3 Diagonalmatrix\n",
    "$$\n",
    "\\left(  \\begin{array}{rrrr} \n",
    "2 & 0 & 0 \\\\ \n",
    "0 & 3 & 0 \\\\ \n",
    "0 & 0 & 1 \\\\ \n",
    "\\end{array} \\right) \n",
    "$$"
   ]
  },
  {
   "cell_type": "code",
   "execution_count": null,
   "id": "b822b618",
   "metadata": {},
   "outputs": [],
   "source": [
    "# Erstelle eine Diagonalmatrix mit np.diag()"
   ]
  },
  {
   "cell_type": "markdown",
   "id": "d3f92ee8",
   "metadata": {},
   "source": [
    "## Übungsaufgaben\n",
    "- Erstelle eine 3x4 Nullmatrix.\n",
    "- Erstelle ein geschlossenes Intervall zwischen 1 und 20 mit 70 Abständen.\n",
    "- Erstelle eine Diagonalmatrix mit den Werten 4, 2, 8, 1 auf der Diagonalen."
   ]
  }
 ],
 "metadata": {
  "kernelspec": {
   "display_name": "Python 3 (ipykernel)",
   "language": "python",
   "name": "python3"
  },
  "language_info": {
   "codemirror_mode": {
    "name": "ipython",
    "version": 3
   },
   "file_extension": ".py",
   "mimetype": "text/x-python",
   "name": "python",
   "nbconvert_exporter": "python",
   "pygments_lexer": "ipython3",
   "version": "3.12.4"
  }
 },
 "nbformat": 4,
 "nbformat_minor": 5
}
