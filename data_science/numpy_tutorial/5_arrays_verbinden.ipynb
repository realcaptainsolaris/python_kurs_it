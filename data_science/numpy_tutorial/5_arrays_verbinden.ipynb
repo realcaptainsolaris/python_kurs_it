{
 "cells": [
  {
   "cell_type": "markdown",
   "id": "da9cb10e",
   "metadata": {},
   "source": [
    "# Numpy Arrays verbinden\n",
    "Um aus zwei oder mehreren Arrays einen neuen gemeinsamen Array zu bilden, stehen uns mehrere Möglichkeiten zur Verfügung.\n",
    "\n"
   ]
  },
  {
   "cell_type": "markdown",
   "id": "579786cb",
   "metadata": {},
   "source": [
    "## Concatenate von ein- und mehrdimensionalen Arrays\n",
    "Mit der Methode `concatenate` lassen sich ein- und mehrdimensionale Arrays zu einem Array verbinden. Wichtig zu verstehen ist hier der Achsenbegriff (axis). Axis 0 bezeichnet die Zeilen (rows), während Axis 1 die Spalten bezeichnet. \n",
    "\n",
    "**Generell kann man sagen: Der Shape des neuen Arrays verändert sich nur an der Achse, an dem die Arrays zusammengefügt werden**.\n",
    "\n",
    "**Es können nur Arrays gleichen Shapes (gleicher Dimension) an der Nicht-Konkatenierungsachse konkateniert werden**\n",
    "\n",
    "![title](numpy-arrays-have-axes.webp)"
   ]
  },
  {
   "cell_type": "markdown",
   "id": "daceedd8",
   "metadata": {},
   "source": [
    "## Concatenate von zwei zweidimensionalen Arrays an Axis 0\n",
    "Wenn wir concatenate mit axis=0 durchführen, werden die Arrays \"untereinandert\" zusammengefügt. Das führt dazu, dass der Shape der Columns (Spalten) gleich bleibt, sich aber der Zeilenshape verändert. Die Arrays werden also vertikal \"gestapelt\". Dazu muss die Anzahl an Spalten in beiden Arrays übereinstimmen. Der Shape an Achse 0 hat sich verändert, der Spaltenshape blieb gleich.\n",
    "\n",
    "![title](explanation_numpy-concatenate-axis-0.webp)"
   ]
  },
  {
   "cell_type": "code",
   "execution_count": 12,
   "id": "d2253235",
   "metadata": {},
   "outputs": [],
   "source": [
    "arr1 = np.array([[1, 1, 1], [1, 1, 1]])\n",
    "arr2 = np.array([[9, 9, 9], [9, 9, 9], [9, 9, 9]])\n"
   ]
  },
  {
   "cell_type": "markdown",
   "id": "402d4d4b-54b2-4f35-953d-af8f98d61285",
   "metadata": {},
   "source": [
    "## Aber: 2 eindimensionale Arrays zu einem Array an der Achse 0 mit concatentate zusammenführen\n",
    "\n",
    "Da eindimensionale Arrays nur eine Achse haben, führt hier das Verbinden an Achse 0 zu einem weiteren eindimensionalen Array. Der Shape an Stelle 0 hat sich verändert."
   ]
  },
  {
   "cell_type": "code",
   "execution_count": 13,
   "id": "69f4ef76",
   "metadata": {},
   "outputs": [],
   "source": [
    "import numpy as np\n",
    "\n",
    "arr1 = np.array([1, 2, 3])\n",
    "arr2 = np.array([4, 5, 6])\n"
   ]
  },
  {
   "cell_type": "markdown",
   "id": "c4862e13-dbd0-43bb-b438-3b92f228f8e2",
   "metadata": {},
   "source": [
    "## Aufgabe\n",
    "Gegeben sind Vektor v mit 3 Elementen und eine 2 x 3 Matrix M.\n",
    "Verbinde die beiden Objekte an der Achse 0 (Zeilen). "
   ]
  },
  {
   "cell_type": "code",
   "execution_count": 17,
   "id": "a0dce960-636c-4eb6-8266-cfc45c4bb156",
   "metadata": {},
   "outputs": [],
   "source": [
    "# Happy Coding (5 Minuten)\n",
    "v = np.array([1, 2, 3])\n",
    "M = np.array([[11, 22, 33], [44, 55, 66]])\n",
    "\n"
   ]
  },
  {
   "cell_type": "markdown",
   "id": "1afd9385",
   "metadata": {},
   "source": [
    "## Concatenate von zwei zweidimensionalen Arrays an Axis 1\n",
    "Wenn wir concatenate mit axis=1 durchführen, werden die Arrays \"nebeneinandert\" zusammengefügt. Das führt dazu, dass der sich Shape der Columns (Spalten) verändert, der Zeilenshape aber gleich bleibt. \n",
    "![title](explanation_numpy-concatenate-axis-1.webp)"
   ]
  },
  {
   "cell_type": "code",
   "execution_count": 18,
   "id": "a4c1d34a",
   "metadata": {},
   "outputs": [],
   "source": [
    "arr1 = np.array([[1, 1, 1], [1, 1, 1]])\n",
    "arr2 = np.array([[9, 9, 9], [9, 9, 9]])\n"
   ]
  },
  {
   "cell_type": "markdown",
   "id": "6437671a",
   "metadata": {},
   "source": [
    "## Vektor und Matrix via vstack zu einem mehrdimensionalen Array zusammenfügen\n",
    "Um Arrays mit `concatenate` zu verbinden, müssen sie die gleichen Dimensionen haben. Somit lässt sich also kein ein- und mehrdimensionaler Array verbinden. Dazu gibt es die Methode `vstack`. vstack steht für vertikal Stapeln. \n",
    "\n",
    "Im Falle von vstack muss nur gegeben sein, dass beide Arrays die gleiche Anzahl an Spalten haben. Natürlich lassen sich auch zwei mehrdimensionale Arrays mit vstack verbinden."
   ]
  },
  {
   "cell_type": "code",
   "execution_count": 19,
   "id": "d0186266",
   "metadata": {},
   "outputs": [],
   "source": [
    "arr1 = np.array([1, 1, 1])\n",
    "arr2 = np.array([[9, 9, 9], [9, 9, 9]])\n"
   ]
  },
  {
   "cell_type": "markdown",
   "id": "022f094a",
   "metadata": {},
   "source": [
    "## Zwei Matritzen via hstack zu einem mehrdimensionalen Array zusammenfügen\n",
    "Um Arrays mit `concatenate` zu verbinden, müssen sie die gleichen Dimensionen haben. Somit lässt sich also kein ein- und mehrdimensionaler Array verbinden. Dazu gibt es die Methode `hstack`. hstack steht für horizontal Stapeln. \n",
    "\n",
    "Im Falle von vstack muss nur gegeben sein, dass beide Arrays die gleiche Anzahl an Zeilen haben. "
   ]
  },
  {
   "cell_type": "code",
   "execution_count": 20,
   "id": "a5c789d9",
   "metadata": {},
   "outputs": [],
   "source": [
    "# zwei Arrays mit shape 2,1 und 2,3\n",
    "arr1 = np.array([[1], [1]])\n",
    "arr2 = np.array([[9, 9, 9], [9, 9, 9]])\n"
   ]
  }
 ],
 "metadata": {
  "kernelspec": {
   "display_name": "Python 3 (ipykernel)",
   "language": "python",
   "name": "python3"
  },
  "language_info": {
   "codemirror_mode": {
    "name": "ipython",
    "version": 3
   },
   "file_extension": ".py",
   "mimetype": "text/x-python",
   "name": "python",
   "nbconvert_exporter": "python",
   "pygments_lexer": "ipython3",
   "version": "3.12.4"
  }
 },
 "nbformat": 4,
 "nbformat_minor": 5
}
