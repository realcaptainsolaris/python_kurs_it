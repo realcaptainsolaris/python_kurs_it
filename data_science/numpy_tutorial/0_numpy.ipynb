{
 "cells": [
  {
   "cell_type": "markdown",
   "id": "567ef578-78f5-4d45-b65b-3f0ebc154c01",
   "metadata": {},
   "source": [
    "# Numpy Einführung"
   ]
  },
  {
   "cell_type": "code",
   "execution_count": 19,
   "id": "497b5669",
   "metadata": {},
   "outputs": [
    {
     "name": "stdout",
     "output_type": "stream",
     "text": [
      "The history saving thread hit an unexpected error (OperationalError('attempt to write a readonly database')).History will not be written to the database.\n"
     ]
    }
   ],
   "source": [
    "import numpy as np"
   ]
  },
  {
   "cell_type": "markdown",
   "id": "bf726986-113a-42f2-9f20-0f3ceb074169",
   "metadata": {},
   "source": [
    "## Erstellen eines Numpy Arrays"
   ]
  },
  {
   "cell_type": "code",
   "execution_count": 14,
   "id": "535de941",
   "metadata": {},
   "outputs": [],
   "source": [
    "# Die Elemente eines Numpy nd-Arrays sollten immer vom selben Datentyp sein\n",
    "..."
   ]
  },
  {
   "cell_type": "markdown",
   "id": "40fffa88-8b9e-475c-88a3-f5f146816045",
   "metadata": {},
   "source": [
    "### Array Dimension, Shape, Datentyp und Size"
   ]
  },
  {
   "cell_type": "code",
   "execution_count": 13,
   "id": "e8bd5aae",
   "metadata": {},
   "outputs": [],
   "source": [
    "# Array-Dimension, Shape, Datentyp und Size\n",
    "..."
   ]
  },
  {
   "cell_type": "code",
   "execution_count": 15,
   "id": "369a123d",
   "metadata": {},
   "outputs": [],
   "source": [
    "# Ein Array mit Integer und Floats. Numpy bildet alle Werte als float64 Bit ab\n",
    "..."
   ]
  },
  {
   "cell_type": "markdown",
   "id": "5b10849a",
   "metadata": {},
   "source": [
    "## Vektoren\n",
    "\n",
    "Ein Vektor ist ein mathematisches Objekt, das sowohl eine Richtung als auch eine Magnitud (Länge) besitzt. Vektoren werden oft genutzt, um Punkte in einem Raum relativ zu einem anderen Punkt zu beschreiben.\n",
    "\n",
    "#### Spaltenvektor (m × 1-Matrix)\n",
    "Ein Spaltenvektor ist eine Matrix mit genau einer Spalte\n",
    "$\n",
    " \\vec{e}_1= \\left(\\begin{array}{c} 1 \\\\ 0 \\\\ 1 \\end{array}\\right)\n",
    "$\n",
    "\n",
    "\n",
    "#### Zeilenvektor ( 1 × n-Matrix)\n",
    " (Numpy Arrays sind per default Zeilenvektoren)   \n",
    "da ein Zeilenvektor die transponierte form eines Spaltenvektors ist, tragen sie das T im Namen:    \n",
    "$\n",
    " \\vec{x}{^T} = (x \\; y \\; z) \n",
    "$"
   ]
  },
  {
   "cell_type": "markdown",
   "id": "d604785a-21e1-489b-be89-a6b0f46b0160",
   "metadata": {},
   "source": [
    "## Matrizen\n",
    "\n",
    "Eine Matrix ist eine rechteckige Anordnung von Zahlen, Symbolen oder Ausdrücken, die in Zeilen und Spalten organisiert ist. Sie wird verwendet, um Daten kompakt darzustellen und erleichtert Berechnungen in Bereichen wie Algebra, Physik, Informatik und maschinellem Lernen.\n",
    "\n",
    "Eine 2x3 Matrix würde mathematisch so notiert werden:\n",
    "\n",
    "$ M = \\left( \\begin{matrix} 1 & 2 & 3 \\\\ 3 & 4 & 4 \\end{matrix} \\right) $\n",
    "\n"
   ]
  },
  {
   "cell_type": "code",
   "execution_count": 18,
   "id": "2ba797e1",
   "metadata": {},
   "outputs": [],
   "source": [
    "# Dimension und Shape eines 2-dimensionales Arrays. shape(2, 3) bedeutet: 2 Reihen, 3 Spalten\n",
    "..."
   ]
  },
  {
   "cell_type": "markdown",
   "id": "00fd824c",
   "metadata": {},
   "source": [
    "## Axis - der Achsenbegriff\n",
    "\n",
    "In NumPy beschreibt der Begriff axis die Dimension, entlang der Operationen in einem Array ausgeführt werden, wobei axis 0 für Zeilen, axis 1 für Spalten und höhere Achsen (z. B. axis 2, axis 3) für weitere Dimensionen wie Tiefe oder Zeit in mehrdimensionalen Arrays stehen.\n",
    "\n",
    "![title](numpy-arrays-have-axes.webp)"
   ]
  },
  {
   "cell_type": "markdown",
   "id": "9937739a",
   "metadata": {},
   "source": [
    "\n",
    "## Arrays erstellen"
   ]
  },
  {
   "cell_type": "markdown",
   "id": "9b3bad7a",
   "metadata": {},
   "source": [
    "### Array mit gemischten Datentypen int und float"
   ]
  },
  {
   "cell_type": "code",
   "execution_count": 20,
   "id": "d129f594",
   "metadata": {},
   "outputs": [],
   "source": [
    "M = np.array([1.1, 2.2, 4, 2])\n",
    "..."
   ]
  },
  {
   "cell_type": "markdown",
   "id": "e89f911f",
   "metadata": {},
   "source": [
    "### Explizit Datentyp beim Erstellen des Arrays angeben"
   ]
  },
  {
   "cell_type": "code",
   "execution_count": 22,
   "id": "e1a9417d",
   "metadata": {},
   "outputs": [],
   "source": [
    "# dtype\n",
    "..."
   ]
  },
  {
   "cell_type": "markdown",
   "id": "5b376835",
   "metadata": {},
   "source": [
    "### Null Matrix (intrinsic numpy array)\n",
    "\n",
    "#### 2 x 2 Null-Matrix\n",
    "$ \\left( \\begin{matrix} 0 & 0 \\\\ 0 & 0 \\end{matrix} \\right) $"
   ]
  },
  {
   "cell_type": "code",
   "execution_count": 23,
   "id": "59bf137c",
   "metadata": {},
   "outputs": [],
   "source": [
    "# Nullmatrix\n",
    "..."
   ]
  },
  {
   "cell_type": "code",
   "execution_count": 24,
   "id": "d4d4d3e5",
   "metadata": {},
   "outputs": [],
   "source": [
    "# eindimensionale Null-Matrix und Datentyp int32\n",
    "..."
   ]
  },
  {
   "cell_type": "code",
   "execution_count": 25,
   "id": "13df84fe",
   "metadata": {},
   "outputs": [],
   "source": [
    "# dreidimensionale Null-Matrix\n",
    "..."
   ]
  },
  {
   "cell_type": "markdown",
   "id": "8e7b2757",
   "metadata": {},
   "source": [
    "## Einheitsmatrix\n",
    "Eine spezielle Form ist die n × n-Einheitsmatrix, welche eine `Diagonalmatrix ist, deren Hauptdiagonalelemente alle gleich 1 sind`.\n",
    "\n",
    "Die Einheitsmatrix wird mit E bezeichnet.\n",
    "\n",
    "\n",
    "#### Einheitsmatrix 3. Ordnung\n",
    "$ E = \\left( \\begin{matrix} 1 & 0 & 0 \\\\ 0 & 1 & 0 \\\\ 0 & 0 & 1 \\end{matrix} \\right) $"
   ]
  },
  {
   "cell_type": "code",
   "execution_count": 26,
   "id": "c49adbc1",
   "metadata": {},
   "outputs": [],
   "source": [
    "# Identitätsmatrix\n",
    "..."
   ]
  },
  {
   "cell_type": "markdown",
   "id": "da432000",
   "metadata": {},
   "source": [
    "## Matrix mit Default-Werten\n",
    "\n",
    "$ M = \\left( \\begin{matrix} 42 & 42 & 42 \\\\ 42 & 42 & 42 \\\\ 42 & 42 & 42 \\end{matrix} \\right) $"
   ]
  },
  {
   "cell_type": "code",
   "execution_count": 30,
   "id": "3e3c1a14",
   "metadata": {},
   "outputs": [],
   "source": [
    "# 3 x 3 Matrix mit Defaultwerten\n",
    "..."
   ]
  },
  {
   "cell_type": "markdown",
   "id": "bdd9acbc",
   "metadata": {},
   "source": [
    "## Diagonal-Matrix\n",
    "Als  m  ×  n-Diagonalmatrix  D  =  (dij)  wird  eine  Matrix  bezeichnet,  deren  Elemente\n",
    "außerhalb der Hauptdiagonale Null sind, bei der also gilt: dij = 0 für alle i ≠ j\n",
    "\n",
    "#### 3 x 3 Diagonalmatrix\n",
    "$\\left(  \\begin{array}{rrrr} \n",
    "2 & 0 & 0 \\\\ \n",
    "0 & 3 & 0 \\\\ \n",
    "0 & 0 & 1 \\\\ \n",
    "\\end{array} \\right) $"
   ]
  },
  {
   "cell_type": "code",
   "execution_count": 29,
   "id": "cdc0053b",
   "metadata": {},
   "outputs": [],
   "source": [
    "# Diagonal-Matrix\n",
    "..."
   ]
  },
  {
   "cell_type": "markdown",
   "id": "bb79c3fc",
   "metadata": {},
   "source": [
    "## Reihe anlegen mit Range\n",
    "Wir können mit Numpy ählich wie der range-Funktion aus Python auch eine Reihe anlegen. Dazu können wir die numpy-Methode `arange` nutzen, die identisch zur range-Funktion die drei Parameter Start, Stop (exklusive) und Schrittweite hat.\n",
    "\n",
    "Mit arange erstellte Arrays sind stehts eindimensional, haben also den Shape (n, )."
   ]
  },
  {
   "cell_type": "code",
   "execution_count": 32,
   "id": "485dff49",
   "metadata": {},
   "outputs": [],
   "source": [
    "# arange(start, stop, step)\n",
    "..."
   ]
  },
  {
   "cell_type": "markdown",
   "id": "6d097e31",
   "metadata": {},
   "source": [
    "## Intervall anlegen mit linspace\n",
    "mit der Numpy-Methode `linspace` lässt sich einfach ein Intervall anlegen. Wichtige Argumente sind hier `endpoint`, das angibt, ob das Interval halboffen sein soll und `num`, dass die Anzahl der gleichgroßen Werte zwischen den Intervall-Grenzen angibt, d.h. die Abstände der Punkte sind gleichgroß. Defaultwert für num ist 50."
   ]
  },
  {
   "cell_type": "code",
   "execution_count": 33,
   "id": "97bfd801",
   "metadata": {},
   "outputs": [],
   "source": [
    "# halboffenes Intervall zwischen 1 und 2 mit 20 Werten\n",
    "..."
   ]
  },
  {
   "cell_type": "code",
   "execution_count": 34,
   "id": "3aacf484",
   "metadata": {},
   "outputs": [],
   "source": [
    "# geschlossenes Intervall zwischen 1 und 2 mit 20 Werten\n",
    "..."
   ]
  },
  {
   "cell_type": "markdown",
   "id": "32e7ad05-f554-46dd-bc81-6b0c1473002f",
   "metadata": {},
   "source": [
    "## Datentypen\n",
    "\n",
    "NumPy bietet eine Vielzahl von Datentypen, die auf numerische Berechnungen und Speicheroptimierung ausgelegt sind. Diese Typen sind feiner abgestuft als in Python selbst.\n",
    "\n",
    "Jeder Datentyp hat einen bestimmten Wertebereich. Wenn ein Wert diesen Bereich überschreitet, führt das zu Überläufen oder Fehlern.\n",
    "\n",
    "\n",
    "### Tabelle der NumPy-Datentypen\n",
    "\n",
    "| Kategorie            | Datentypen           | Beschreibung                                                    |\n",
    "|-----------------------|----------------------|----------------------------------------------------------------|\n",
    "| **Ganzzahlen**        | `int8`, `int16`, `int32`, `int64` | Ganze Zahlen mit Vorzeichen, 8 bis 64 Bit.                     |\n",
    "| **Positive Ganzzahlen** | `uint8`, `uint16`, `uint32`, `uint64` | Ganze Zahlen ohne Vorzeichen, 8 bis 64 Bit.                   |\n",
    "| **Gleitkommazahlen**  | `float16`, `float32`, `float64`, `float128` | Zahlen mit Nachkommastellen, 16 bis 128 Bit Präzision.        |\n",
    "| **Komplexe Zahlen**   | `complex64`, `complex128`, `complex256` | Komplexe Zahlen (Real- und Imaginärteil als Float).            |\n",
    "| **Boolesche Werte**   | `bool_`              | Wahr oder Falsch (`True`, `False`).                           |\n",
    "| **Zeichenketten**     | `str_`               | Unicode-Zeichenketten (beliebige Länge).                      |\n",
    "| **Bytes**            | `bytes_`            | Zeichenketten in Byte-Darstellung.                            |\n",
    "| **Gemischte Typen**   | `object`             | Beliebige Python-Objekte.                                     |\n",
    "| **Zeitangaben**       | `datetime64`, `timedelta64` | Datums- und Zeitangaben (z. B. für Zeitdifferenzen).           |\n"
   ]
  },
  {
   "cell_type": "code",
   "execution_count": 35,
   "id": "bf382189-8a0a-4fd8-b8be-53ff6e18a3e4",
   "metadata": {},
   "outputs": [
    {
     "name": "stdout",
     "output_type": "stream",
     "text": [
      "<class 'numpy.bool'>\n",
      "<class 'numpy.float16'>\n",
      "<class 'numpy.float32'>\n",
      "<class 'numpy.float64'>\n",
      "<class 'numpy.longdouble'>\n",
      "<class 'numpy.complex64'>\n",
      "<class 'numpy.complex128'>\n",
      "<class 'numpy.clongdouble'>\n",
      "<class 'numpy.bytes_'>\n",
      "<class 'numpy.str_'>\n",
      "<class 'numpy.void'>\n",
      "<class 'numpy.object_'>\n",
      "<class 'numpy.datetime64'>\n",
      "<class 'numpy.timedelta64'>\n",
      "<class 'numpy.int8'>\n",
      "<class 'numpy.int8'>\n",
      "<class 'numpy.uint8'>\n",
      "<class 'numpy.uint8'>\n",
      "<class 'numpy.int16'>\n",
      "<class 'numpy.int16'>\n",
      "<class 'numpy.uint16'>\n",
      "<class 'numpy.uint16'>\n",
      "<class 'numpy.int32'>\n",
      "<class 'numpy.int32'>\n",
      "<class 'numpy.uint32'>\n",
      "<class 'numpy.uint32'>\n",
      "<class 'numpy.int64'>\n",
      "<class 'numpy.int64'>\n",
      "<class 'numpy.uint64'>\n",
      "<class 'numpy.uint64'>\n",
      "<class 'numpy.longlong'>\n",
      "<class 'numpy.ulonglong'>\n",
      "<class 'numpy.int64'>\n",
      "<class 'numpy.uint64'>\n",
      "<class 'numpy.float64'>\n",
      "<class 'numpy.complex128'>\n",
      "<class 'numpy.float32'>\n",
      "<class 'numpy.complex64'>\n",
      "<class 'numpy.float16'>\n",
      "<class 'numpy.bool'>\n",
      "<class 'numpy.int64'>\n",
      "<class 'numpy.uint64'>\n",
      "<class 'numpy.float64'>\n",
      "<class 'numpy.complex128'>\n",
      "<class 'numpy.object_'>\n",
      "<class 'numpy.bytes_'>\n",
      "<class 'numpy.bytes_'>\n",
      "<class 'numpy.int64'>\n",
      "<class 'numpy.str_'>\n",
      "<class 'numpy.str_'>\n",
      "<class 'numpy.longdouble'>\n",
      "<class 'numpy.clongdouble'>\n"
     ]
    }
   ],
   "source": [
    "for dtype in np.sctypeDict.values():\n",
    "    print(dtype)"
   ]
  },
  {
   "cell_type": "markdown",
   "id": "7af68981-d0b3-4d33-9fb1-107ef1067d1c",
   "metadata": {},
   "source": [
    "Ein klassisches Problem tritt auf, wenn eine Zahl den zulässigen Bereich eines Datentyps überschreitet. \n",
    "Zum Beispiel tritt hier ei nOutofbounds-Fehler auf, da die Zahl 24223243 nicht in einen 16bit-Speicher passt."
   ]
  },
  {
   "cell_type": "code",
   "execution_count": 38,
   "id": "91079e90-7027-47e1-a4cd-7fe38e5fe278",
   "metadata": {},
   "outputs": [],
   "source": [
    "# Zahl zu groß für 16Bit-Speicher\n",
    "..."
   ]
  },
  {
   "cell_type": "markdown",
   "id": "2bb490c5-ce8f-489c-97ea-56508745958b",
   "metadata": {},
   "source": [
    "## Konvertierung Datentypen\n",
    "\n",
    "Die Methode astype in NumPy wird verwendet, um den Datentyp eines Arrays zu ändern. \n",
    "ie erstellt ein neues Array mit dem gewünschten Typ, ohne das ursprüngliche Array zu ändern.\n",
    "\n",
    "new_array = array.astype(dtype)"
   ]
  },
  {
   "cell_type": "code",
   "execution_count": 39,
   "id": "1da9387d-23f3-4c6a-bdde-aebba343a04c",
   "metadata": {},
   "outputs": [],
   "source": [
    "# Float Array nach int konvertieren\n",
    "..."
   ]
  },
  {
   "cell_type": "markdown",
   "id": "31c3cad3",
   "metadata": {},
   "source": [
    "## Übungsaufgaben\n",
    "1) Erstelle eine 3 x 4 Null-Matrix mit Werten von 1 bis 12  \n",
    "2) Erstelle ein geschlossenes Interval zwischen 1 und 20 mit 70 Abständen     \n",
    "3) Erstelle eine Diagonalmatrix mit den Werten 4, 2, 8, 1 auf der Diagonalen\n",
    "4) Betrachte die Diagonale von M und konvertiere nach uint16\n",
    "\n",
    "Erstelle für jede Aufgabe eine neue Zelle."
   ]
  },
  {
   "cell_type": "code",
   "execution_count": 41,
   "id": "4ec79b8f-6484-44b9-bf23-e052c65db4bb",
   "metadata": {},
   "outputs": [],
   "source": [
    "# 1) Erstelle eine 3 x 4 Null-Matrix mit Werten von 1 bis 12 \n",
    "..."
   ]
  }
 ],
 "metadata": {
  "kernelspec": {
   "display_name": "Python 3 (ipykernel)",
   "language": "python",
   "name": "python3"
  },
  "language_info": {
   "codemirror_mode": {
    "name": "ipython",
    "version": 3
   },
   "file_extension": ".py",
   "mimetype": "text/x-python",
   "name": "python",
   "nbconvert_exporter": "python",
   "pygments_lexer": "ipython3",
   "version": "3.12.4"
  },
  "vscode": {
   "interpreter": {
    "hash": "a0510decc67b34d5607519e9a5f35cf1d849611bea35f48ec007be6c04781e6e"
   }
  }
 },
 "nbformat": 4,
 "nbformat_minor": 5
}
