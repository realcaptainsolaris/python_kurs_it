{
 "cells": [
  {
   "cell_type": "code",
   "execution_count": 2,
   "id": "8e4fff49",
   "metadata": {},
   "outputs": [],
   "source": [
    "import numpy as np\n",
    "import matplotlib.pyplot as plt"
   ]
  },
  {
   "cell_type": "markdown",
   "id": "0d000e66",
   "metadata": {},
   "source": [
    "# Arrays indexieren\n",
    "\n",
    "Wir können auf Elemente eines Numpy Arrays ebenso wie in Python-Listen (oder Arrays aus anderen Programmiersprachen) per Index zugreifen. Auf das letzte Element können wir mit -1 zugreifen, wie wir das auch von Python-Listen gewohnt sind.\n",
    "\n",
    "## Indizieren von eindimensionalen Arrays"
   ]
  },
  {
   "cell_type": "code",
   "execution_count": 3,
   "id": "e739901c",
   "metadata": {},
   "outputs": [],
   "source": [
    "M = np.array([1, 2, 3, 4])\n"
   ]
  },
  {
   "cell_type": "markdown",
   "id": "0d38110e",
   "metadata": {},
   "source": [
    "## Indizieren von zweidimensionalen Arrays (Matrizen)\n",
    "Um ein Elment in einer Matrix zu indizieren, können wir mit dem Format `row,column` arbeiten."
   ]
  },
  {
   "cell_type": "code",
   "execution_count": 5,
   "id": "6bf1cfcd",
   "metadata": {},
   "outputs": [],
   "source": [
    "M = np.diag([1, 2, 3])\n"
   ]
  },
  {
   "cell_type": "markdown",
   "id": "70ee704f",
   "metadata": {},
   "source": [
    "## Integer array indexing\n",
    "Wir können beim Indexing auch einen Array mit Index-Positionen angeben"
   ]
  },
  {
   "cell_type": "code",
   "execution_count": 6,
   "id": "90ca0fb8",
   "metadata": {},
   "outputs": [],
   "source": [
    "M = np.array([[1, 2, 3], [4, 5, 6], [7, 8, 9]])\n",
    "# Element in Zeile 1 und Spalte 3 indizieren (klassisch)\n",
    "\n",
    "\n",
    "# 1 Zeile und dritte Zeile mit Array Indexing\n",
    "\n",
    "\n",
    "# 1 Zeile und dritte Zeile mit Array Indexing\n"
   ]
  },
  {
   "cell_type": "markdown",
   "id": "a9a7425f-42b5-4d62-898e-992e32c70ffd",
   "metadata": {},
   "source": [
    "## Aufgabe\n",
    "\n",
    "- Erstelle eine 2 x 3 Matrix M.\n",
    "- Gebe den Shape des Arrays aus.\n",
    "- Gebe den Wert in der zweiten Zeile und der ersten Spalte aus\n",
    "- Gebe den Datentyp des Arrays aus\n",
    "\n",
    "$ M = \\left( \\begin{matrix} 1 & 12 & 13 \\\\ 42 & 51 & 62 \\end{matrix} \\right) $"
   ]
  },
  {
   "cell_type": "code",
   "execution_count": 7,
   "id": "cf226fc1",
   "metadata": {},
   "outputs": [],
   "source": [
    "# Aufgabe: 5 Minuten Zeit"
   ]
  },
  {
   "cell_type": "markdown",
   "id": "8a880410",
   "metadata": {},
   "source": [
    "# Arrays Slicing (Ausschneiden von Werten aus Arrays)\n",
    "Generell erzeugen Slicing Operationen in Numpy keinen neuen Array, sondern bieten einen sogenannten View auf das Ursprungsarray. verändert man die geslicte Submenge, verändert man auch die Originaldaten. Verhindern kann man das mit copy (siehe weiter unten).\n",
    "\n",
    "## von eindimensionalen Arrays (Vektoren)\n",
    "Eindimensionale Arrays lassen sich wie in Python mit dem Slicing-Operator sclicen. Schema `Start:End:Schrittweite`."
   ]
  },
  {
   "cell_type": "code",
   "execution_count": 8,
   "id": "32c4a6d6",
   "metadata": {},
   "outputs": [],
   "source": [
    "x = np.array([1, 2, 3, 4, 5, 6])\n"
   ]
  },
  {
   "cell_type": "code",
   "execution_count": null,
   "id": "5b9b88c2",
   "metadata": {},
   "outputs": [],
   "source": []
  },
  {
   "cell_type": "markdown",
   "id": "538bc0a5",
   "metadata": {},
   "source": [
    "## von zweidimensionalen Arrays (Matritzen)\n",
    "Zweidimensionale Arrays lassen sich wie in Python mit dem Slicing-Operator sclicen. \n",
    "Schema `Zeile von:Zeile bis, Spalte von:Spalte bis`."
   ]
  },
  {
   "cell_type": "markdown",
   "id": "cc997047",
   "metadata": {},
   "source": [
    "$ M = \\left( \\begin{matrix} 1 & 2 & 3 \\\\ 4 & 5 & 6 \\end{matrix} \\right) $"
   ]
  },
  {
   "cell_type": "code",
   "execution_count": 10,
   "id": "b7967760",
   "metadata": {},
   "outputs": [
    {
     "data": {
      "text/plain": [
       "array([[1, 2, 3],\n",
       "       [4, 5, 6]])"
      ]
     },
     "execution_count": 10,
     "metadata": {},
     "output_type": "execute_result"
    }
   ],
   "source": [
    "M = np.array([[1, 2, 3], [4, 5, 6]])\n",
    "M"
   ]
  },
  {
   "cell_type": "markdown",
   "id": "065d13ee",
   "metadata": {},
   "source": [
    "### alle Zeilen, die ersten beiden Spalten \n",
    "\n",
    "Um eine Matrix nach folgendem Schema aus M \"auszuschneiden\"\n",
    "$ M = \\left( \\begin{matrix} 1 & 2 \\\\ 4 & 5 \\end{matrix} \\right) $"
   ]
  },
  {
   "cell_type": "code",
   "execution_count": 11,
   "id": "add7fa21",
   "metadata": {},
   "outputs": [
    {
     "data": {
      "text/plain": [
       "array([[1, 2],\n",
       "       [4, 5]])"
      ]
     },
     "execution_count": 11,
     "metadata": {},
     "output_type": "execute_result"
    }
   ],
   "source": [
    "M = np.array([[1, 2, 3], [4, 5, 6]])\n",
    "# alle Zeilen, die ersten beiden Spalten\n",
    "..."
   ]
  },
  {
   "cell_type": "markdown",
   "id": "b1f55556",
   "metadata": {},
   "source": [
    "### ersten zwei Zeilen, erste Spalte"
   ]
  },
  {
   "cell_type": "code",
   "execution_count": 12,
   "id": "52615322",
   "metadata": {},
   "outputs": [
    {
     "data": {
      "text/plain": [
       "array([1, 4])"
      ]
     },
     "execution_count": 12,
     "metadata": {},
     "output_type": "execute_result"
    }
   ],
   "source": [
    "M = np.array([[1, 2, 3], [4, 5, 6]])\n",
    "#  (Slicing der ersten beiden Zeilen, Indexing der Spalte 0)\n",
    "..."
   ]
  },
  {
   "cell_type": "markdown",
   "id": "d4d517f0",
   "metadata": {},
   "source": [
    "### alle Zeilen und die erste und dritte Spalte mit Multiindexing"
   ]
  },
  {
   "cell_type": "code",
   "execution_count": 10,
   "id": "91cf693a",
   "metadata": {},
   "outputs": [
    {
     "data": {
      "text/plain": [
       "Ellipsis"
      ]
     },
     "execution_count": 10,
     "metadata": {},
     "output_type": "execute_result"
    }
   ],
   "source": [
    "M = np.array([[1, 2, 3], [4, 5, 6]])\n",
    "# alle Zeilen und die erste und dritte Spalte mit Multiindexing\n",
    "..."
   ]
  },
  {
   "cell_type": "markdown",
   "id": "4adc01ef",
   "metadata": {},
   "source": [
    "### Diagonale aus zweidimensionalem Array"
   ]
  },
  {
   "cell_type": "code",
   "execution_count": 11,
   "id": "8c4f9aa1",
   "metadata": {},
   "outputs": [
    {
     "data": {
      "text/plain": [
       "Ellipsis"
      ]
     },
     "execution_count": 11,
     "metadata": {},
     "output_type": "execute_result"
    }
   ],
   "source": [
    "M = np.array([[1, 2, 3], [4, 5, 6], [7, 8, 9]])\n",
    "# Diagonale\n",
    "..."
   ]
  },
  {
   "cell_type": "markdown",
   "id": "5b189724",
   "metadata": {},
   "source": [
    "## Aufgabe\n",
    "$X =  \\left(  \\begin{array}{rrrr} \n",
    "2 & 3 & 8 \\\\ \n",
    "1 & 22 & 22 \\\\ \n",
    "4 & 22 & 22 \\\\ \n",
    "\\end{array} \\right) $\n",
    "\n",
    "a) Erstelle das zweidimensionale Array   \n",
    "b) Schneide den Block mit den 22 aus (2 x 2 Matrix)    \n",
    "c) Schneide die diagonalen Werte aus (als Vektor mit shape(3,) [2, 22, 22])"
   ]
  },
  {
   "cell_type": "code",
   "execution_count": 13,
   "id": "3095a464",
   "metadata": {},
   "outputs": [],
   "source": [
    "# Happy Coding: 5 Minuten Zeit\n",
    "..."
   ]
  },
  {
   "cell_type": "markdown",
   "id": "ce046f32",
   "metadata": {},
   "source": [
    "## copy\n",
    "Um eine tatsächliche Kopie durch Slicing von einem Array zu erstellen, muss man die Methode Copy nutzen"
   ]
  },
  {
   "cell_type": "code",
   "execution_count": 14,
   "id": "fbb21459",
   "metadata": {},
   "outputs": [],
   "source": [
    "# ohne copy: Verändern von Index 0 bei P_copy verändert auch P\n",
    "..."
   ]
  },
  {
   "cell_type": "code",
   "execution_count": 15,
   "id": "d161184e",
   "metadata": {},
   "outputs": [],
   "source": [
    "# mit copy: Z bleibt unverändert\n",
    "..."
   ]
  }
 ],
 "metadata": {
  "kernelspec": {
   "display_name": "Python 3 (ipykernel)",
   "language": "python",
   "name": "python3"
  },
  "language_info": {
   "codemirror_mode": {
    "name": "ipython",
    "version": 3
   },
   "file_extension": ".py",
   "mimetype": "text/x-python",
   "name": "python",
   "nbconvert_exporter": "python",
   "pygments_lexer": "ipython3",
   "version": "3.12.4"
  }
 },
 "nbformat": 4,
 "nbformat_minor": 5
}
