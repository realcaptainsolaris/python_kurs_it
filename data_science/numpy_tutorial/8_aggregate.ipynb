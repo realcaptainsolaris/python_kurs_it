{
 "cells": [
  {
   "cell_type": "markdown",
   "id": "cb9278a5",
   "metadata": {},
   "source": [
    "# Aggregate\n",
    "\n",
    "Ein **Aggregate** bezeichnet eine **Zusammenfassung oder Verdichtung von Daten** zu einer kompakteren Form, oft durch mathematische Operationen wie **Summe, Mittelwert, Maximum oder Minimum**. Aggregation wird verwendet, um **Einblicke in große Datensätze** zu gewinnen, indem einzelne Werte zu **gesamtheitlichen Kennzahlen** zusammengefasst werden.\n",
    "\n",
    "In Machine Learning und Datenanalyse helfen Aggregate, die **Verteilung von Daten** zu verstehen oder bestimmte **Statistiken** zu berechnen, wie z.B. die durchschnittliche Feature-Werte oder die Gesamtsumme der Beobachtungen.\n",
    "\n",
    "## Aggregate in Numpy\n",
    "Aggregate können in Numpy entweder zeilenweise oder spaltenweise ausgeführt werden. Ein Aggregat ist das Zusammenfassen mehrerer Spalten oder Reihen mithilfe eine Aggregatsfunktion. So könnten zum Beispiel alle Zeilen eines Arrays spaltenweise aufaddiert werden.\n",
    "\n",
    "![title](np_matrix_aggregation_row.png)"
   ]
  },
  {
   "cell_type": "code",
   "execution_count": 2,
   "id": "1da2854a",
   "metadata": {},
   "outputs": [],
   "source": [
    "import numpy as np"
   ]
  },
  {
   "cell_type": "code",
   "execution_count": 3,
   "id": "d99ec8bb",
   "metadata": {},
   "outputs": [],
   "source": [
    "A = np.array([[4, 2], [3, 5], [2, 9]])"
   ]
  },
  {
   "cell_type": "markdown",
   "id": "77f800cf",
   "metadata": {},
   "source": [
    "## Maximum / Minimum auf Axis 0 (zeilenweise)\n",
    "$ A = \\left( \\begin{matrix} 4 & 2 \\\\ 3 & 5 \\\\ 2 & 9 \\end{matrix} \\right) $\n",
    "\n",
    "Wir berechnen für jede Spalte das Maximum über die Zeilen."
   ]
  },
  {
   "cell_type": "code",
   "execution_count": 1,
   "id": "d1688826",
   "metadata": {},
   "outputs": [],
   "source": [
    "# Wir berechnen für jede Spalte das Maximum über die Zeilen."
   ]
  },
  {
   "cell_type": "markdown",
   "id": "1254b311",
   "metadata": {},
   "source": [
    "## Maximum / Minimum auf Axis 1 (spaltenweise)\n",
    "$ A = \\left( \\begin{matrix} 4 & 2 \\\\ 3 & 5 \\\\ 2 & 9 \\end{matrix} \\right) $\n",
    "\n",
    "Wir berechnen für jede Zeile das Maximum über die Spalten."
   ]
  },
  {
   "cell_type": "code",
   "execution_count": 2,
   "id": "1af589dc",
   "metadata": {},
   "outputs": [],
   "source": [
    "# Wir berechnen für jede Zeile das Maximum über die Spalten."
   ]
  },
  {
   "cell_type": "markdown",
   "id": "7eb37beb",
   "metadata": {},
   "source": [
    "## Summe\n",
    "$ A = \\left( \\begin{matrix} 4 & 2 \\\\ 3 & 5 \\\\ 2 & 9 \\end{matrix} \\right) $\n",
    "\n",
    "Wir können mit `sum` die Summe aller Elemente berechnen oder bei Angabe der axis auch zeilen- bzw. spaltenweise summieren."
   ]
  },
  {
   "cell_type": "code",
   "execution_count": 3,
   "id": "59495a3b",
   "metadata": {},
   "outputs": [],
   "source": [
    "# ..."
   ]
  },
  {
   "cell_type": "markdown",
   "id": "c0f0cb94",
   "metadata": {},
   "source": [
    "## Kumulierte Summe\n",
    "$ A = \\left( \\begin{matrix} 4 & 2 \\\\ 3 & 5 \\\\ 2 & 9 \\end{matrix} \\right) $"
   ]
  },
  {
   "cell_type": "code",
   "execution_count": 4,
   "id": "a7787970",
   "metadata": {},
   "outputs": [],
   "source": [
    "# cumsum"
   ]
  },
  {
   "cell_type": "markdown",
   "id": "87d1ad9d-35c9-446a-9c6d-b86187caaea3",
   "metadata": {},
   "source": [
    "## Argmax / Argmin\n",
    "Die Funktion np.argmax() gibt den Index des größten Werts in einem Array zurück. \n",
    "Sie wird häufig verwendet, um die Position eines Maximums zu finden\n"
   ]
  },
  {
   "cell_type": "code",
   "execution_count": 11,
   "id": "c18732f4-2ae7-4a32-8573-4dd461792f00",
   "metadata": {},
   "outputs": [],
   "source": [
    "# Beispiel 1D-Array"
   ]
  },
  {
   "cell_type": "code",
   "execution_count": 12,
   "id": "00a67f8f-a2ea-4577-84f8-542a44936b47",
   "metadata": {},
   "outputs": [],
   "source": [
    "# Beispiel 2D-Array"
   ]
  },
  {
   "cell_type": "markdown",
   "id": "317c2e65",
   "metadata": {},
   "source": [
    "## Deskriptive Statistik\n",
    "$ A = \\left( \\begin{matrix} 4 & 2 \\\\ 3 & 5 \\\\ 2 & 9 \\end{matrix} \\right) $\n",
    "\n",
    "Numpy stellt uns grundlegende Werkzeuge der deskriptiven Statistik zur Verfügung (Mittelwert, Varianz, Standardabweichung)\n",
    "\n",
    "### Standardabweichung\n",
    "\n",
    "$\n",
    "\\sigma = \\sqrt{\\frac{1}{N} \\sum_{i=1}^N (x_i - \\mu)^2}\n",
    "$\n",
    "\n",
    "### Standardabweichung mit Bessel-Korrektur\n",
    "\n",
    "Die Bessel-Korrektur wird verwendet, um die Stichprobenvarianz zu berechnen, indem man durch N−1N−1 (statt NN) teilt. Sie korrigiert die Verzerrung (Bias), die entsteht, wenn man die Varianz einer Stichprobe zur Schätzung der Varianz der Grundgesamtheit verwendet, da der Stichprobenmittelwert bereits aus den Daten geschätzt wurde.\n",
    "\n",
    "\n",
    "$\n",
    "s = \\sqrt{\\frac{1}{N-1} \\sum_{i=1}^N (x_i - \\bar{x})^2}\n",
    "$\n",
    "\n",
    "### Kovarianzmatrix mit cov\n",
    "Was sagt Kovarianz Matrix aus?\n",
    "\n",
    "Eine Varianz-Kovarianz-Matrix ist eine quadratische Matrix, die die Varianzen und Kovarianzen für mehrere Variablen enthält. Die Diagonalelemente der Matrix enthalten die Varianzen der Variablen, die Nicht-Diagonalelemente enthalten die Kovarianzen zwischen allen möglichen Paaren von Variablen."
   ]
  },
  {
   "cell_type": "code",
   "execution_count": 16,
   "id": "b1bd62d8",
   "metadata": {},
   "outputs": [],
   "source": [
    "A = np.array([[4, 2], [3, 5], [2, 9]])"
   ]
  },
  {
   "cell_type": "markdown",
   "id": "dbb98ed4-a46e-44da-9598-f7f447f8912c",
   "metadata": {},
   "source": [
    "# Aufgabe: Bevölkerungsdichteanalyse\n",
    "\n",
    "Gegeben sind Daten zur Einwohnerzahl und Fläche von 5 Regionen. Berechne die statistischen Kennzahlen der Bevölkerungsdichte.\n",
    "\n",
    "## Erwartete Ausgabe\n",
    "\n",
    "1. Bevölkerungsdichten der Regionen: [2000. 2000. 2000. 1500. 2000.]\n",
    "2. Mittelwert der Bevölkerungsdichte: 1900.00 Einwohner/km²\n",
    "3. Standardabweichung der Bevölkerungsdichte: 212.13\n",
    "4. Höchste Bevölkerungsdichte: 2000.00 Einwohner/km² (Region 2)\n",
    "5. Niedrigste Bevölkerungsdichte: 1500.00 Einwohner/km² (Region 4)\n"
   ]
  },
  {
   "cell_type": "code",
   "execution_count": 14,
   "id": "e2186862-668c-4540-b333-b003e91ebbed",
   "metadata": {},
   "outputs": [
    {
     "name": "stdout",
     "output_type": "stream",
     "text": [
      "1. Bevölkerungsdichten der Regionen: Ellipsis\n"
     ]
    },
    {
     "ename": "TypeError",
     "evalue": "unsupported format string passed to ellipsis.__format__",
     "output_type": "error",
     "traceback": [
      "\u001b[0;31m---------------------------------------------------------------------------\u001b[0m",
      "\u001b[0;31mTypeError\u001b[0m                                 Traceback (most recent call last)",
      "Cell \u001b[0;32mIn[14], line 21\u001b[0m\n\u001b[1;32m     18\u001b[0m min_density_index \u001b[38;5;241m=\u001b[39m \u001b[38;5;241m.\u001b[39m\u001b[38;5;241m.\u001b[39m\u001b[38;5;241m.\u001b[39m\n\u001b[1;32m     20\u001b[0m \u001b[38;5;28mprint\u001b[39m(\u001b[38;5;124m\"\u001b[39m\u001b[38;5;124m1. Bevölkerungsdichten der Regionen:\u001b[39m\u001b[38;5;124m\"\u001b[39m, density)\n\u001b[0;32m---> 21\u001b[0m \u001b[38;5;28mprint\u001b[39m(\u001b[38;5;124mf\u001b[39m\u001b[38;5;124m\"\u001b[39m\u001b[38;5;124m2. Mittelwert der Bevölkerungsdichte: \u001b[39m\u001b[38;5;132;43;01m{\u001b[39;49;00m\u001b[43mmean_density\u001b[49m\u001b[38;5;132;43;01m:\u001b[39;49;00m\u001b[38;5;124;43m.2f\u001b[39;49m\u001b[38;5;132;43;01m}\u001b[39;49;00m\u001b[38;5;124m Einwohner/km²\u001b[39m\u001b[38;5;124m\"\u001b[39m)\n\u001b[1;32m     22\u001b[0m \u001b[38;5;28mprint\u001b[39m(\u001b[38;5;124mf\u001b[39m\u001b[38;5;124m\"\u001b[39m\u001b[38;5;124m3. Standardabweichung der Bevölkerungsdichte: \u001b[39m\u001b[38;5;132;01m{\u001b[39;00mstd_density\u001b[38;5;132;01m:\u001b[39;00m\u001b[38;5;124m.2f\u001b[39m\u001b[38;5;132;01m}\u001b[39;00m\u001b[38;5;124m\"\u001b[39m)\n\u001b[1;32m     23\u001b[0m \u001b[38;5;28mprint\u001b[39m(\u001b[38;5;124mf\u001b[39m\u001b[38;5;124m\"\u001b[39m\u001b[38;5;124m4. Höchste Bevölkerungsdichte: \u001b[39m\u001b[38;5;132;01m{\u001b[39;00mdensity[max_density_index]\u001b[38;5;132;01m:\u001b[39;00m\u001b[38;5;124m.2f\u001b[39m\u001b[38;5;132;01m}\u001b[39;00m\u001b[38;5;124m Einwohner/km² (Region \u001b[39m\u001b[38;5;132;01m{\u001b[39;00mmax_density_index\u001b[38;5;250m \u001b[39m\u001b[38;5;241m+\u001b[39m\u001b[38;5;250m \u001b[39m\u001b[38;5;241m1\u001b[39m\u001b[38;5;132;01m}\u001b[39;00m\u001b[38;5;124m)\u001b[39m\u001b[38;5;124m\"\u001b[39m)\n",
      "\u001b[0;31mTypeError\u001b[0m: unsupported format string passed to ellipsis.__format__"
     ]
    }
   ],
   "source": [
    "import numpy as np\n",
    "\n",
    "# Einwohnerzahl der Regionen\n",
    "population = np.array([500000, 1200000, 800000, 300000, 1000000])\n",
    "\n",
    "# Fläche der Regionen in km²\n",
    "area = np.array([250, 600, 400, 200, 500])\n",
    "\n",
    "# TODO: Berechne die Bevölkerungsdichte für jede Region\n",
    "density = ...\n",
    "\n",
    "# TODO: Berechne Mittelwert und Standardabweichung der Bevölkerungsdichte\n",
    "mean_density = ...\n",
    "std_density = ...\n",
    "\n",
    "# TODO: Bestimme Regionen mit höchster und niedrigster Bevölkerungsdichte\n",
    "max_density_index = ...\n",
    "min_density_index = ...\n",
    "\n",
    "print(\"1. Bevölkerungsdichten der Regionen:\", density)\n",
    "print(f\"2. Mittelwert der Bevölkerungsdichte: {mean_density:.2f} Einwohner/km²\")\n",
    "print(f\"3. Standardabweichung der Bevölkerungsdichte: {std_density:.2f}\")\n",
    "print(f\"4. Höchste Bevölkerungsdichte: {density[max_density_index]:.2f} Einwohner/km² (Region {max_density_index + 1})\")\n",
    "print(f\"5. Niedrigste Bevölkerungsdichte: {density[min_density_index]:.2f} Einwohner/km² (Region {min_density_index + 1})\")\n"
   ]
  }
 ],
 "metadata": {
  "kernelspec": {
   "display_name": "Python 3 (ipykernel)",
   "language": "python",
   "name": "python3"
  },
  "language_info": {
   "codemirror_mode": {
    "name": "ipython",
    "version": 3
   },
   "file_extension": ".py",
   "mimetype": "text/x-python",
   "name": "python",
   "nbconvert_exporter": "python",
   "pygments_lexer": "ipython3",
   "version": "3.12.4"
  }
 },
 "nbformat": 4,
 "nbformat_minor": 5
}
