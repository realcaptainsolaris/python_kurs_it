{
 "cells": [
  {
   "cell_type": "code",
   "execution_count": 7,
   "id": "b3de51e8",
   "metadata": {},
   "outputs": [],
   "source": [
    "import numpy as np\n",
    "import pandas as pd\n",
    "import matplotlib.pyplot as plt\n",
    "\n",
    "np.random.seed(42)"
   ]
  },
  {
   "cell_type": "markdown",
   "id": "8e47e196",
   "metadata": {},
   "source": [
    "# Arithmetische Funktionen\n",
    "\n",
    "Diese können entweder mit der Pandas-Funktion oder per Operator ausgeführt werden. \n",
    "die Funktion ist nur nötig, wenn zusätzliche Argumente übergeben werden müssen.\n",
    "\n",
    "| Python Operator  | Pandas Funktion  | Beispiel       |\n",
    "|------------------|------------------|----------------|\n",
    "| +                | add()            | M.add(N)       |\n",
    "| -                | sub()            | M.sub(N)       |\n",
    "| *                | mul()            | M.mul(3)       |\n",
    "| /                | div()            | M.div(N)       |\n",
    "| //               | floordiv()       | M.floordiv(N)  |\n",
    "| %                | mod()            | M.mod(N)       |\n",
    "| **               | pow()            | M.pow(N)       |\n"
   ]
  },
  {
   "cell_type": "code",
   "execution_count": 10,
   "id": "08bf6a07",
   "metadata": {},
   "outputs": [
    {
     "data": {
      "text/html": [
       "<div>\n",
       "<style scoped>\n",
       "    .dataframe tbody tr th:only-of-type {\n",
       "        vertical-align: middle;\n",
       "    }\n",
       "\n",
       "    .dataframe tbody tr th {\n",
       "        vertical-align: top;\n",
       "    }\n",
       "\n",
       "    .dataframe thead th {\n",
       "        text-align: right;\n",
       "    }\n",
       "</style>\n",
       "<table border=\"1\" class=\"dataframe\">\n",
       "  <thead>\n",
       "    <tr style=\"text-align: right;\">\n",
       "      <th></th>\n",
       "      <th>a</th>\n",
       "      <th>b</th>\n",
       "      <th>c</th>\n",
       "    </tr>\n",
       "  </thead>\n",
       "  <tbody>\n",
       "    <tr>\n",
       "      <th>0</th>\n",
       "      <td>1</td>\n",
       "      <td>4</td>\n",
       "      <td>13</td>\n",
       "    </tr>\n",
       "    <tr>\n",
       "      <th>1</th>\n",
       "      <td>2</td>\n",
       "      <td>5</td>\n",
       "      <td>14</td>\n",
       "    </tr>\n",
       "    <tr>\n",
       "      <th>2</th>\n",
       "      <td>3</td>\n",
       "      <td>6</td>\n",
       "      <td>17</td>\n",
       "    </tr>\n",
       "  </tbody>\n",
       "</table>\n",
       "</div>"
      ],
      "text/plain": [
       "   a  b   c\n",
       "0  1  4  13\n",
       "1  2  5  14\n",
       "2  3  6  17"
      ]
     },
     "metadata": {},
     "output_type": "display_data"
    },
    {
     "data": {
      "text/html": [
       "<div>\n",
       "<style scoped>\n",
       "    .dataframe tbody tr th:only-of-type {\n",
       "        vertical-align: middle;\n",
       "    }\n",
       "\n",
       "    .dataframe tbody tr th {\n",
       "        vertical-align: top;\n",
       "    }\n",
       "\n",
       "    .dataframe thead th {\n",
       "        text-align: right;\n",
       "    }\n",
       "</style>\n",
       "<table border=\"1\" class=\"dataframe\">\n",
       "  <thead>\n",
       "    <tr style=\"text-align: right;\">\n",
       "      <th></th>\n",
       "      <th>a</th>\n",
       "      <th>b</th>\n",
       "    </tr>\n",
       "  </thead>\n",
       "  <tbody>\n",
       "    <tr>\n",
       "      <th>0</th>\n",
       "      <td>3</td>\n",
       "      <td>3</td>\n",
       "    </tr>\n",
       "    <tr>\n",
       "      <th>1</th>\n",
       "      <td>3</td>\n",
       "      <td>4</td>\n",
       "    </tr>\n",
       "  </tbody>\n",
       "</table>\n",
       "</div>"
      ],
      "text/plain": [
       "   a  b\n",
       "0  3  3\n",
       "1  3  4"
      ]
     },
     "metadata": {},
     "output_type": "display_data"
    }
   ],
   "source": [
    "c = {\n",
    "    \"a\": [3, 3],\n",
    "    \"b\": [3, 4],\n",
    "}\n",
    "\n",
    "d = {\n",
    "    \"a\": [1, 2, 3],\n",
    "    \"b\": [4, 5, 6],\n",
    "    \"c\": [13, 14, 17],\n",
    "}\n",
    "M = pd.DataFrame(c)\n",
    "N = pd.DataFrame(d)\n",
    "\n",
    "display(N)\n",
    "display(M)"
   ]
  },
  {
   "cell_type": "markdown",
   "id": "b0aac89c",
   "metadata": {},
   "source": [
    "## Addition von zwei Dataframes\n",
    "Falls die DataFrames nicht die gleiche Spalten/Zeilenanzahl haben, ergeben sich hier NaN-Werte. Man kann beim Addieren dem entgegenwirken, indem man `fill_value` auf 0 setzt. In diesem Fall ist der Datentyp der Ergebnisspalten ein Float (NAN ist ein Floatwert)"
   ]
  },
  {
   "cell_type": "code",
   "execution_count": 1,
   "id": "328acb9b",
   "metadata": {},
   "outputs": [],
   "source": [
    "# Addition (die additive Eigenschaft auf 0 setzen, um NAN-Werte zu vermeiden). "
   ]
  },
  {
   "cell_type": "markdown",
   "id": "49d04a1b",
   "metadata": {},
   "source": [
    "### Addition von Spaltenwerten\n",
    "im Beispiel rechne wir 3 + 3 + 9. Auf die Series lassen sich wieder die arith. Numpy-Funktionen ausführen."
   ]
  },
  {
   "cell_type": "code",
   "execution_count": 41,
   "id": "94521ff6",
   "metadata": {},
   "outputs": [
    {
     "data": {
      "text/plain": [
       "np.int64(6)"
      ]
     },
     "execution_count": 41,
     "metadata": {},
     "output_type": "execute_result"
    }
   ],
   "source": [
    "N.a.sum()"
   ]
  },
  {
   "cell_type": "markdown",
   "id": "f5d59b48",
   "metadata": {},
   "source": [
    "## Subtraktion von zwei DataFrames\n",
    "Es wird elementweise abgezogen. Falls die Dataframes nicht das gleiche Shape haben, ergeben sich wieder NaN-Werte."
   ]
  },
  {
   "cell_type": "code",
   "execution_count": 2,
   "id": "65b398a0",
   "metadata": {},
   "outputs": [
    {
     "ename": "NameError",
     "evalue": "name 'M' is not defined",
     "output_type": "error",
     "traceback": [
      "\u001b[0;31m---------------------------------------------------------------------------\u001b[0m",
      "\u001b[0;31mNameError\u001b[0m                                 Traceback (most recent call last)",
      "Cell \u001b[0;32mIn[2], line 1\u001b[0m\n\u001b[0;32m----> 1\u001b[0m display(\u001b[43mM\u001b[49m\u001b[38;5;241m.\u001b[39msub(M)), display(M\u001b[38;5;241m.\u001b[39msub(N, fill_value\u001b[38;5;241m=\u001b[39m\u001b[38;5;241m0\u001b[39m))\n",
      "\u001b[0;31mNameError\u001b[0m: name 'M' is not defined"
     ]
    }
   ],
   "source": [
    "display(M.sub(M)), display(M.sub(N, fill_value=0))"
   ]
  },
  {
   "cell_type": "markdown",
   "id": "addeddb0",
   "metadata": {},
   "source": [
    "## Subtraktion von zwei Spalten"
   ]
  },
  {
   "cell_type": "code",
   "execution_count": 44,
   "id": "2b1d4393",
   "metadata": {},
   "outputs": [
    {
     "data": {
      "text/plain": [
       "0    0\n",
       "1   -1\n",
       "dtype: int64"
      ]
     },
     "execution_count": 44,
     "metadata": {},
     "output_type": "execute_result"
    }
   ],
   "source": [
    "# Subtraktion von zwei Spalten"
   ]
  },
  {
   "cell_type": "markdown",
   "id": "255d0d02",
   "metadata": {},
   "source": [
    "## Multiplikation \n",
    "Die Multiplikation findet elementweise sowie statt. "
   ]
  },
  {
   "cell_type": "code",
   "execution_count": 4,
   "id": "e4f05e31",
   "metadata": {},
   "outputs": [],
   "source": [
    "# Multiplikation\n",
    "..."
   ]
  },
  {
   "cell_type": "code",
   "execution_count": 5,
   "id": "9288e34e",
   "metadata": {},
   "outputs": [],
   "source": [
    "# Floor Division (rundet ab)"
   ]
  },
  {
   "cell_type": "code",
   "execution_count": 12,
   "id": "4f981c43",
   "metadata": {},
   "outputs": [
    {
     "data": {
      "text/plain": [
       "<bound method DataFrame.pow of    a  b\n",
       "0  3  3\n",
       "1  3  4>"
      ]
     },
     "execution_count": 12,
     "metadata": {},
     "output_type": "execute_result"
    }
   ],
   "source": [
    "# Potenz pow"
   ]
  },
  {
   "cell_type": "code",
   "execution_count": 13,
   "id": "b91a5564",
   "metadata": {},
   "outputs": [],
   "source": [
    "# Modulo"
   ]
  }
 ],
 "metadata": {
  "kernelspec": {
   "display_name": "Python 3 (ipykernel)",
   "language": "python",
   "name": "python3"
  },
  "language_info": {
   "codemirror_mode": {
    "name": "ipython",
    "version": 3
   },
   "file_extension": ".py",
   "mimetype": "text/x-python",
   "name": "python",
   "nbconvert_exporter": "python",
   "pygments_lexer": "ipython3",
   "version": "3.12.4"
  }
 },
 "nbformat": 4,
 "nbformat_minor": 5
}
