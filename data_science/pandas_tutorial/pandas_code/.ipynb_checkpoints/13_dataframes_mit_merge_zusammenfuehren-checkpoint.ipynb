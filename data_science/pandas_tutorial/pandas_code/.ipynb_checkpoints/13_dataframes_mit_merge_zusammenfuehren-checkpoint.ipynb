{
 "cells": [
  {
   "cell_type": "markdown",
   "id": "02fc6494",
   "metadata": {},
   "source": [
    "# Dataframes mit Merge über gemeinse Spaltennamen zufammenführen\n",
    "\n",
    "die `Merge`-Methode bietet alle nötigen Join-Methoden an, um Dataframes zusammenzuführen. Sie ist mächtiger als die einfachere `Concat`-Methode aus dem Kapitel davor.\n",
    "\n",
    "die Merge-Methode erwartet einen linken Dataframe `left`, einen rechten DataFrame `right`, die Angabe der gewüschnter `Join`-Operation und mit `on` die Angabe, auf welcher Spalte bzw. ob auf den Indizies zusammengeführt werden soll.\n",
    "\n",
    "Grundsätzlich ist es eine gute Idee, Merge zu nutzen, wenn man auf Spaltenbasis zusammenführen will. Für das Zusammenführen auf der Indexmenge gibt es noch die Methode `join`.\n",
    "\n",
    "\n",
    "## Beispiel\n",
    "Wir haben zwei DataFrames. `df_left` ist das  linke Dataframe, `df_right` ist das rechte DataFrame. Beide Dataframes teilen eine Spalte gleichen Namens, nämlich `motor`. Wir wollen dieses Dataframe jetzt zu einem Dataframe verbinden und nutzen dazu als gemeinsame Spalte `motor`. "
   ]
  },
  {
   "cell_type": "code",
   "execution_count": 4,
   "id": "bdbf4f8b",
   "metadata": {},
   "outputs": [
    {
     "data": {
      "text/html": [
       "<div>\n",
       "<style scoped>\n",
       "    .dataframe tbody tr th:only-of-type {\n",
       "        vertical-align: middle;\n",
       "    }\n",
       "\n",
       "    .dataframe tbody tr th {\n",
       "        vertical-align: top;\n",
       "    }\n",
       "\n",
       "    .dataframe thead th {\n",
       "        text-align: right;\n",
       "    }\n",
       "</style>\n",
       "<table border=\"1\" class=\"dataframe\">\n",
       "  <thead>\n",
       "    <tr style=\"text-align: right;\">\n",
       "      <th></th>\n",
       "      <th>motor</th>\n",
       "      <th>acc</th>\n",
       "    </tr>\n",
       "  </thead>\n",
       "  <tbody>\n",
       "    <tr>\n",
       "      <th>0</th>\n",
       "      <td>A1</td>\n",
       "      <td>133</td>\n",
       "    </tr>\n",
       "    <tr>\n",
       "      <th>1</th>\n",
       "      <td>A2</td>\n",
       "      <td>132</td>\n",
       "    </tr>\n",
       "    <tr>\n",
       "      <th>2</th>\n",
       "      <td>A3</td>\n",
       "      <td>145</td>\n",
       "    </tr>\n",
       "    <tr>\n",
       "      <th>3</th>\n",
       "      <td>A4</td>\n",
       "      <td>111</td>\n",
       "    </tr>\n",
       "  </tbody>\n",
       "</table>\n",
       "</div>"
      ],
      "text/plain": [
       "  motor  acc\n",
       "0    A1  133\n",
       "1    A2  132\n",
       "2    A3  145\n",
       "3    A4  111"
      ]
     },
     "metadata": {},
     "output_type": "display_data"
    },
    {
     "data": {
      "text/html": [
       "<div>\n",
       "<style scoped>\n",
       "    .dataframe tbody tr th:only-of-type {\n",
       "        vertical-align: middle;\n",
       "    }\n",
       "\n",
       "    .dataframe tbody tr th {\n",
       "        vertical-align: top;\n",
       "    }\n",
       "\n",
       "    .dataframe thead th {\n",
       "        text-align: right;\n",
       "    }\n",
       "</style>\n",
       "<table border=\"1\" class=\"dataframe\">\n",
       "  <thead>\n",
       "    <tr style=\"text-align: right;\">\n",
       "      <th></th>\n",
       "      <th>motor</th>\n",
       "      <th>max</th>\n",
       "    </tr>\n",
       "  </thead>\n",
       "  <tbody>\n",
       "    <tr>\n",
       "      <th>0</th>\n",
       "      <td>A1</td>\n",
       "      <td>233</td>\n",
       "    </tr>\n",
       "    <tr>\n",
       "      <th>1</th>\n",
       "      <td>A2</td>\n",
       "      <td>98</td>\n",
       "    </tr>\n",
       "    <tr>\n",
       "      <th>2</th>\n",
       "      <td>A3</td>\n",
       "      <td>241</td>\n",
       "    </tr>\n",
       "    <tr>\n",
       "      <th>3</th>\n",
       "      <td>A4</td>\n",
       "      <td>198</td>\n",
       "    </tr>\n",
       "  </tbody>\n",
       "</table>\n",
       "</div>"
      ],
      "text/plain": [
       "  motor  max\n",
       "0    A1  233\n",
       "1    A2   98\n",
       "2    A3  241\n",
       "3    A4  198"
      ]
     },
     "metadata": {},
     "output_type": "display_data"
    }
   ],
   "source": [
    "import numpy as np\n",
    "import pandas as pd\n",
    "import matplotlib.pyplot as plt\n",
    "\n",
    "df_left = pd.DataFrame({\n",
    "    \"motor\": [\"A1\", \"A2\", \"A3\", \"A4\"],\n",
    "    \"acc\": [133, 132, 145, 111],\n",
    "})\n",
    "\n",
    "\n",
    "df_right = pd.DataFrame({\n",
    "    \"motor\": [\"A1\", \"A2\", \"A3\", \"A4\"],\n",
    "    \"max\": [233, 98, 241, 198],\n",
    "})\n",
    "\n",
    "display(df_left)\n",
    "display(df_right)"
   ]
  },
  {
   "cell_type": "code",
   "execution_count": 1,
   "id": "a830961f",
   "metadata": {},
   "outputs": [],
   "source": [
    "# mit dem on-Keyword wird der Spaltenname angegeben, der in beiden DF gleich ist"
   ]
  },
  {
   "cell_type": "markdown",
   "id": "684fb896",
   "metadata": {},
   "source": [
    "## Beispiel mit unterschiedlichen Keys\n",
    "Bei unterschiedlichen Spaltenwerten gehen Daten verloren"
   ]
  },
  {
   "cell_type": "code",
   "execution_count": 5,
   "id": "956be00c",
   "metadata": {},
   "outputs": [],
   "source": [
    "df_left2 = pd.DataFrame({\n",
    "    \"motor\": [\"A1\", \"A2\", \"A3\", \"A5\"],\n",
    "    \"acc\": [133, 132, 145, 111],\n",
    "})\n",
    "\n",
    "\n",
    "df_right2 = pd.DataFrame({\n",
    "    \"motor\": [\"A1\", \"A2\", \"A3\", \"A4\"],\n",
    "    \"max\": [233, 98, 241, 198],\n",
    "})\n"
   ]
  },
  {
   "cell_type": "markdown",
   "id": "17f746fb",
   "metadata": {},
   "source": [
    "### Left Join, linke Spalte bleibt ganz erhalten\n",
    "resultiert natürlich in NaN-Werten für die fehlende Zeile"
   ]
  },
  {
   "cell_type": "code",
   "execution_count": 6,
   "id": "94c82654",
   "metadata": {},
   "outputs": [],
   "source": [
    "# Left join on motor"
   ]
  },
  {
   "cell_type": "markdown",
   "id": "f7326c7b",
   "metadata": {},
   "source": [
    "### Outer Join, beide Spalten bleiben erhalten\n",
    "resultiert natürlich in NaN-Werten für die fehlende Zeile"
   ]
  },
  {
   "cell_type": "code",
   "execution_count": 7,
   "id": "57b51f92",
   "metadata": {},
   "outputs": [],
   "source": [
    "# right join on motor"
   ]
  },
  {
   "cell_type": "markdown",
   "id": "65297531-ebac-4b8c-9790-437a184ffff9",
   "metadata": {},
   "source": [
    "# Aufgabe: Bevölkerungszahlen für verschiedene Länder\n",
    "\n",
    "Führe die beiden Dataframes zusammen und berechne die Bevölkerungsdichte pro Land"
   ]
  },
  {
   "cell_type": "code",
   "execution_count": 8,
   "id": "d9e79edb-4f8d-4b9a-9bc7-f50dc921d591",
   "metadata": {},
   "outputs": [
    {
     "name": "stdout",
     "output_type": "stream",
     "text": [
      "Zusammengeführte Tabelle mit Bevölkerungsdichte:\n"
     ]
    }
   ],
   "source": [
    "import pandas as pd\n",
    "\n",
    "# Bevölkerungszahlen für verschiedene Länder\n",
    "data_population = {\n",
    "    \"Land\": [\"Deutschland\", \"Frankreich\", \"Italien\", \"Spanien\"],\n",
    "    \"Bevölkerung\": [83000000, 67000000, 60000000, 47000000]\n",
    "}\n",
    "df_population = pd.DataFrame(data_population)\n",
    "\n",
    "# Flächenangaben für verschiedene Länder (in km²)\n",
    "data_area = {\n",
    "    \"Land\": [\"Deutschland\", \"Frankreich\", \"Italien\", \"Spanien\"],\n",
    "    \"Fläche_km2\": [357386, 551695, 301340, 505992]\n",
    "}\n",
    "df_area = pd.DataFrame(data_area)\n",
    "\n",
    "# TODO: Führe die Tabellen zusammen\n",
    "\n",
    "\n",
    "# TODO: Berechne die Bevölkerungsdichte (Einwohner pro km²)\n",
    "\n",
    "# Ausgabe des Ergebnisses\n",
    "print(\"Zusammengeführte Tabelle mit Bevölkerungsdichte:\")\n",
    "\n",
    "\n"
   ]
  },
  {
   "cell_type": "markdown",
   "id": "a4bb5a80-1077-4adb-bff3-9ded42ed7ab3",
   "metadata": {},
   "source": [
    "### **Erwartete Ausgabe**\n",
    "\n",
    "| Land        | Bevölkerung | Fläche (km²) | Bevölkerungsdichte (Einwohner/km²) |\n",
    "|-------------|-------------|--------------|----------------------------------|\n",
    "| Deutschland | 83,000,000  | 357,386      | 232.25                           |\n",
    "| Frankreich  | 67,000,000  | 551,695      | 121.46                           |\n",
    "| Italien     | 60,000,000  | 301,340      | 199.12                           |\n",
    "| Spanien     | 47,000,000  | 505,992      | 92.91                            |\n",
    "\n",
    "---"
   ]
  }
 ],
 "metadata": {
  "kernelspec": {
   "display_name": "Python 3 (ipykernel)",
   "language": "python",
   "name": "python3"
  },
  "language_info": {
   "codemirror_mode": {
    "name": "ipython",
    "version": 3
   },
   "file_extension": ".py",
   "mimetype": "text/x-python",
   "name": "python",
   "nbconvert_exporter": "python",
   "pygments_lexer": "ipython3",
   "version": "3.12.4"
  }
 },
 "nbformat": 4,
 "nbformat_minor": 5
}
