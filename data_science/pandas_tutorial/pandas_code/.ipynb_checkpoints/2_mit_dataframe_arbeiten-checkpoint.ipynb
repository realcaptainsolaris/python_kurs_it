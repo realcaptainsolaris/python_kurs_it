{
 "cells": [
  {
   "cell_type": "markdown",
   "id": "56db036d",
   "metadata": {},
   "source": [
    "# Arbeiten mit Pandas DataFrame (Indexing, Slicing)\n",
    "Wir erstellen uns einen Test-Dataframe mit 4 Spalten"
   ]
  },
  {
   "cell_type": "code",
   "execution_count": 2,
   "id": "c3b9a957",
   "metadata": {},
   "outputs": [],
   "source": [
    "import numpy as np\n",
    "import pandas as pd\n",
    "np.random.seed(42)\n",
    "\n",
    "# Test-Dataframe erstellen mit fortlaufendem alphabetischen Index (A, B, C ...)"
   ]
  },
  {
   "cell_type": "code",
   "execution_count": 3,
   "id": "1d352706",
   "metadata": {},
   "outputs": [],
   "source": [
    "columns = [\"AK\", \"BE\", \"CO\", \"DI\"]\n",
    "values = np.random.uniform(low=2, high=4, size=(10, len(columns)))"
   ]
  },
  {
   "cell_type": "markdown",
   "id": "73ae9dd5",
   "metadata": {},
   "source": [
    "## DataFrame Info\n",
    "Um allgemeine Informationen wie Speicherbedarf über einen DataFrame zu erhalten, gibt es die Methode info"
   ]
  },
  {
   "cell_type": "code",
   "execution_count": 4,
   "id": "912f2d5e",
   "metadata": {},
   "outputs": [],
   "source": [
    "# info"
   ]
  },
  {
   "cell_type": "markdown",
   "id": "95ca5a00",
   "metadata": {},
   "source": [
    "## Dataframe kopieren\n",
    "Wenn wir einen Dataframe kopieren wollen, reicht es nicht, ihn einer neuen Variable zuzuweisen. Dieses Verhalten entspricht den veränderbaren Datentypen in Python wie Liste oder Dictionary. Zum Kopieren nutzen wir die Methode `copy`"
   ]
  },
  {
   "cell_type": "code",
   "execution_count": 5,
   "id": "8de8d23c",
   "metadata": {},
   "outputs": [],
   "source": [
    "# Dataframe kopieren und neuer Variablen zuweisen"
   ]
  },
  {
   "cell_type": "code",
   "execution_count": 35,
   "id": "41b16a3c-76a8-4180-900e-946eafc0083b",
   "metadata": {},
   "outputs": [
    {
     "data": {
      "text/html": [
       "<div>\n",
       "<style scoped>\n",
       "    .dataframe tbody tr th:only-of-type {\n",
       "        vertical-align: middle;\n",
       "    }\n",
       "\n",
       "    .dataframe tbody tr th {\n",
       "        vertical-align: top;\n",
       "    }\n",
       "\n",
       "    .dataframe thead th {\n",
       "        text-align: right;\n",
       "    }\n",
       "</style>\n",
       "<table border=\"1\" class=\"dataframe\">\n",
       "  <thead>\n",
       "    <tr style=\"text-align: right;\">\n",
       "      <th></th>\n",
       "      <th>AK</th>\n",
       "      <th>BE</th>\n",
       "      <th>CO</th>\n",
       "      <th>DI</th>\n",
       "    </tr>\n",
       "  </thead>\n",
       "  <tbody>\n",
       "    <tr>\n",
       "      <th>A</th>\n",
       "      <td>4.488153</td>\n",
       "      <td>14.951769</td>\n",
       "      <td>28.962879</td>\n",
       "      <td>110.740583</td>\n",
       "    </tr>\n",
       "    <tr>\n",
       "      <th>B</th>\n",
       "      <td>5.035120</td>\n",
       "      <td>16.625223</td>\n",
       "      <td>36.727910</td>\n",
       "      <td>88.163945</td>\n",
       "    </tr>\n",
       "    <tr>\n",
       "      <th>C</th>\n",
       "      <td>6.186841</td>\n",
       "      <td>11.848545</td>\n",
       "      <td>55.148370</td>\n",
       "      <td>102.957704</td>\n",
       "    </tr>\n",
       "    <tr>\n",
       "      <th>D</th>\n",
       "      <td>7.757996</td>\n",
       "      <td>18.948274</td>\n",
       "      <td>44.741199</td>\n",
       "      <td>111.468706</td>\n",
       "    </tr>\n",
       "    <tr>\n",
       "      <th>E</th>\n",
       "      <td>4.353970</td>\n",
       "      <td>11.959829</td>\n",
       "      <td>29.266364</td>\n",
       "      <td>76.869159</td>\n",
       "    </tr>\n",
       "    <tr>\n",
       "      <th>F</th>\n",
       "      <td>5.554709</td>\n",
       "      <td>12.713490</td>\n",
       "      <td>51.204650</td>\n",
       "      <td>78.691693</td>\n",
       "    </tr>\n",
       "    <tr>\n",
       "      <th>G</th>\n",
       "      <td>5.123738</td>\n",
       "      <td>15.426961</td>\n",
       "      <td>31.945878</td>\n",
       "      <td>104.527425</td>\n",
       "    </tr>\n",
       "    <tr>\n",
       "      <th>H</th>\n",
       "      <td>4.298203</td>\n",
       "      <td>19.868869</td>\n",
       "      <td>49.622854</td>\n",
       "      <td>69.525510</td>\n",
       "    </tr>\n",
       "    <tr>\n",
       "      <th>I</th>\n",
       "      <td>4.022088</td>\n",
       "      <td>18.154614</td>\n",
       "      <td>47.792006</td>\n",
       "      <td>100.282416</td>\n",
       "    </tr>\n",
       "    <tr>\n",
       "      <th>J</th>\n",
       "      <td>7.085081</td>\n",
       "      <td>10.740447</td>\n",
       "      <td>38.037040</td>\n",
       "      <td>64.720405</td>\n",
       "    </tr>\n",
       "  </tbody>\n",
       "</table>\n",
       "</div>"
      ],
      "text/plain": [
       "         AK         BE         CO          DI\n",
       "A  4.488153  14.951769  28.962879  110.740583\n",
       "B  5.035120  16.625223  36.727910   88.163945\n",
       "C  6.186841  11.848545  55.148370  102.957704\n",
       "D  7.757996  18.948274  44.741199  111.468706\n",
       "E  4.353970  11.959829  29.266364   76.869159\n",
       "F  5.554709  12.713490  51.204650   78.691693\n",
       "G  5.123738  15.426961  31.945878  104.527425\n",
       "H  4.298203  19.868869  49.622854   69.525510\n",
       "I  4.022088  18.154614  47.792006  100.282416\n",
       "J  7.085081  10.740447  38.037040   64.720405"
      ]
     },
     "execution_count": 35,
     "metadata": {},
     "output_type": "execute_result"
    }
   ],
   "source": [
    "# unveränderter Dataframe df\n",
    "df"
   ]
  },
  {
   "cell_type": "markdown",
   "id": "256df689",
   "metadata": {},
   "source": [
    "# Spalten eines Dataframes"
   ]
  },
  {
   "cell_type": "markdown",
   "id": "ddcf0ff6",
   "metadata": {},
   "source": [
    "## Spaltennamen umbenennen\n",
    "Wir können die Spaltennamen entweder beim Erstellen des DataFrames oder später umbenennen"
   ]
  },
  {
   "cell_type": "code",
   "execution_count": 6,
   "id": "01ddaed3",
   "metadata": {},
   "outputs": [],
   "source": [
    "d = {\n",
    "    \"a\": [2, 3],\n",
    "    \"b\": [33, 123],\n",
    "    \"c\": [0.3, 0.234]\n",
    "}\n",
    "# DataFrame erstellen und via rename die Spalten umbenennen"
   ]
  },
  {
   "cell_type": "markdown",
   "id": "4f4dc41b",
   "metadata": {},
   "source": [
    "## Spaltenamen umbennen mit lambda"
   ]
  },
  {
   "cell_type": "code",
   "execution_count": 7,
   "id": "1ca2d2eb",
   "metadata": {},
   "outputs": [],
   "source": [
    "# rename: wir wollen das \"_1\" in den Spaltennamen löschen. Dazu können wir auch mit Lambda-Funktionen arbeiten\n",
    "d = {\n",
    "    \"a_1\": [2, 3],\n",
    "    \"b_1\": [33, 123],\n",
    "    \"c_1\": [0.3, 0.234]\n",
    "}\n"
   ]
  },
  {
   "cell_type": "markdown",
   "id": "ecd5510e",
   "metadata": {},
   "source": [
    "## Spaltennamen umbennen mit list comprehensions"
   ]
  },
  {
   "cell_type": "code",
   "execution_count": 8,
   "id": "31527511",
   "metadata": {},
   "outputs": [],
   "source": [
    "# rename: wir wollen das nur den ersten Teil des Dictionary-Keys als Spaltenname haben. \n",
    "# Und diesen normalisiert als lowercase\n",
    "d = {\n",
    "    \"a 32\": [2, 3],\n",
    "    \"B 3\": [33, 123],\n",
    "    \"c 232\": [0.3, 0.234]\n",
    "}"
   ]
  },
  {
   "cell_type": "markdown",
   "id": "636e16be",
   "metadata": {},
   "source": [
    "## eine Spalte adressieren\n",
    "Eine Spalte eines DataFrames ist eine Pandas Series"
   ]
  },
  {
   "cell_type": "code",
   "execution_count": 9,
   "id": "75f17b69",
   "metadata": {},
   "outputs": [],
   "source": [
    "# Zugriff aus Spalte AK"
   ]
  },
  {
   "cell_type": "markdown",
   "id": "a9811c67",
   "metadata": {},
   "source": [
    "## zwei Spalten adressieren und Wertzuweisung\n",
    "Werden zwei oder mehr Spalten adressiert, ergibt sich wieder ein Dataframe. Die gewählten Spalten müssen natürlich nicht nebeneinanderliegen."
   ]
  },
  {
   "cell_type": "code",
   "execution_count": 11,
   "id": "1888ff3e",
   "metadata": {},
   "outputs": [],
   "source": [
    "# zwei Spalten selektieren und Werte zuweisen"
   ]
  },
  {
   "cell_type": "markdown",
   "id": "bceec81b",
   "metadata": {},
   "source": [
    "### Spalte zu neuem Index machen"
   ]
  },
  {
   "cell_type": "code",
   "execution_count": 12,
   "id": "2ef08d1f",
   "metadata": {},
   "outputs": [
    {
     "data": {
      "text/html": [
       "<div>\n",
       "<style scoped>\n",
       "    .dataframe tbody tr th:only-of-type {\n",
       "        vertical-align: middle;\n",
       "    }\n",
       "\n",
       "    .dataframe tbody tr th {\n",
       "        vertical-align: top;\n",
       "    }\n",
       "\n",
       "    .dataframe thead th {\n",
       "        text-align: right;\n",
       "    }\n",
       "</style>\n",
       "<table border=\"1\" class=\"dataframe\">\n",
       "  <thead>\n",
       "    <tr style=\"text-align: right;\">\n",
       "      <th></th>\n",
       "      <th>a</th>\n",
       "      <th>b</th>\n",
       "      <th>c</th>\n",
       "    </tr>\n",
       "  </thead>\n",
       "  <tbody>\n",
       "    <tr>\n",
       "      <th>0</th>\n",
       "      <td>2</td>\n",
       "      <td>2</td>\n",
       "      <td>2.000</td>\n",
       "    </tr>\n",
       "    <tr>\n",
       "      <th>1</th>\n",
       "      <td>33</td>\n",
       "      <td>123</td>\n",
       "      <td>0.234</td>\n",
       "    </tr>\n",
       "  </tbody>\n",
       "</table>\n",
       "</div>"
      ],
      "text/plain": [
       "    a    b      c\n",
       "0   2    2  2.000\n",
       "1  33  123  0.234"
      ]
     },
     "execution_count": 12,
     "metadata": {},
     "output_type": "execute_result"
    }
   ],
   "source": [
    "d = {\n",
    "    \"a\": [2, 33],\n",
    "    \"b\": [2, 123],\n",
    "    \"c\": [2, 0.234]\n",
    "}\n",
    "x = pd.DataFrame(d)\n",
    "x"
   ]
  },
  {
   "cell_type": "markdown",
   "id": "c9425ad2-69f6-466c-b410-abfd3eb12b26",
   "metadata": {},
   "source": [
    "### Spalte zu Index machen \n",
    "die Spalte a soll nun zum neuen Index werden. Damit hat das Dataframe \n",
    "nur noch zwei Spalten"
   ]
  },
  {
   "cell_type": "code",
   "execution_count": 13,
   "id": "9c30e44f",
   "metadata": {},
   "outputs": [],
   "source": [
    "# Spalte a soll der neue Index sein"
   ]
  },
  {
   "cell_type": "code",
   "execution_count": 14,
   "id": "49597872",
   "metadata": {},
   "outputs": [],
   "source": [
    "# Shape von x ausgeben"
   ]
  },
  {
   "cell_type": "markdown",
   "id": "1a012375",
   "metadata": {},
   "source": [
    "## Zeilen und Spalten slicen mit iloc (Index-Slicen)\n",
    "Mit der Methode iloc lassen sich Dataframes nach Zeilen und Spalten slicen bzw. indizieren. Dafür übergibt man für die Zeilen und Spalten jeweils Indizies bzw. Slicing-Operationen. .iloc ist eine positionsbasierte Indexierungsmethode in Pandas, mit der Sie Daten anhand ihrer numerischen Position (ähnlich wie in Listen oder Arrays) ansprechen können.\n",
    "\n",
    "### Was ist `.iloc` in Pandas?\n",
    "\n",
    "`.iloc` ist eine **positionsbasierte Indexierungsmethode** in Pandas, mit der Sie Daten anhand ihrer **numerischen Position** (ähnlich wie in Listen oder Arrays) ansprechen können.\n",
    "\n",
    "---\n",
    "\n",
    "### **Eigenschaften von `.iloc`**\n",
    "1. **Positionsbasiert:** `.iloc` verwendet **numerische Indizes**, die bei 0 beginnen.\n",
    "2. **Zugriff auf Zeilen und Spalten:** Sie können Zeilen, Spalten oder bestimmte Werte basierend auf ihrer Position auswählen.\n",
    "3. **Flexibel:** Unterstützt verschiedene Zugriffsarten wie einzelne Werte, Bereiche, Listen von Indizes und sogar Bedingungen.\n",
    "\n",
    "---\n",
    "\n",
    "### **Grundlegender Syntax**\n",
    "\n",
    "```python\n",
    "# Allgemeine Syntax\n",
    "df.iloc[row_index, column_index]\n",
    "```\n",
    "\n",
    "- `row_index`: Position der Zeile, die Sie ansprechen wollen.\n",
    "- `column_index`: Position der Spalte, die Sie ansprechen wollen.\n",
    "- Beides beginnt bei 0.\n",
    "\n",
    "---\n",
    "\n",
    "### **Beispiele für `.iloc`**\n",
    "\n",
    "#### **1. Zugriff auf eine bestimmte Zeile oder Spalte**\n",
    "```python\n",
    "import pandas as pd\n",
    "\n",
    "# Beispiel-DataFrame\n",
    "data = {'A': [10, 20, 30], 'B': [40, 50, 60]}\n",
    "df = pd.DataFrame(data)\n",
    "\n",
    "# Zugriff auf die 2. Zeile (Index 1)\n",
    "print(df.iloc[1])  # Ausgabe: Zeile 1 (20, 50)\n",
    "\n",
    "# Zugriff auf die 1. Spalte (Index 0)\n",
    "print(df.iloc[:, 0])  # Ausgabe: Spalte A\n",
    "```\n",
    "\n",
    "#### **2. Zugriff auf ein bestimmtes Element**\n",
    "```python\n",
    "# Zugriff auf die Zelle in Zeile 2, Spalte 1\n",
    "print(df.iloc[1, 0])  # Ausgabe: 20\n",
    "```\n",
    "\n",
    "#### **3. Zugriff auf mehrere Zeilen oder Spalten (mit Listen oder Bereichen)**\n",
    "```python\n",
    "# Zugriff auf Zeilen 1 bis 2 (ausschließlich 3)\n",
    "print(df.iloc[1:3])\n",
    "\n",
    "# Zugriff auf die Spalten 0 und 1\n",
    "print(df.iloc[:, [0, 1]])\n",
    "```\n",
    "\n",
    "#### **4. Zugriff mit negativen Indizes**\n",
    "```python\n",
    "# Zugriff auf die letzte Zeile\n",
    "print(df.iloc[-1])  # Ausgabe: (30, 60)\n",
    "```\n",
    "\n",
    "---\n",
    "\n"
   ]
  },
  {
   "cell_type": "code",
   "execution_count": 15,
   "id": "70150c09",
   "metadata": {},
   "outputs": [],
   "source": [
    "# iloc -Beispiele\n"
   ]
  },
  {
   "cell_type": "markdown",
   "id": "c543bcd7-4f54-4949-955f-097a150bbe74",
   "metadata": {},
   "source": [
    "## Aufgabe: \n",
    "\n",
    "- Extrahiere die 1-2 Zeile und die 3-4 Spalte des Dataframes.\n",
    "- Konvertiere alle Spalten zu float32."
   ]
  },
  {
   "cell_type": "code",
   "execution_count": 16,
   "id": "e540c1b3",
   "metadata": {},
   "outputs": [],
   "source": [
    "d = {\n",
    "    \"a\": [2, 3, 3, 2, 1, 33],\n",
    "    \"b\": [33, 123, 23, 23, 12, 99],\n",
    "    \"c\": [0.3, 0.234, 0.2, 0.1, 0.2, 0.99],\n",
    "    \"d\": [0.13, 0.1234, 1.2, 0.1, 0.2, 0.99],\n",
    "    \"e\": [1.3, 1.234, 0.2, 0.9, 0.2, 0.99],\n",
    "}\n",
    "# Erstelle DataFrame und extrahiere 1-2 Zeile (index 0 - 1) und 4-5 Spalte (index 3 - 4)\n",
    "# Das Ergebnis sollte so aussehen:\n",
    "# 0.1300  1.300\n",
    "# 0.1234  1.234\n",
    "\n",
    "# Happy Coding! 5 Minuten Zeit\n"
   ]
  },
  {
   "cell_type": "markdown",
   "id": "2b11e3c3",
   "metadata": {},
   "source": [
    "## Zeilen und Spalten slicen mit loc (Label-Slicen)\n",
    "Mit loc lässt sich über die Spaltennamen und Indexnamen slicen\n",
    "\n",
    "### **Vergleich `.iloc` vs. `.loc`**\n",
    "\n",
    "\n",
    "| Feature               | `.iloc`                        | `.loc`                       |\n",
    "|-----------------------|---------------------------------|------------------------------|\n",
    "| **Indexart**          | Positionsbasiert (numerisch)   | Labelbasiert (z. B. Namen)   |\n",
    "| **Syntax**            | `iloc[row, col]`               | `loc[row_label, col_label]`  |\n",
    "| **Beispiele**         | `iloc[0, 1]`                   | `loc['Zeile1', 'SpalteB']`   |\n",
    "| **Negative Indizes**  | Unterstützt                    | Nicht unterstützt            |\n"
   ]
  },
  {
   "cell_type": "code",
   "execution_count": 17,
   "id": "882c0957",
   "metadata": {},
   "outputs": [
    {
     "ename": "NameError",
     "evalue": "name 'df' is not defined",
     "output_type": "error",
     "traceback": [
      "\u001b[0;31m---------------------------------------------------------------------------\u001b[0m",
      "\u001b[0;31mNameError\u001b[0m                                 Traceback (most recent call last)",
      "Cell \u001b[0;32mIn[17], line 1\u001b[0m\n\u001b[0;32m----> 1\u001b[0m \u001b[38;5;28mprint\u001b[39m(\u001b[43mdf\u001b[49m)\n\u001b[1;32m      2\u001b[0m \u001b[38;5;28mprint\u001b[39m(\u001b[38;5;124m\"\u001b[39m\u001b[38;5;124m-----\u001b[39m\u001b[38;5;124m\"\u001b[39m)\n",
      "\u001b[0;31mNameError\u001b[0m: name 'df' is not defined"
     ]
    }
   ],
   "source": [
    "print(df)\n",
    "print(\"-----\")"
   ]
  },
  {
   "cell_type": "markdown",
   "id": "5770bed3",
   "metadata": {},
   "source": [
    "## Slicing und neue Zuweisung\n",
    "Wir können den Slicing-Operator im Zusammenhang mit `loc` auch nutzen, um neue Zuweisungen zu machen."
   ]
  },
  {
   "cell_type": "code",
   "execution_count": 18,
   "id": "38ae216b",
   "metadata": {},
   "outputs": [
    {
     "ename": "NameError",
     "evalue": "name 'df' is not defined",
     "output_type": "error",
     "traceback": [
      "\u001b[0;31m---------------------------------------------------------------------------\u001b[0m",
      "\u001b[0;31mNameError\u001b[0m                                 Traceback (most recent call last)",
      "Cell \u001b[0;32mIn[18], line 2\u001b[0m\n\u001b[1;32m      1\u001b[0m \u001b[38;5;66;03m# wir setzen in den Zeilen mit index A und C den Spaltenwert AK auf 99 \u001b[39;00m\n\u001b[0;32m----> 2\u001b[0m \u001b[43mdf\u001b[49m\u001b[38;5;241m.\u001b[39mloc[[\u001b[38;5;124m\"\u001b[39m\u001b[38;5;124mA\u001b[39m\u001b[38;5;124m\"\u001b[39m, \u001b[38;5;124m\"\u001b[39m\u001b[38;5;124mC\u001b[39m\u001b[38;5;124m\"\u001b[39m], [\u001b[38;5;124m\"\u001b[39m\u001b[38;5;124mAK\u001b[39m\u001b[38;5;124m\"\u001b[39m]] \u001b[38;5;241m=\u001b[39m \u001b[38;5;241m99\u001b[39m\n\u001b[1;32m      4\u001b[0m \u001b[38;5;66;03m# wir setzen in den Zeilen mit Indizies [A, B] die Spaltenwerte BE und CO auf 123\u001b[39;00m\n\u001b[1;32m      5\u001b[0m df\u001b[38;5;241m.\u001b[39mloc[[\u001b[38;5;124m\"\u001b[39m\u001b[38;5;124mA\u001b[39m\u001b[38;5;124m\"\u001b[39m, \u001b[38;5;124m\"\u001b[39m\u001b[38;5;124mB\u001b[39m\u001b[38;5;124m\"\u001b[39m], [\u001b[38;5;124m\"\u001b[39m\u001b[38;5;124mBE\u001b[39m\u001b[38;5;124m\"\u001b[39m, \u001b[38;5;124m\"\u001b[39m\u001b[38;5;124mCO\u001b[39m\u001b[38;5;124m\"\u001b[39m]] \u001b[38;5;241m=\u001b[39m \u001b[38;5;241m123\u001b[39m\n",
      "\u001b[0;31mNameError\u001b[0m: name 'df' is not defined"
     ]
    }
   ],
   "source": [
    "# wir setzen in den Zeilen mit index A und C den Spaltenwert AK auf 99 \n",
    "df.loc[[\"A\", \"C\"], [\"AK\"]] = 99\n",
    "\n",
    "# wir setzen in den Zeilen mit Indizies [A, B] die Spaltenwerte BE und CO auf 123\n",
    "df.loc[[\"A\", \"B\"], [\"BE\", \"CO\"]] = 123\n",
    "df\n",
    "\n",
    "# wir setzen in den Zeilen mit Indizies A und B den Spaltenwert BE auf die Summe von DI und AK\n",
    "df.loc[[\"A\", \"B\"], [\"BE\"]] = df.loc[[\"A\", \"B\"], \"DI\"] + df.loc[[\"A\", \"B\"], \"AK\"]\n",
    "df"
   ]
  },
  {
   "cell_type": "markdown",
   "id": "fd23ff09",
   "metadata": {},
   "source": [
    "## Alle Zeilen, die den Index B, E oder H haben"
   ]
  },
  {
   "cell_type": "code",
   "execution_count": 19,
   "id": "a3031404",
   "metadata": {},
   "outputs": [
    {
     "ename": "NameError",
     "evalue": "name 'df' is not defined",
     "output_type": "error",
     "traceback": [
      "\u001b[0;31m---------------------------------------------------------------------------\u001b[0m",
      "\u001b[0;31mNameError\u001b[0m                                 Traceback (most recent call last)",
      "Cell \u001b[0;32mIn[19], line 1\u001b[0m\n\u001b[0;32m----> 1\u001b[0m \u001b[43mdf\u001b[49m\u001b[38;5;241m.\u001b[39mloc[[\u001b[38;5;124m\"\u001b[39m\u001b[38;5;124mB\u001b[39m\u001b[38;5;124m\"\u001b[39m, \u001b[38;5;124m\"\u001b[39m\u001b[38;5;124mE\u001b[39m\u001b[38;5;124m\"\u001b[39m, \u001b[38;5;124m\"\u001b[39m\u001b[38;5;124mH\u001b[39m\u001b[38;5;124m\"\u001b[39m]]\n",
      "\u001b[0;31mNameError\u001b[0m: name 'df' is not defined"
     ]
    }
   ],
   "source": [
    "df.loc[[\"B\", \"E\", \"H\"]]"
   ]
  }
 ],
 "metadata": {
  "kernelspec": {
   "display_name": "Python 3 (ipykernel)",
   "language": "python",
   "name": "python3"
  },
  "language_info": {
   "codemirror_mode": {
    "name": "ipython",
    "version": 3
   },
   "file_extension": ".py",
   "mimetype": "text/x-python",
   "name": "python",
   "nbconvert_exporter": "python",
   "pygments_lexer": "ipython3",
   "version": "3.12.4"
  },
  "vscode": {
   "interpreter": {
    "hash": "7723de124a472222161f85b3a7b4500ba8ecfa8171d3881b019f61239b0ab48e"
   }
  }
 },
 "nbformat": 4,
 "nbformat_minor": 5
}
