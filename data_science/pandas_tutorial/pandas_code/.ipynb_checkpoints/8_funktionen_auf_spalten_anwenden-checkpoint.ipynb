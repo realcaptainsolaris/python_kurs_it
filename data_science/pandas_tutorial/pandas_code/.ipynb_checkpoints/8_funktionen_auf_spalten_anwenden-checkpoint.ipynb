{
 "cells": [
  {
   "cell_type": "markdown",
   "id": "12bc3004",
   "metadata": {},
   "source": [
    "# Die Apply Methode\n",
    "Mit der Apply-Methode lassen sich auf Spalten Funktionen anwenden. So könnte man zum Beispiel Einträge einer Spalte anhand einer Vergleichsfunktion kategorisieren oder die Einträge verändern.\n",
    "\n",
    "Doku:\n",
    "https://pandas.pydata.org/docs/reference/api/pandas.DataFrame.apply.html\n"
   ]
  },
  {
   "cell_type": "code",
   "execution_count": 1,
   "id": "523d74e1",
   "metadata": {},
   "outputs": [],
   "source": [
    "import numpy as np\n",
    "import pandas as pd\n",
    "import matplotlib.pyplot as plt"
   ]
  },
  {
   "cell_type": "markdown",
   "id": "7fdea72a",
   "metadata": {},
   "source": [
    "## Beispiel \n",
    "Gegeben ist ein Dataframe mit Daten von Bergen. Wir wollen jetzt die Einträge der Spalte \"Hill_Name\" so verändern, dass wir den Suffix \"_MT\" von jeden jedem Eintrag rauslöschen."
   ]
  },
  {
   "cell_type": "code",
   "execution_count": 2,
   "id": "c5f0078e",
   "metadata": {},
   "outputs": [
    {
     "data": {
      "text/html": [
       "<div>\n",
       "<style scoped>\n",
       "    .dataframe tbody tr th:only-of-type {\n",
       "        vertical-align: middle;\n",
       "    }\n",
       "\n",
       "    .dataframe tbody tr th {\n",
       "        vertical-align: top;\n",
       "    }\n",
       "\n",
       "    .dataframe thead th {\n",
       "        text-align: right;\n",
       "    }\n",
       "</style>\n",
       "<table border=\"1\" class=\"dataframe\">\n",
       "  <thead>\n",
       "    <tr style=\"text-align: right;\">\n",
       "      <th></th>\n",
       "      <th>Hill_Name</th>\n",
       "      <th>Height</th>\n",
       "      <th>Latitude</th>\n",
       "      <th>Longitude</th>\n",
       "    </tr>\n",
       "  </thead>\n",
       "  <tbody>\n",
       "    <tr>\n",
       "      <th>0</th>\n",
       "      <td>Ben Nevis_MT</td>\n",
       "      <td>1345</td>\n",
       "      <td>56.796850</td>\n",
       "      <td>-5.003508</td>\n",
       "    </tr>\n",
       "    <tr>\n",
       "      <th>1</th>\n",
       "      <td>Ben Macdui_MT</td>\n",
       "      <td>1309</td>\n",
       "      <td>57.070453</td>\n",
       "      <td>-3.668262</td>\n",
       "    </tr>\n",
       "    <tr>\n",
       "      <th>2</th>\n",
       "      <td>Braeriach_MT</td>\n",
       "      <td>1296</td>\n",
       "      <td>57.078628</td>\n",
       "      <td>-3.728024</td>\n",
       "    </tr>\n",
       "    <tr>\n",
       "      <th>3</th>\n",
       "      <td>Cairn Toul_MT</td>\n",
       "      <td>1291</td>\n",
       "      <td>57.054611</td>\n",
       "      <td>-3.710420</td>\n",
       "    </tr>\n",
       "    <tr>\n",
       "      <th>4</th>\n",
       "      <td>Sgòr an Lochan Uaine_MT</td>\n",
       "      <td>1258</td>\n",
       "      <td>57.057999</td>\n",
       "      <td>-3.725416</td>\n",
       "    </tr>\n",
       "  </tbody>\n",
       "</table>\n",
       "</div>"
      ],
      "text/plain": [
       "                 Hill_Name  Height   Latitude  Longitude\n",
       "0             Ben Nevis_MT    1345  56.796850  -5.003508\n",
       "1            Ben Macdui_MT    1309  57.070453  -3.668262\n",
       "2             Braeriach_MT    1296  57.078628  -3.728024\n",
       "3            Cairn Toul_MT    1291  57.054611  -3.710420\n",
       "4  Sgòr an Lochan Uaine_MT    1258  57.057999  -3.725416"
      ]
     },
     "execution_count": 2,
     "metadata": {},
     "output_type": "execute_result"
    }
   ],
   "source": [
    "scottish_hills = {\n",
    "    'Hill_Name': ['Ben Nevis_MT', 'Ben Macdui_MT', 'Braeriach_MT', 'Cairn Toul_MT', 'Sgòr an Lochan Uaine_MT'],\n",
    "    'Height': [1345, 1309, 1296, 1291, 1258],\n",
    "    'Latitude': [56.79685, 57.070453, 57.078628, 57.054611, 57.057999],\n",
    "    'Longitude': [-5.003508, -3.668262, -3.728024, -3.71042, -3.725416]}\n",
    "\n",
    "\n",
    "df = pd.DataFrame(scottish_hills)\n",
    "df"
   ]
  },
  {
   "cell_type": "markdown",
   "id": "1705a1a9",
   "metadata": {},
   "source": [
    "### Löschen des Suffixes _MT\n",
    "wir schreiben dazu eine Funktion, die einen String entgegennimmt, und den Substring _MT durch einen leeren String ersetzt. Danach nutzen wir die Methode apply auf der Spalte Hill_Name und führen somit für jeden Eintrag in dieser Spalte die Funktion auf. `apply()` erwartet als Argument eine Funktionsreferenz.\n",
    "\n",
    "Die Funktion `replace_suffix` erwartet als Parameter einen String. Die Funktion wird nun auf jeden Wert der Spalte angewandt."
   ]
  },
  {
   "cell_type": "code",
   "execution_count": 3,
   "id": "a88ae715",
   "metadata": {},
   "outputs": [],
   "source": [
    "# replace suffix"
   ]
  },
  {
   "cell_type": "markdown",
   "id": "b8c3cd6a",
   "metadata": {},
   "source": [
    "### Neue Spalte Bergkategorie\n",
    "Wir wollen jetzt eine neue Spalte in den DataFrame einfügen. Und zwar wollen wir eine Kategoriespalte haben, die den Berg nach seiner Höhe klassifiziert. Wir haben zwei Klassen: `small` und `big`. \n",
    "\n",
    "Dazu schreiben wir eine Funktion, die die Klassifizierung anhand der Spalte `Height` vornimmt. Und wir erstellen eine neue Spalte im Dataframe `df`."
   ]
  },
  {
   "cell_type": "code",
   "execution_count": 4,
   "id": "f4689551",
   "metadata": {},
   "outputs": [],
   "source": [
    "# Kategoriesierung"
   ]
  },
  {
   "cell_type": "code",
   "execution_count": 5,
   "id": "4c89959e",
   "metadata": {},
   "outputs": [],
   "source": [
    "# Barchart"
   ]
  },
  {
   "cell_type": "code",
   "execution_count": 6,
   "id": "310f42df",
   "metadata": {},
   "outputs": [],
   "source": [
    "# Rundung"
   ]
  },
  {
   "cell_type": "markdown",
   "id": "99e2a142",
   "metadata": {},
   "source": [
    "## Eindeutige Werte einer Spalte bestimmen"
   ]
  },
  {
   "cell_type": "code",
   "execution_count": 7,
   "id": "508068a7",
   "metadata": {},
   "outputs": [],
   "source": [
    "# eindeutige Kategorien des Bergers"
   ]
  },
  {
   "cell_type": "markdown",
   "id": "22df82b7",
   "metadata": {},
   "source": [
    "## Duplikate bestimmen\n",
    "Das Gegenteil von `unique` ist die Funktion `duplicated`. Diese Methode, die auf einen Dataframe sowie auf eine Series angewendet werden kann, erzeugt eine boolsche Serie aller Einträge, die doppelt in dem Dataframe vorkommen. wird die Methode auf einen `DataFrame` angewandt, werden bei der Überprüfung alle Spalten berücksichtigt.\n",
    "\n",
    "Mehr dazu unter:\n",
    "https://pandas.pydata.org/docs/reference/api/pandas.DataFrame.duplicated.html"
   ]
  },
  {
   "cell_type": "code",
   "execution_count": 8,
   "id": "515f03a6",
   "metadata": {},
   "outputs": [],
   "source": [
    "# Anzahl der Dupletten"
   ]
  },
  {
   "cell_type": "code",
   "execution_count": null,
   "id": "9da38b3d",
   "metadata": {},
   "outputs": [],
   "source": []
  },
  {
   "cell_type": "code",
   "execution_count": null,
   "id": "2a933bd7",
   "metadata": {},
   "outputs": [],
   "source": []
  }
 ],
 "metadata": {
  "kernelspec": {
   "display_name": "Python 3 (ipykernel)",
   "language": "python",
   "name": "python3"
  },
  "language_info": {
   "codemirror_mode": {
    "name": "ipython",
    "version": 3
   },
   "file_extension": ".py",
   "mimetype": "text/x-python",
   "name": "python",
   "nbconvert_exporter": "python",
   "pygments_lexer": "ipython3",
   "version": "3.12.4"
  }
 },
 "nbformat": 4,
 "nbformat_minor": 5
}
