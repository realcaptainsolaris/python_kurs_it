{
 "cells": [
  {
   "cell_type": "markdown",
   "id": "869ac738",
   "metadata": {},
   "source": [
    "# Boolsche Serien\n",
    "Durch Vergleichsoperatoren lassen sich Boolsche Serien erstellen, wie man das schon von Numpy kennt. Diese Serien lassen sich in einem weiteren Schritt für Filteroperationen nutzen.\n",
    "\n",
    "## Beispiel-Datei\n",
    "Wir lesen als Übungsdatei die `netflix_titles.csv` - Datei ein, die alle Filme und Serien, die auf Netflix verfügbar sind (bzw. 2019 waren) abbildet.\n",
    "\n",
    "### Untersuchen des Datensatzes\n",
    "Bevor wir mit dem Filtern beginnen, wollen wir den Datensatz untersuchen:"
   ]
  },
  {
   "cell_type": "code",
   "execution_count": 3,
   "id": "a751462c",
   "metadata": {},
   "outputs": [
    {
     "data": {
      "text/html": [
       "<div>\n",
       "<style scoped>\n",
       "    .dataframe tbody tr th:only-of-type {\n",
       "        vertical-align: middle;\n",
       "    }\n",
       "\n",
       "    .dataframe tbody tr th {\n",
       "        vertical-align: top;\n",
       "    }\n",
       "\n",
       "    .dataframe thead th {\n",
       "        text-align: right;\n",
       "    }\n",
       "</style>\n",
       "<table border=\"1\" class=\"dataframe\">\n",
       "  <thead>\n",
       "    <tr style=\"text-align: right;\">\n",
       "      <th></th>\n",
       "      <th>show_id</th>\n",
       "      <th>type</th>\n",
       "      <th>title</th>\n",
       "      <th>director</th>\n",
       "      <th>cast</th>\n",
       "      <th>country</th>\n",
       "      <th>date_added</th>\n",
       "      <th>release_year</th>\n",
       "      <th>rating</th>\n",
       "      <th>duration</th>\n",
       "      <th>listed_in</th>\n",
       "      <th>description</th>\n",
       "    </tr>\n",
       "  </thead>\n",
       "  <tbody>\n",
       "    <tr>\n",
       "      <th>0</th>\n",
       "      <td>s1</td>\n",
       "      <td>TV Show</td>\n",
       "      <td>3%</td>\n",
       "      <td>NaN</td>\n",
       "      <td>João Miguel, Bianca Comparato, Michel Gomes, R...</td>\n",
       "      <td>Brazil</td>\n",
       "      <td>August 14, 2020</td>\n",
       "      <td>2020</td>\n",
       "      <td>TV-MA</td>\n",
       "      <td>4 Seasons</td>\n",
       "      <td>International TV Shows, TV Dramas, TV Sci-Fi &amp;...</td>\n",
       "      <td>In a future where the elite inhabit an island ...</td>\n",
       "    </tr>\n",
       "    <tr>\n",
       "      <th>1</th>\n",
       "      <td>s2</td>\n",
       "      <td>Movie</td>\n",
       "      <td>7:19</td>\n",
       "      <td>Jorge Michel Grau</td>\n",
       "      <td>Demián Bichir, Héctor Bonilla, Oscar Serrano, ...</td>\n",
       "      <td>Mexico</td>\n",
       "      <td>December 23, 2016</td>\n",
       "      <td>2016</td>\n",
       "      <td>TV-MA</td>\n",
       "      <td>93 min</td>\n",
       "      <td>Dramas, International Movies</td>\n",
       "      <td>After a devastating earthquake hits Mexico Cit...</td>\n",
       "    </tr>\n",
       "  </tbody>\n",
       "</table>\n",
       "</div>"
      ],
      "text/plain": [
       "  show_id     type title           director  \\\n",
       "0      s1  TV Show    3%                NaN   \n",
       "1      s2    Movie  7:19  Jorge Michel Grau   \n",
       "\n",
       "                                                cast country  \\\n",
       "0  João Miguel, Bianca Comparato, Michel Gomes, R...  Brazil   \n",
       "1  Demián Bichir, Héctor Bonilla, Oscar Serrano, ...  Mexico   \n",
       "\n",
       "          date_added  release_year rating   duration  \\\n",
       "0    August 14, 2020          2020  TV-MA  4 Seasons   \n",
       "1  December 23, 2016          2016  TV-MA     93 min   \n",
       "\n",
       "                                           listed_in  \\\n",
       "0  International TV Shows, TV Dramas, TV Sci-Fi &...   \n",
       "1                       Dramas, International Movies   \n",
       "\n",
       "                                         description  \n",
       "0  In a future where the elite inhabit an island ...  \n",
       "1  After a devastating earthquake hits Mexico Cit...  "
      ]
     },
     "metadata": {},
     "output_type": "display_data"
    },
    {
     "data": {
      "text/html": [
       "<div>\n",
       "<style scoped>\n",
       "    .dataframe tbody tr th:only-of-type {\n",
       "        vertical-align: middle;\n",
       "    }\n",
       "\n",
       "    .dataframe tbody tr th {\n",
       "        vertical-align: top;\n",
       "    }\n",
       "\n",
       "    .dataframe thead th {\n",
       "        text-align: right;\n",
       "    }\n",
       "</style>\n",
       "<table border=\"1\" class=\"dataframe\">\n",
       "  <thead>\n",
       "    <tr style=\"text-align: right;\">\n",
       "      <th></th>\n",
       "      <th>show_id</th>\n",
       "      <th>type</th>\n",
       "      <th>title</th>\n",
       "      <th>director</th>\n",
       "      <th>cast</th>\n",
       "      <th>country</th>\n",
       "      <th>date_added</th>\n",
       "      <th>release_year</th>\n",
       "      <th>rating</th>\n",
       "      <th>duration</th>\n",
       "      <th>listed_in</th>\n",
       "      <th>description</th>\n",
       "    </tr>\n",
       "  </thead>\n",
       "  <tbody>\n",
       "    <tr>\n",
       "      <th>7785</th>\n",
       "      <td>s7786</td>\n",
       "      <td>TV Show</td>\n",
       "      <td>Zumbo's Just Desserts</td>\n",
       "      <td>NaN</td>\n",
       "      <td>Adriano Zumbo, Rachel Khoo</td>\n",
       "      <td>Australia</td>\n",
       "      <td>October 31, 2020</td>\n",
       "      <td>2019</td>\n",
       "      <td>TV-PG</td>\n",
       "      <td>1 Season</td>\n",
       "      <td>International TV Shows, Reality TV</td>\n",
       "      <td>Dessert wizard Adriano Zumbo looks for the nex...</td>\n",
       "    </tr>\n",
       "    <tr>\n",
       "      <th>7786</th>\n",
       "      <td>s7787</td>\n",
       "      <td>Movie</td>\n",
       "      <td>ZZ TOP: THAT LITTLE OL' BAND FROM TEXAS</td>\n",
       "      <td>Sam Dunn</td>\n",
       "      <td>NaN</td>\n",
       "      <td>United Kingdom, Canada, United States</td>\n",
       "      <td>March 1, 2020</td>\n",
       "      <td>2019</td>\n",
       "      <td>TV-MA</td>\n",
       "      <td>90 min</td>\n",
       "      <td>Documentaries, Music &amp; Musicals</td>\n",
       "      <td>This documentary delves into the mystique behi...</td>\n",
       "    </tr>\n",
       "  </tbody>\n",
       "</table>\n",
       "</div>"
      ],
      "text/plain": [
       "     show_id     type                                    title  director  \\\n",
       "7785   s7786  TV Show                    Zumbo's Just Desserts       NaN   \n",
       "7786   s7787    Movie  ZZ TOP: THAT LITTLE OL' BAND FROM TEXAS  Sam Dunn   \n",
       "\n",
       "                            cast                                country  \\\n",
       "7785  Adriano Zumbo, Rachel Khoo                              Australia   \n",
       "7786                         NaN  United Kingdom, Canada, United States   \n",
       "\n",
       "            date_added  release_year rating  duration  \\\n",
       "7785  October 31, 2020          2019  TV-PG  1 Season   \n",
       "7786     March 1, 2020          2019  TV-MA    90 min   \n",
       "\n",
       "                               listed_in  \\\n",
       "7785  International TV Shows, Reality TV   \n",
       "7786     Documentaries, Music & Musicals   \n",
       "\n",
       "                                            description  \n",
       "7785  Dessert wizard Adriano Zumbo looks for the nex...  \n",
       "7786  This documentary delves into the mystique behi...  "
      ]
     },
     "metadata": {},
     "output_type": "display_data"
    }
   ],
   "source": [
    "import numpy as np\n",
    "import pandas as pd\n",
    "import matplotlib.pyplot as plt\n",
    "\n",
    "df = pd.read_csv(\"../data/netflix_titles.csv\")\n",
    "\n",
    "# Sehen wir uns die ersten und letzten zwei Einträge an. \n",
    "display(df.head(2))\n",
    "display(df.tail(2))\n"
   ]
  },
  {
   "cell_type": "code",
   "execution_count": 4,
   "id": "ae676708",
   "metadata": {},
   "outputs": [
    {
     "data": {
      "text/plain": [
       "(7787, 12)"
      ]
     },
     "execution_count": 4,
     "metadata": {},
     "output_type": "execute_result"
    }
   ],
   "source": [
    "df.shape"
   ]
  },
  {
   "cell_type": "code",
   "execution_count": 5,
   "id": "f94dfb07",
   "metadata": {},
   "outputs": [
    {
     "data": {
      "text/plain": [
       "show_id         object\n",
       "type            object\n",
       "title           object\n",
       "director        object\n",
       "cast            object\n",
       "country         object\n",
       "date_added      object\n",
       "release_year     int64\n",
       "rating          object\n",
       "duration        object\n",
       "listed_in       object\n",
       "description     object\n",
       "dtype: object"
      ]
     },
     "execution_count": 5,
     "metadata": {},
     "output_type": "execute_result"
    }
   ],
   "source": [
    "df.dtypes"
   ]
  },
  {
   "cell_type": "markdown",
   "id": "29085f9a",
   "metadata": {},
   "source": [
    "#### eindeutige Werte einer Spalte bestimmen\n",
    "mit `unique()` lassen sich alle Vorkommen eines Wertes in einer Spalte bestimmen. So gibt es in der Spalte `type` nur die beiden Werte `TV Show` und `Movie`. Das ist nur sinnvoll anzuwenden bei Kategorien oder diskreten Werten."
   ]
  },
  {
   "cell_type": "code",
   "execution_count": 6,
   "id": "be233798",
   "metadata": {},
   "outputs": [
    {
     "data": {
      "text/plain": [
       "array(['TV Show', 'Movie'], dtype=object)"
      ]
     },
     "execution_count": 6,
     "metadata": {},
     "output_type": "execute_result"
    }
   ],
   "source": [
    "# unique auf Spalte"
   ]
  },
  {
   "cell_type": "code",
   "execution_count": null,
   "id": "44796000",
   "metadata": {},
   "outputs": [],
   "source": []
  },
  {
   "cell_type": "code",
   "execution_count": null,
   "id": "a22a2529-0768-4cf8-a77c-ece493d63bee",
   "metadata": {},
   "outputs": [],
   "source": []
  },
  {
   "cell_type": "markdown",
   "id": "054d3fb9",
   "metadata": {},
   "source": [
    "#### Value Counts: Häufigkeiten zählen\n",
    "mit `value_counts()` können wir die Häufigkeiten der vorkommen bestimmen. Das ist natürlich ebenso wie `unique` nur sinnvoll bei Kategorien oder diskreten Werten."
   ]
  },
  {
   "cell_type": "code",
   "execution_count": 8,
   "id": "85be265a",
   "metadata": {},
   "outputs": [
    {
     "data": {
      "text/plain": [
       "director\n",
       "Raúl Campos, Jan Suter    18\n",
       "Marcus Raboy              16\n",
       "Jay Karas                 14\n",
       "Cathy Garcia-Molina       13\n",
       "Martin Scorsese           12\n",
       "                          ..\n",
       "Andrew C. Erin             1\n",
       "Vibhu Virender Puri        1\n",
       "Lucien Jean-Baptiste       1\n",
       "Jason Krawczyk             1\n",
       "Daniel Raim                1\n",
       "Name: count, Length: 4049, dtype: int64"
      ]
     },
     "execution_count": 8,
     "metadata": {},
     "output_type": "execute_result"
    }
   ],
   "source": [
    "# Häufigkeit von Direktoren"
   ]
  },
  {
   "cell_type": "code",
   "execution_count": 14,
   "id": "6a8ebf80-4c53-40af-8979-e39483aa38c1",
   "metadata": {},
   "outputs": [
    {
     "data": {
      "text/plain": [
       "<Axes: ylabel='count'>"
      ]
     },
     "execution_count": 14,
     "metadata": {},
     "output_type": "execute_result"
    },
    {
     "data": {
      "image/png": "[encoded data removed]",
      "text/plain": [
       "<Figure size 640x480 with 1 Axes>"
      ]
     },
     "metadata": {},
     "output_type": "display_data"
    }
   ],
   "source": [
    "# Tortendiagramm der Direktoren"
   ]
  },
  {
   "cell_type": "markdown",
   "id": "bf227d33",
   "metadata": {},
   "source": [
    "## Boolsche Serie erstellen\n",
    "Für das erstellen einer Boolschen Serie, d.h. einer Spalte mit Wahrheitswerten, stehen uns neben den arithmetischen Vergleichsoperatoren >, <, >=, <= auch boolsche Operatoren & (UND), | (ODER) und ! (NOT) zur Verfüfung.\n",
    "\n",
    "eine boolsche Serie enthält genausoviele Einträge wie die Ausgangsserie. An den Stellen, wo die Bedingung zutrifft, steht ein True, andernfalls ein False.\n",
    "\n",
    "### Beispiel: boolsche Serie mit equals\n",
    "eine boolsche Serie mit allen Werken aus Australien."
   ]
  },
  {
   "cell_type": "code",
   "execution_count": 15,
   "id": "bd7ae608",
   "metadata": {},
   "outputs": [],
   "source": [
    "# ine boolsche Serie mit allen Werken aus Australien. Shape ausgeben"
   ]
  },
  {
   "cell_type": "markdown",
   "id": "7788a8ea",
   "metadata": {},
   "source": [
    "### Beispiel: kleiner gleich"
   ]
  },
  {
   "cell_type": "code",
   "execution_count": 16,
   "id": "a84cbf4a",
   "metadata": {},
   "outputs": [],
   "source": [
    "# Tite kleiner als 2020"
   ]
  },
  {
   "cell_type": "markdown",
   "id": "d6c01a03",
   "metadata": {},
   "source": [
    "### Beispiel: kleiner gleich UND Bedingung\n",
    "Im folgenden Beipsiel wird eine Serie erstellt mit allen Werden vor 2019 dir NUR aus dem Land Australien stammen. Das Feature `country` ist nämlich in den Ausgangsdaten eine kommaseparierte Liste."
   ]
  },
  {
   "cell_type": "code",
   "execution_count": 20,
   "id": "a9f7b6c0",
   "metadata": {},
   "outputs": [
    {
     "data": {
      "text/plain": [
       "0       False\n",
       "1       False\n",
       "2       False\n",
       "3       False\n",
       "4       False\n",
       "        ...  \n",
       "7782    False\n",
       "7783    False\n",
       "7784    False\n",
       "7785    False\n",
       "7786    False\n",
       "Length: 7787, dtype: bool"
      ]
     },
     "metadata": {},
     "output_type": "display_data"
    }
   ],
   "source": [
    "# Australische Title jünger als 2020 "
   ]
  },
  {
   "cell_type": "markdown",
   "id": "c88872c9",
   "metadata": {},
   "source": [
    "### Beispiel: kleiner gleich UND Bedingung"
   ]
  },
  {
   "cell_type": "code",
   "execution_count": 21,
   "id": "9b5f2285",
   "metadata": {},
   "outputs": [],
   "source": [
    "# Stevens Spielberg Title aus dem Jahr 2017"
   ]
  },
  {
   "cell_type": "markdown",
   "id": "6aabf1a4",
   "metadata": {},
   "source": [
    "# Datentyp-spezifische Zugriffsmethoden:\n",
    "Es gibt in Pandas 4 datentyp-spezifische Zugriffsmethoden, sogenannte `Accessors`. wir unterscheiden zwischen folgenden Accessoren:\n",
    "\n",
    "* str (für String-Operationen)\n",
    "* dt (für Datums-Operationen)\n",
    "* cat (für kategorische Operationen)\n",
    "* sparse (für Datensparsame Verwaltung von Dataframes)"
   ]
  },
  {
   "cell_type": "markdown",
   "id": "867ce3bd",
   "metadata": {},
   "source": [
    "## String-Funktionen\n",
    "Pandas bietet über den String-Zugriff `str` Zugriff auf vielfältige String-Methoden. Eine Übersicht aller findet sich in der Doku:\n",
    "\n",
    "https://pandas.pydata.org/docs/reference/api/pandas.Series.str.split.html"
   ]
  },
  {
   "cell_type": "code",
   "execution_count": 58,
   "id": "a95c9de8",
   "metadata": {},
   "outputs": [
    {
     "data": {
      "text/plain": [
       "pandas.core.strings.accessor.StringMethods"
      ]
     },
     "execution_count": 58,
     "metadata": {},
     "output_type": "execute_result"
    }
   ],
   "source": [
    "type(df.country.str)"
   ]
  },
  {
   "cell_type": "markdown",
   "id": "4e92b5df",
   "metadata": {},
   "source": [
    "### Beispiel: kleiner gleich ODER Bedingung mit Stringfunktion contains\n",
    "Um den Inhalt bzw. das Vorkommen von Substrings zu prüfen, können wir mit dem String-Accessor `str` arbeiten. Im Beispiel alle Titel, die mit oder in Zusammenarbeit mit Australien erstellt wurden. Nachteil ist, dass diese Prüfung unzuverlässig ist. Ein Land namens `Australiana` würde ebenfalls matchen."
   ]
  },
  {
   "cell_type": "code",
   "execution_count": 59,
   "id": "1501b206",
   "metadata": {},
   "outputs": [
    {
     "data": {
      "text/plain": [
       "144"
      ]
     },
     "execution_count": 59,
     "metadata": {},
     "output_type": "execute_result"
    }
   ],
   "source": [
    "australian_titles = df.country.str.contains('Australia')\n",
    "australian_titles.sum()"
   ]
  },
  {
   "cell_type": "markdown",
   "id": "04b7638b",
   "metadata": {},
   "source": [
    "### Beispiel: Oder Bedingung mit startswith"
   ]
  },
  {
   "cell_type": "code",
   "execution_count": 60,
   "id": "001f0fc5",
   "metadata": {},
   "outputs": [
    {
     "data": {
      "text/plain": [
       "68"
      ]
     },
     "execution_count": 60,
     "metadata": {},
     "output_type": "execute_result"
    }
   ],
   "source": [
    "se_ge_titles = df.director.str.startswith(\"Se\") | df.director.str.startswith(\"Ge\")\n",
    "se_ge_titles.sum()"
   ]
  },
  {
   "cell_type": "code",
   "execution_count": 61,
   "id": "27349322",
   "metadata": {},
   "outputs": [
    {
     "data": {
      "text/plain": [
       "7.7294921875"
      ]
     },
     "execution_count": 61,
     "metadata": {},
     "output_type": "execute_result"
    }
   ],
   "source": [
    "se_ge_titles.memory_usage() / 1024"
   ]
  },
  {
   "cell_type": "markdown",
   "id": "09d553fb",
   "metadata": {},
   "source": [
    "## Beispiel: Intervall\n",
    "mit `between` prüfen, ob Wert in einem gewissen Wertebereich liegt. Über den Parameter `inclusive` lässt sich noch Steuern, ob Start und Entwerte berücksichtig werden sollen. \n",
    "\n",
    "`inclusive{“both”, “neither”, “left”, “right”}`"
   ]
  },
  {
   "cell_type": "code",
   "execution_count": 62,
   "id": "ba251b9c",
   "metadata": {},
   "outputs": [
    {
     "data": {
      "text/plain": [
       "0       False\n",
       "1        True\n",
       "2       False\n",
       "3       False\n",
       "4       False\n",
       "        ...  \n",
       "7782    False\n",
       "7783     True\n",
       "7784    False\n",
       "7785    False\n",
       "7786    False\n",
       "Name: release_year, Length: 7787, dtype: bool"
      ]
     },
     "execution_count": 62,
     "metadata": {},
     "output_type": "execute_result"
    }
   ],
   "source": [
    "titles_2014_2018 = df.release_year.between(2014, 2018, inclusive=\"both\")\n",
    "titles_2014_2018"
   ]
  },
  {
   "cell_type": "markdown",
   "id": "55280de0",
   "metadata": {},
   "source": [
    "### Sparse Data Accessor-Beispiel\n",
    "mit dem `Sparse`-Data Accessor lassen sich Series und Dataframes speicherreduziert speichern. Im Falle von sehr vielen und sehr großen Datenmengen macht diese Operation Sinn."
   ]
  },
  {
   "cell_type": "code",
   "execution_count": 63,
   "id": "61d0e975",
   "metadata": {},
   "outputs": [
    {
     "data": {
      "text/plain": [
       "(468, (7787,))"
      ]
     },
     "execution_count": 63,
     "metadata": {},
     "output_type": "execute_result"
    }
   ],
   "source": [
    "## sparse data\n",
    "se_ge_titles = se_ge_titles.astype(\"Sparse[bool]\")\n",
    "se_ge_titles.memory_usage(), se_ge_titles.shape"
   ]
  },
  {
   "cell_type": "code",
   "execution_count": null,
   "id": "7253a543",
   "metadata": {},
   "outputs": [],
   "source": []
  }
 ],
 "metadata": {
  "kernelspec": {
   "display_name": "Python 3 (ipykernel)",
   "language": "python",
   "name": "python3"
  },
  "language_info": {
   "codemirror_mode": {
    "name": "ipython",
    "version": 3
   },
   "file_extension": ".py",
   "mimetype": "text/x-python",
   "name": "python",
   "nbconvert_exporter": "python",
   "pygments_lexer": "ipython3",
   "version": "3.12.4"
  }
 },
 "nbformat": 4,
 "nbformat_minor": 5
}
