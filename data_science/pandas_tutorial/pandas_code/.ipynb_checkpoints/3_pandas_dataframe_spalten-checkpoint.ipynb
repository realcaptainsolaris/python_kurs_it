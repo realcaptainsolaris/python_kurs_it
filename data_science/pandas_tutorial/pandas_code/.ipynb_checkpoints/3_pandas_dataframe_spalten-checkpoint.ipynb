{
 "cells": [
  {
   "cell_type": "markdown",
   "id": "42872e07",
   "metadata": {},
   "source": [
    "# Spalten im Dataframe\n",
    "Wir erstellen uns einen Test-Dataframe mit 4 Spalten"
   ]
  },
  {
   "cell_type": "code",
   "execution_count": 1,
   "id": "8d898c47",
   "metadata": {},
   "outputs": [
    {
     "data": {
      "text/html": [
       "<div>\n",
       "<style scoped>\n",
       "    .dataframe tbody tr th:only-of-type {\n",
       "        vertical-align: middle;\n",
       "    }\n",
       "\n",
       "    .dataframe tbody tr th {\n",
       "        vertical-align: top;\n",
       "    }\n",
       "\n",
       "    .dataframe thead th {\n",
       "        text-align: right;\n",
       "    }\n",
       "</style>\n",
       "<table border=\"1\" class=\"dataframe\">\n",
       "  <thead>\n",
       "    <tr style=\"text-align: right;\">\n",
       "      <th></th>\n",
       "      <th>AK</th>\n",
       "      <th>BE</th>\n",
       "      <th>CO</th>\n",
       "      <th>DI</th>\n",
       "    </tr>\n",
       "  </thead>\n",
       "  <tbody>\n",
       "    <tr>\n",
       "      <th>A</th>\n",
       "      <td>5.498160</td>\n",
       "      <td>19.507143</td>\n",
       "      <td>48.495830</td>\n",
       "      <td>92.722192</td>\n",
       "    </tr>\n",
       "    <tr>\n",
       "      <th>B</th>\n",
       "      <td>4.624075</td>\n",
       "      <td>11.559945</td>\n",
       "      <td>29.626341</td>\n",
       "      <td>108.238216</td>\n",
       "    </tr>\n",
       "    <tr>\n",
       "      <th>C</th>\n",
       "      <td>6.404460</td>\n",
       "      <td>17.080726</td>\n",
       "      <td>28.576366</td>\n",
       "      <td>114.254771</td>\n",
       "    </tr>\n",
       "    <tr>\n",
       "      <th>D</th>\n",
       "      <td>7.329771</td>\n",
       "      <td>12.123391</td>\n",
       "      <td>33.091099</td>\n",
       "      <td>68.637462</td>\n",
       "    </tr>\n",
       "    <tr>\n",
       "      <th>E</th>\n",
       "      <td>5.216969</td>\n",
       "      <td>15.247564</td>\n",
       "      <td>40.094461</td>\n",
       "      <td>74.891290</td>\n",
       "    </tr>\n",
       "    <tr>\n",
       "      <th>F</th>\n",
       "      <td>6.447412</td>\n",
       "      <td>11.394939</td>\n",
       "      <td>36.180050</td>\n",
       "      <td>79.248987</td>\n",
       "    </tr>\n",
       "    <tr>\n",
       "      <th>G</th>\n",
       "      <td>5.824280</td>\n",
       "      <td>17.851760</td>\n",
       "      <td>33.590866</td>\n",
       "      <td>87.825597</td>\n",
       "    </tr>\n",
       "    <tr>\n",
       "      <th>H</th>\n",
       "      <td>6.369658</td>\n",
       "      <td>10.464504</td>\n",
       "      <td>45.011256</td>\n",
       "      <td>67.890399</td>\n",
       "    </tr>\n",
       "    <tr>\n",
       "      <th>I</th>\n",
       "      <td>4.260206</td>\n",
       "      <td>19.488855</td>\n",
       "      <td>55.037697</td>\n",
       "      <td>104.887046</td>\n",
       "    </tr>\n",
       "    <tr>\n",
       "      <th>J</th>\n",
       "      <td>5.218455</td>\n",
       "      <td>10.976721</td>\n",
       "      <td>47.158525</td>\n",
       "      <td>83.528845</td>\n",
       "    </tr>\n",
       "  </tbody>\n",
       "</table>\n",
       "</div>"
      ],
      "text/plain": [
       "         AK         BE         CO          DI\n",
       "A  5.498160  19.507143  48.495830   92.722192\n",
       "B  4.624075  11.559945  29.626341  108.238216\n",
       "C  6.404460  17.080726  28.576366  114.254771\n",
       "D  7.329771  12.123391  33.091099   68.637462\n",
       "E  5.216969  15.247564  40.094461   74.891290\n",
       "F  6.447412  11.394939  36.180050   79.248987\n",
       "G  5.824280  17.851760  33.590866   87.825597\n",
       "H  6.369658  10.464504  45.011256   67.890399\n",
       "I  4.260206  19.488855  55.037697  104.887046\n",
       "J  5.218455  10.976721  47.158525   83.528845"
      ]
     },
     "execution_count": 1,
     "metadata": {},
     "output_type": "execute_result"
    }
   ],
   "source": [
    "import numpy as np\n",
    "import pandas as pd\n",
    "np.random.seed(42)\n",
    "\n",
    "columns = [\"AK\", \"BE\", \"CO\", \"DI\"]\n",
    "values = np.random.uniform(low=2, high=4, size=(10, 4))\n",
    "index = [chr(i) for i in range(65, 65 + values.shape[0])]\n",
    "df = pd.DataFrame(values, columns=columns, index=index)\n",
    "df = df * [2, 5, 14, 29]\n",
    "df"
   ]
  },
  {
   "cell_type": "markdown",
   "id": "e93f03b9",
   "metadata": {},
   "source": [
    "## Die Anzahl an Elementen einer Spalte (Länge)\n",
    "Für diese Aufgabe kann die Python-Funktion len genommen werden. Besser ist aber das Ermitteln der Dimension mit `shape`. Das erste Element von shape ist immer die Anzahl der Zeilen und damit der Einträge der Spalte (Spaltenlänge)."
   ]
  },
  {
   "cell_type": "code",
   "execution_count": 2,
   "id": "e6f1defe",
   "metadata": {},
   "outputs": [
    {
     "data": {
      "text/plain": [
       "10"
      ]
     },
     "execution_count": 2,
     "metadata": {},
     "output_type": "execute_result"
    }
   ],
   "source": [
    "# via len Die Anzahl der Elemente einer Spalte ausgeben"
   ]
  },
  {
   "cell_type": "code",
   "execution_count": 1,
   "id": "7b24d38a",
   "metadata": {},
   "outputs": [],
   "source": [
    "# via shape den Shape der Spalte (Series) ausgeben"
   ]
  },
  {
   "cell_type": "markdown",
   "id": "4f84ceeb",
   "metadata": {},
   "source": [
    "## Eindeutige Werte in einer Spalte\n",
    "mit `unique` lassen sich eindeutige Werte in einer Spalte identifizieren."
   ]
  },
  {
   "cell_type": "code",
   "execution_count": 14,
   "id": "2cbdc966",
   "metadata": {},
   "outputs": [
    {
     "data": {
      "text/plain": [
       "array([5.49816048, 4.62407456, 6.40446005, 7.32977056, 5.21696897,\n",
       "       6.44741158, 5.82427994, 6.36965828, 4.26020637, 5.21845508])"
      ]
     },
     "execution_count": 14,
     "metadata": {},
     "output_type": "execute_result"
    }
   ],
   "source": [
    "# unique"
   ]
  },
  {
   "cell_type": "markdown",
   "id": "d6751503",
   "metadata": {},
   "source": [
    "## numerische Spalte in Numpy Array umformen\n",
    "Wir können mit der Methode to_numpy() eine Spalte in einen Numpy Array umformen. Der Index geht dabei natürlich verloren."
   ]
  },
  {
   "cell_type": "code",
   "execution_count": 2,
   "id": "b31eb748",
   "metadata": {},
   "outputs": [],
   "source": [
    "# Spalte in Numpy Array konvertieren"
   ]
  },
  {
   "cell_type": "markdown",
   "id": "2577c116",
   "metadata": {},
   "source": [
    "## alle Spalten eines Dataframes in Numpy Array umformen"
   ]
  },
  {
   "cell_type": "code",
   "execution_count": 3,
   "id": "e20887bf",
   "metadata": {},
   "outputs": [],
   "source": [
    "# neuen Dataframe mit iloc erstellen und nach Numpy umformen. Ergibt zweidimensionale Datenstruktur"
   ]
  },
  {
   "cell_type": "markdown",
   "id": "82af779e",
   "metadata": {},
   "source": [
    "## Iteration über Dataframe und Spalten\n",
    "Das Iterieren über Dataframe und Series ist möglich, aber in Pandas nicht sonderlich üblich, da unperformant. Vektorisierung ist ein sehr viel besseres Verfahren, um (parallel) Werte in einer Datenstruktur zu verändern. Moderne CPUs unterstüzten Vektorisierung. Mehr dazu in den weiteren Kapiteln."
   ]
  },
  {
   "cell_type": "markdown",
   "id": "2162a443",
   "metadata": {},
   "source": [
    "### Iteration über einen Dataframe. Jede Row is ein String mit dem Spaltennamen"
   ]
  },
  {
   "cell_type": "code",
   "execution_count": 6,
   "id": "44be55eb",
   "metadata": {},
   "outputs": [
    {
     "name": "stdout",
     "output_type": "stream",
     "text": [
      "AK\n",
      "BE\n",
      "CO\n",
      "DI\n"
     ]
    }
   ],
   "source": [
    "for column_name in df:\n",
    "    print(column_name)"
   ]
  },
  {
   "cell_type": "markdown",
   "id": "610d9e17",
   "metadata": {},
   "source": [
    "### Iteration über alle Zeilen eines Dataframes"
   ]
  },
  {
   "cell_type": "code",
   "execution_count": 7,
   "id": "f7a43fda",
   "metadata": {},
   "outputs": [
    {
     "name": "stdout",
     "output_type": "stream",
     "text": [
      "A 5.49816047538945\n",
      "B 4.624074561769746\n",
      "C 6.404460046972835\n",
      "D 7.329770563201687\n",
      "E 5.216968971838151\n",
      "F 6.447411578889518\n",
      "G 5.824279936868144\n",
      "H 6.36965827544817\n",
      "I 4.260206371941118\n",
      "J 5.218455076693482\n"
     ]
    }
   ],
   "source": [
    "for columnname, series in df.iterrows():\n",
    "    print(columnname, series.AK)"
   ]
  },
  {
   "cell_type": "markdown",
   "id": "96d37ab3",
   "metadata": {},
   "source": [
    "### Iteration über die Werte einer Spalte (Pandas Series)"
   ]
  },
  {
   "cell_type": "code",
   "execution_count": 8,
   "id": "3947f5ae",
   "metadata": {},
   "outputs": [
    {
     "name": "stdout",
     "output_type": "stream",
     "text": [
      "5.49816047538945\n",
      "4.624074561769746\n",
      "6.404460046972835\n",
      "7.329770563201687\n",
      "5.216968971838151\n",
      "6.447411578889518\n",
      "5.824279936868144\n",
      "6.36965827544817\n",
      "4.260206371941118\n",
      "5.218455076693482\n"
     ]
    }
   ],
   "source": [
    "for row in df.AK:\n",
    "    print(row)"
   ]
  },
  {
   "cell_type": "markdown",
   "id": "59203536",
   "metadata": {},
   "source": [
    "### Iteration über die Spalte mit iteritems\n",
    "mit der Methode iteritems bekommen wir einen Tupel aus Spaltenname, Wert pro Spaltenwert"
   ]
  },
  {
   "cell_type": "code",
   "execution_count": 9,
   "id": "a7d9e521",
   "metadata": {},
   "outputs": [
    {
     "name": "stdout",
     "output_type": "stream",
     "text": [
      "('A', 5.49816047538945)\n",
      "('B', 4.624074561769746)\n",
      "('C', 6.404460046972835)\n",
      "('D', 7.329770563201687)\n",
      "('E', 5.216968971838151)\n",
      "('F', 6.447411578889518)\n",
      "('G', 5.824279936868144)\n",
      "('H', 6.36965827544817)\n",
      "('I', 4.260206371941118)\n",
      "('J', 5.218455076693482)\n"
     ]
    }
   ],
   "source": [
    "for x in df.AK.iteritems():\n",
    "    print(x)"
   ]
  },
  {
   "cell_type": "code",
   "execution_count": 10,
   "id": "5e7513a5",
   "metadata": {},
   "outputs": [
    {
     "name": "stdout",
     "output_type": "stream",
     "text": [
      "5.49816047538945\n",
      "19.50714306409916\n",
      "48.49583037071934\n",
      "92.72219208342813\n"
     ]
    }
   ],
   "source": [
    "# Iteration über die Spalten der Zeile 0\n",
    "for cols in df.iloc[0]:\n",
    "    print(cols)"
   ]
  },
  {
   "cell_type": "code",
   "execution_count": 11,
   "id": "b5438f6d",
   "metadata": {},
   "outputs": [
    {
     "name": "stdout",
     "output_type": "stream",
     "text": [
      "('A', 5.49816047538945)\n",
      "('B', 4.624074561769746)\n",
      "('C', 6.404460046972835)\n",
      "('D', 7.329770563201687)\n",
      "('E', 5.216968971838151)\n",
      "('F', 6.447411578889518)\n",
      "('G', 5.824279936868144)\n",
      "('H', 6.36965827544817)\n",
      "('I', 4.260206371941118)\n",
      "('J', 5.218455076693482)\n"
     ]
    }
   ],
   "source": [
    "for x in df.AK.iteritems():\n",
    "    print(x)"
   ]
  },
  {
   "cell_type": "markdown",
   "id": "89d6d279",
   "metadata": {},
   "source": [
    "## Spalten löschen"
   ]
  },
  {
   "cell_type": "code",
   "execution_count": 12,
   "id": "72d38453",
   "metadata": {},
   "outputs": [
    {
     "data": {
      "text/html": [
       "<div>\n",
       "<style scoped>\n",
       "    .dataframe tbody tr th:only-of-type {\n",
       "        vertical-align: middle;\n",
       "    }\n",
       "\n",
       "    .dataframe tbody tr th {\n",
       "        vertical-align: top;\n",
       "    }\n",
       "\n",
       "    .dataframe thead th {\n",
       "        text-align: right;\n",
       "    }\n",
       "</style>\n",
       "<table border=\"1\" class=\"dataframe\">\n",
       "  <thead>\n",
       "    <tr style=\"text-align: right;\">\n",
       "      <th></th>\n",
       "      <th>BE</th>\n",
       "      <th>CO</th>\n",
       "    </tr>\n",
       "  </thead>\n",
       "  <tbody>\n",
       "    <tr>\n",
       "      <th>A</th>\n",
       "      <td>19.507143</td>\n",
       "      <td>48.495830</td>\n",
       "    </tr>\n",
       "    <tr>\n",
       "      <th>B</th>\n",
       "      <td>11.559945</td>\n",
       "      <td>29.626341</td>\n",
       "    </tr>\n",
       "    <tr>\n",
       "      <th>C</th>\n",
       "      <td>17.080726</td>\n",
       "      <td>28.576366</td>\n",
       "    </tr>\n",
       "    <tr>\n",
       "      <th>D</th>\n",
       "      <td>12.123391</td>\n",
       "      <td>33.091099</td>\n",
       "    </tr>\n",
       "    <tr>\n",
       "      <th>E</th>\n",
       "      <td>15.247564</td>\n",
       "      <td>40.094461</td>\n",
       "    </tr>\n",
       "    <tr>\n",
       "      <th>F</th>\n",
       "      <td>11.394939</td>\n",
       "      <td>36.180050</td>\n",
       "    </tr>\n",
       "    <tr>\n",
       "      <th>G</th>\n",
       "      <td>17.851760</td>\n",
       "      <td>33.590866</td>\n",
       "    </tr>\n",
       "    <tr>\n",
       "      <th>H</th>\n",
       "      <td>10.464504</td>\n",
       "      <td>45.011256</td>\n",
       "    </tr>\n",
       "    <tr>\n",
       "      <th>I</th>\n",
       "      <td>19.488855</td>\n",
       "      <td>55.037697</td>\n",
       "    </tr>\n",
       "    <tr>\n",
       "      <th>J</th>\n",
       "      <td>10.976721</td>\n",
       "      <td>47.158525</td>\n",
       "    </tr>\n",
       "  </tbody>\n",
       "</table>\n",
       "</div>"
      ],
      "text/plain": [
       "          BE         CO\n",
       "A  19.507143  48.495830\n",
       "B  11.559945  29.626341\n",
       "C  17.080726  28.576366\n",
       "D  12.123391  33.091099\n",
       "E  15.247564  40.094461\n",
       "F  11.394939  36.180050\n",
       "G  17.851760  33.590866\n",
       "H  10.464504  45.011256\n",
       "I  19.488855  55.037697\n",
       "J  10.976721  47.158525"
      ]
     },
     "execution_count": 12,
     "metadata": {},
     "output_type": "execute_result"
    }
   ],
   "source": [
    "df_new = df.drop(columns=[\"AK\", \"DI\"])\n",
    "df_new"
   ]
  }
 ],
 "metadata": {
  "kernelspec": {
   "display_name": "Python 3 (ipykernel)",
   "language": "python",
   "name": "python3"
  },
  "language_info": {
   "codemirror_mode": {
    "name": "ipython",
    "version": 3
   },
   "file_extension": ".py",
   "mimetype": "text/x-python",
   "name": "python",
   "nbconvert_exporter": "python",
   "pygments_lexer": "ipython3",
   "version": "3.12.4"
  }
 },
 "nbformat": 4,
 "nbformat_minor": 5
}
