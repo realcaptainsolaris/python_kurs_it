{
 "cells": [
  {
   "cell_type": "markdown",
   "id": "aa1e4814",
   "metadata": {},
   "source": [
    "# Dataframes mit Join über Indexmenge zufammenführen\n",
    "\n",
    "wenn wir Dataframes nicht über die Spalten wie bei `merge`, sondern über die Indexmenge zusammenführen wollen, bietet sich die Methode `join` an. Wenn wir also in den beiden Dataframes keine Spalten haben, die wir mit `on` ansprechen können, können wir `merge` nicht nutzen.\n",
    "\n",
    "Im folgenden Beispiel haben wir zwei Dataframes mit jeweils einer Spalte. Darüberhinaus teilen sie eine Indexmenge, die sich allerdings leicht unterscheidet."
   ]
  },
  {
   "cell_type": "code",
   "execution_count": 1,
   "id": "8352564c",
   "metadata": {},
   "outputs": [
    {
     "data": {
      "text/html": [
       "<div>\n",
       "<style scoped>\n",
       "    .dataframe tbody tr th:only-of-type {\n",
       "        vertical-align: middle;\n",
       "    }\n",
       "\n",
       "    .dataframe tbody tr th {\n",
       "        vertical-align: top;\n",
       "    }\n",
       "\n",
       "    .dataframe thead th {\n",
       "        text-align: right;\n",
       "    }\n",
       "</style>\n",
       "<table border=\"1\" class=\"dataframe\">\n",
       "  <thead>\n",
       "    <tr style=\"text-align: right;\">\n",
       "      <th></th>\n",
       "      <th>motor</th>\n",
       "    </tr>\n",
       "  </thead>\n",
       "  <tbody>\n",
       "    <tr>\n",
       "      <th>A</th>\n",
       "      <td>A1</td>\n",
       "    </tr>\n",
       "    <tr>\n",
       "      <th>B</th>\n",
       "      <td>A2</td>\n",
       "    </tr>\n",
       "    <tr>\n",
       "      <th>C</th>\n",
       "      <td>A3</td>\n",
       "    </tr>\n",
       "    <tr>\n",
       "      <th>D</th>\n",
       "      <td>A4</td>\n",
       "    </tr>\n",
       "  </tbody>\n",
       "</table>\n",
       "</div>"
      ],
      "text/plain": [
       "  motor\n",
       "A    A1\n",
       "B    A2\n",
       "C    A3\n",
       "D    A4"
      ]
     },
     "metadata": {},
     "output_type": "display_data"
    },
    {
     "data": {
      "text/html": [
       "<div>\n",
       "<style scoped>\n",
       "    .dataframe tbody tr th:only-of-type {\n",
       "        vertical-align: middle;\n",
       "    }\n",
       "\n",
       "    .dataframe tbody tr th {\n",
       "        vertical-align: top;\n",
       "    }\n",
       "\n",
       "    .dataframe thead th {\n",
       "        text-align: right;\n",
       "    }\n",
       "</style>\n",
       "<table border=\"1\" class=\"dataframe\">\n",
       "  <thead>\n",
       "    <tr style=\"text-align: right;\">\n",
       "      <th></th>\n",
       "      <th>acc</th>\n",
       "    </tr>\n",
       "  </thead>\n",
       "  <tbody>\n",
       "    <tr>\n",
       "      <th>A</th>\n",
       "      <td>3</td>\n",
       "    </tr>\n",
       "    <tr>\n",
       "      <th>B</th>\n",
       "      <td>2</td>\n",
       "    </tr>\n",
       "    <tr>\n",
       "      <th>C</th>\n",
       "      <td>5</td>\n",
       "    </tr>\n",
       "    <tr>\n",
       "      <th>E</th>\n",
       "      <td>2</td>\n",
       "    </tr>\n",
       "  </tbody>\n",
       "</table>\n",
       "</div>"
      ],
      "text/plain": [
       "   acc\n",
       "A    3\n",
       "B    2\n",
       "C    5\n",
       "E    2"
      ]
     },
     "metadata": {},
     "output_type": "display_data"
    }
   ],
   "source": [
    "import numpy as np\n",
    "import pandas as pd\n",
    "import matplotlib.pyplot as plt\n",
    "\n",
    "df_left = pd.DataFrame({\n",
    "    \"motor\": [\"A1\", \"A2\", \"A3\", \"A4\"],\n",
    "},\n",
    "index = [\"A\", \"B\", \"C\", \"D\"],\n",
    ")\n",
    "\n",
    "\n",
    "df_right = pd.DataFrame({\n",
    "    \"acc\": [3, 2, 5, 2],\n",
    "},\n",
    "index = [\"A\", \"B\", \"C\", \"E\"],\n",
    "\n",
    ")\n",
    "\n",
    "display(df_left)\n",
    "display(df_right)"
   ]
  },
  {
   "cell_type": "markdown",
   "id": "faccfb88",
   "metadata": {},
   "source": [
    "### inner Join\n",
    "nur die Indexe, die beide DFs haben, bleiben erhalten (A, B, C)."
   ]
  },
  {
   "cell_type": "code",
   "execution_count": 4,
   "id": "4e9d3dba",
   "metadata": {},
   "outputs": [],
   "source": [
    "# inner join"
   ]
  },
  {
   "cell_type": "code",
   "execution_count": 9,
   "id": "4fdcd5b3",
   "metadata": {},
   "outputs": [],
   "source": [
    "# geht nicht, weil motor nicht in beiden Spalten enthalten ist\n",
    "# merged_df = pd.merge(df_left, df_right, on=\"motor\")"
   ]
  },
  {
   "cell_type": "markdown",
   "id": "7db08846",
   "metadata": {},
   "source": [
    "### outer Join\n",
    "alle Indexe, bleiben erhalten (A, B, C, D, E). Es ergeben sie Nan-Werte"
   ]
  },
  {
   "cell_type": "code",
   "execution_count": 3,
   "id": "8b688263",
   "metadata": {},
   "outputs": [],
   "source": [
    "# outer join"
   ]
  },
  {
   "cell_type": "markdown",
   "id": "88b093e8",
   "metadata": {},
   "source": [
    "### right Join\n",
    "alle Indexe des rechten Dataframes bleiben erhalten. Für den linken Dataframe ergeben sich Nan-Werte."
   ]
  },
  {
   "cell_type": "code",
   "execution_count": 5,
   "id": "05c801fe",
   "metadata": {},
   "outputs": [],
   "source": [
    "# right join"
   ]
  }
 ],
 "metadata": {
  "kernelspec": {
   "display_name": "Python 3 (ipykernel)",
   "language": "python",
   "name": "python3"
  },
  "language_info": {
   "codemirror_mode": {
    "name": "ipython",
    "version": 3
   },
   "file_extension": ".py",
   "mimetype": "text/x-python",
   "name": "python",
   "nbconvert_exporter": "python",
   "pygments_lexer": "ipython3",
   "version": "3.12.4"
  }
 },
 "nbformat": 4,
 "nbformat_minor": 5
}
