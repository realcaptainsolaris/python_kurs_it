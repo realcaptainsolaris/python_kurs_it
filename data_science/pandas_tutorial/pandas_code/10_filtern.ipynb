{
 "cells": [
  {
   "cell_type": "markdown",
   "id": "596878ab",
   "metadata": {},
   "source": [
    "# Filtern mit boolsche Serien\n",
    "Wie wir im Kapitel zu den `boolschen Serien` gesehen haben, können wir mit arithmetischen sowie boolschen Operatoren boolsche Serien erzeugen. Diese Serien können wir nutzen, um Spalten zu indizieren. Damit kann man also Spalten filtern.  Die boolsche Serie ist unsere `Filterbedingung`.\n",
    "\n",
    "Um ein gefiltertes Dataframe zu erzeugen, indiziert man den Dataframe mit der boolschen Serie.\n",
    "\n",
    "## Beispiel-Datei\n",
    "Wir lesen als Übungsdatei die `netflix_titles.csv` - Datei ein, die alle Filme und Serien, die auf Netflix verfügbar sind (bzw. 2019 waren) abbildet."
   ]
  },
  {
   "cell_type": "code",
   "execution_count": 2,
   "id": "39a276a5",
   "metadata": {},
   "outputs": [],
   "source": [
    "import numpy as np\n",
    "import pandas as pd\n",
    "import matplotlib.pyplot as plt\n",
    "\n",
    "df = pd.read_csv(\"../data/netflix_titles.csv\")"
   ]
  },
  {
   "cell_type": "markdown",
   "id": "e01805e7",
   "metadata": {},
   "source": [
    "### Beispiel aus dem Kapitel `boolsche Serien`.\n",
    "wir erstellen eine boolsche Serie `australian_titles` und übergeben diese dem Index-Operator des Dataframes `df`. Damit werden alle Zeilen rausgefiltert, die in der Serie den Wert `False` haben.\n",
    "\n",
    "* True zeigt Zeilen im Dataframe, deren Spaltenwert Australia ist\n",
    "* False  zeigt Zeilen im Dataframe, deren Spaltenwert NICHT Australia ist"
   ]
  },
  {
   "cell_type": "code",
   "execution_count": 3,
   "id": "550034bc",
   "metadata": {},
   "outputs": [
    {
     "data": {
      "text/html": [
       "<div>\n",
       "<style scoped>\n",
       "    .dataframe tbody tr th:only-of-type {\n",
       "        vertical-align: middle;\n",
       "    }\n",
       "\n",
       "    .dataframe tbody tr th {\n",
       "        vertical-align: top;\n",
       "    }\n",
       "\n",
       "    .dataframe thead th {\n",
       "        text-align: right;\n",
       "    }\n",
       "</style>\n",
       "<table border=\"1\" class=\"dataframe\">\n",
       "  <thead>\n",
       "    <tr style=\"text-align: right;\">\n",
       "      <th></th>\n",
       "      <th>show_id</th>\n",
       "      <th>type</th>\n",
       "      <th>title</th>\n",
       "      <th>director</th>\n",
       "      <th>cast</th>\n",
       "      <th>country</th>\n",
       "      <th>date_added</th>\n",
       "      <th>release_year</th>\n",
       "      <th>rating</th>\n",
       "      <th>duration</th>\n",
       "      <th>listed_in</th>\n",
       "      <th>description</th>\n",
       "    </tr>\n",
       "  </thead>\n",
       "  <tbody>\n",
       "    <tr>\n",
       "      <th>137</th>\n",
       "      <td>s138</td>\n",
       "      <td>TV Show</td>\n",
       "      <td>72 Cutest Animals</td>\n",
       "      <td>NaN</td>\n",
       "      <td>NaN</td>\n",
       "      <td>Australia</td>\n",
       "      <td>June 1, 2016</td>\n",
       "      <td>2016</td>\n",
       "      <td>TV-PG</td>\n",
       "      <td>1 Season</td>\n",
       "      <td>Docuseries, International TV Shows, Science &amp; ...</td>\n",
       "      <td>This series examines the nature of cuteness an...</td>\n",
       "    </tr>\n",
       "    <tr>\n",
       "      <th>138</th>\n",
       "      <td>s139</td>\n",
       "      <td>TV Show</td>\n",
       "      <td>72 Dangerous Animals: Asia</td>\n",
       "      <td>NaN</td>\n",
       "      <td>Bob Brisbane</td>\n",
       "      <td>Australia</td>\n",
       "      <td>August 10, 2018</td>\n",
       "      <td>2018</td>\n",
       "      <td>TV-14</td>\n",
       "      <td>1 Season</td>\n",
       "      <td>Docuseries, International TV Shows, Science &amp; ...</td>\n",
       "      <td>From fangs to claws to venomous stings, they a...</td>\n",
       "    </tr>\n",
       "  </tbody>\n",
       "</table>\n",
       "</div>"
      ],
      "text/plain": [
       "    show_id     type                       title director          cast  \\\n",
       "137    s138  TV Show           72 Cutest Animals      NaN           NaN   \n",
       "138    s139  TV Show  72 Dangerous Animals: Asia      NaN  Bob Brisbane   \n",
       "\n",
       "       country       date_added  release_year rating  duration  \\\n",
       "137  Australia     June 1, 2016          2016  TV-PG  1 Season   \n",
       "138  Australia  August 10, 2018          2018  TV-14  1 Season   \n",
       "\n",
       "                                             listed_in  \\\n",
       "137  Docuseries, International TV Shows, Science & ...   \n",
       "138  Docuseries, International TV Shows, Science & ...   \n",
       "\n",
       "                                           description  \n",
       "137  This series examines the nature of cuteness an...  \n",
       "138  From fangs to claws to venomous stings, they a...  "
      ]
     },
     "execution_count": 3,
     "metadata": {},
     "output_type": "execute_result"
    }
   ],
   "source": [
    "australian_titles = (df.country == \"Australia\")\n",
    "df[australian_titles].head(2)"
   ]
  },
  {
   "cell_type": "markdown",
   "id": "88c3fa06",
   "metadata": {},
   "source": [
    "### Beispiel: alle Filme von Director Steven Spielberg\n",
    "Wir müssen die boolsche Serie nicht unbedingt einer Variablen zuweisen. wir können die Filter-Bedingung gleich im Index-Operator angeben."
   ]
  },
  {
   "cell_type": "code",
   "execution_count": 4,
   "id": "213dce84",
   "metadata": {},
   "outputs": [
    {
     "data": {
      "text/html": [
       "<div>\n",
       "<style scoped>\n",
       "    .dataframe tbody tr th:only-of-type {\n",
       "        vertical-align: middle;\n",
       "    }\n",
       "\n",
       "    .dataframe tbody tr th {\n",
       "        vertical-align: top;\n",
       "    }\n",
       "\n",
       "    .dataframe thead th {\n",
       "        text-align: right;\n",
       "    }\n",
       "</style>\n",
       "<table border=\"1\" class=\"dataframe\">\n",
       "  <thead>\n",
       "    <tr style=\"text-align: right;\">\n",
       "      <th></th>\n",
       "      <th>show_id</th>\n",
       "      <th>type</th>\n",
       "      <th>title</th>\n",
       "      <th>director</th>\n",
       "      <th>cast</th>\n",
       "      <th>country</th>\n",
       "      <th>date_added</th>\n",
       "      <th>release_year</th>\n",
       "      <th>rating</th>\n",
       "      <th>duration</th>\n",
       "      <th>listed_in</th>\n",
       "      <th>description</th>\n",
       "    </tr>\n",
       "  </thead>\n",
       "  <tbody>\n",
       "    <tr>\n",
       "      <th>1242</th>\n",
       "      <td>s1243</td>\n",
       "      <td>Movie</td>\n",
       "      <td>Catch Me If You Can</td>\n",
       "      <td>Steven Spielberg</td>\n",
       "      <td>Leonardo DiCaprio, Tom Hanks, Christopher Walk...</td>\n",
       "      <td>United States, Canada</td>\n",
       "      <td>January 1, 2021</td>\n",
       "      <td>2002</td>\n",
       "      <td>PG-13</td>\n",
       "      <td>141 min</td>\n",
       "      <td>Dramas</td>\n",
       "      <td>An FBI agent makes it his mission to put cunni...</td>\n",
       "    </tr>\n",
       "    <tr>\n",
       "      <th>2799</th>\n",
       "      <td>s2800</td>\n",
       "      <td>Movie</td>\n",
       "      <td>Hook</td>\n",
       "      <td>Steven Spielberg</td>\n",
       "      <td>Dustin Hoffman, Robin Williams, Julia Roberts,...</td>\n",
       "      <td>United States</td>\n",
       "      <td>January 15, 2021</td>\n",
       "      <td>1991</td>\n",
       "      <td>PG</td>\n",
       "      <td>142 min</td>\n",
       "      <td>Children &amp; Family Movies</td>\n",
       "      <td>Peter Pan, now grown up and a workaholic, must...</td>\n",
       "    </tr>\n",
       "    <tr>\n",
       "      <th>2990</th>\n",
       "      <td>s2991</td>\n",
       "      <td>Movie</td>\n",
       "      <td>Indiana Jones and the Kingdom of the Crystal S...</td>\n",
       "      <td>Steven Spielberg</td>\n",
       "      <td>Harrison Ford, Cate Blanchett, Karen Allen, Ra...</td>\n",
       "      <td>United States</td>\n",
       "      <td>January 1, 2019</td>\n",
       "      <td>2008</td>\n",
       "      <td>PG-13</td>\n",
       "      <td>123 min</td>\n",
       "      <td>Action &amp; Adventure, Children &amp; Family Movies, ...</td>\n",
       "      <td>Indiana Jones is drawn into a Russian plot to ...</td>\n",
       "    </tr>\n",
       "  </tbody>\n",
       "</table>\n",
       "</div>"
      ],
      "text/plain": [
       "     show_id   type                                              title  \\\n",
       "1242   s1243  Movie                                Catch Me If You Can   \n",
       "2799   s2800  Movie                                               Hook   \n",
       "2990   s2991  Movie  Indiana Jones and the Kingdom of the Crystal S...   \n",
       "\n",
       "              director                                               cast  \\\n",
       "1242  Steven Spielberg  Leonardo DiCaprio, Tom Hanks, Christopher Walk...   \n",
       "2799  Steven Spielberg  Dustin Hoffman, Robin Williams, Julia Roberts,...   \n",
       "2990  Steven Spielberg  Harrison Ford, Cate Blanchett, Karen Allen, Ra...   \n",
       "\n",
       "                    country        date_added  release_year rating duration  \\\n",
       "1242  United States, Canada   January 1, 2021          2002  PG-13  141 min   \n",
       "2799          United States  January 15, 2021          1991     PG  142 min   \n",
       "2990          United States   January 1, 2019          2008  PG-13  123 min   \n",
       "\n",
       "                                              listed_in  \\\n",
       "1242                                             Dramas   \n",
       "2799                           Children & Family Movies   \n",
       "2990  Action & Adventure, Children & Family Movies, ...   \n",
       "\n",
       "                                            description  \n",
       "1242  An FBI agent makes it his mission to put cunni...  \n",
       "2799  Peter Pan, now grown up and a workaholic, must...  \n",
       "2990  Indiana Jones is drawn into a Russian plot to ...  "
      ]
     },
     "execution_count": 4,
     "metadata": {},
     "output_type": "execute_result"
    }
   ],
   "source": [
    "steven_spielberg_movies = df[df.director==\"Steven Spielberg\"]\n",
    "steven_spielberg_movies.head(3)"
   ]
  },
  {
   "cell_type": "markdown",
   "id": "81df16c9",
   "metadata": {},
   "source": [
    "### Beispiel: alle Actionfilme aus dem Jahr 2018 und 2019\n",
    "Es bietet sich bei komplexen Fragen an, diverse Filterserien zu erstellen und dann mit logischen Operatoren zu verknüpfen."
   ]
  },
  {
   "cell_type": "code",
   "execution_count": 19,
   "id": "1b205b3d",
   "metadata": {},
   "outputs": [],
   "source": [
    "# # Aufgabe. Verknüpfe mit UND und filtere df\n",
    "# Alle Filme aus dem Jahr 2018 und 2019. \n",
    "# Alle Title aus dem type Movie. \n",
    "# Alle Title in denen das Wort \"Action\" in der Spalte listed_in \n",
    "# gebe den Shape des neuen DataFrames aus und zeige mit head(3) die ersten Einträge"
   ]
  },
  {
   "cell_type": "markdown",
   "id": "cd4d3538",
   "metadata": {},
   "source": [
    "# Intermezzo: VIEWS vs COPY\n",
    "ein für Anfänger häufig schwer nachzuvollziehendes Problem in der Arbeit mit Filtern und Dataframes ist die `SettingsWithCopyWarning`. Um zu verstehen, worum es bei SettingWithCopyWarning geht, ist es hilfreich zu verstehen, dass einige Aktionen in Pandas eine `View` der Daten zurückgeben können und andere eine `Kopie` zurückgeben.\n",
    "\n",
    "Eine View auf einen Dataframe ist quasi nur eine Ansicht auf dahinterliegende Daten in einem anderen Dataframe, eine Copy ist ein richtiger Dataframe. \n",
    "\n",
    "![alt text](view-vs-copy.png \"view\")\n",
    "\n",
    "Wie wir oben sehen können, ist die `View df2` auf der linken Seite nur eine Teilmenge der ursprünglichen `df1`, während die `Kopie auf der rechten Seite` ein `neues, eindeutiges Objekt df2` erstellt.\n",
    "\n",
    "Dies kann möglicherweise zu Problemen führen, wenn wir versuchen, Änderungen vorzunehmen. SettingWithCopyWarning ist ein Hinweis darauf, dass Ihre Änderungen möglicherweise nicht das ursprüngliche Objekt betreffen.\n",
    "\n",
    "Da es sich hier um ein relativ schwieriges Thema handelt, verlinke ich auf ein Tutorial:\n",
    "https://realpython.com/pandas-settingwithcopywarning/\n",
    "\n",
    "\n",
    "Best Practice: Verwenden Sie immer .loc oder .iloc, wenn Sie Werte in einem DataFrame ändern möchten. Das macht den Code robuster und vermeidet potenzielle Probleme mit SettingWithCopyWarning.\n",
    "\n",
    "\n",
    "### Beispiel\n",
    "Wir wollen nun von dem oben erstellten Dataframe `steven_spielberg_movies` das `director`-Feld auf lowercase setzen. Dazu müssen wir auf die Spalte `director` einen String-Accessor anwenden. Wir bekommen ein `SettingWithCopyWarning`, da Pandas nicht weiß, ob wir den Originalen Dataframe `df` verändern wollen oder nur eine View darauf `steven_spielberg_movies`. Eine Lösung wäre, die Copy-Methode zu nutzen. Damit erstellen wir von dem gefilterten Dataframe explizit eine neue, eigenständige Kopie. "
   ]
  },
  {
   "cell_type": "code",
   "execution_count": 21,
   "id": "a5e88256",
   "metadata": {},
   "outputs": [],
   "source": [
    "# alle Title von Steven Spielberg.\n",
    "# Überschreibe Spalte director mit der Lowercase-Version von Steven Spielberg"
   ]
  },
  {
   "cell_type": "markdown",
   "id": "4aaed386",
   "metadata": {},
   "source": [
    "## Aufgabe \n",
    "Wir sind an der durchschnittlichen `Dauer (duration)` aller Filme (`type` movie) aus dem `country` United States im Jahr 2008 `release_date` interessiert.\n",
    "\n",
    "Die Spalte `duration` enthält nicht-numerische Zeichen, versuche diese zu entfernen, um den Mittelwert `mean` zu berechnen. Erstelle die entsprechenden Filter. \n",
    "\n",
    "### Vorgehen\n",
    "\n",
    "* 0. Lade das netflix dataset mit read_csv\n",
    "* 1. Lege die filter an (Type Movie, Jahr 2008, Land USA)\n",
    "* 2. Filtere den Dataframe mit den filtern und führe eine copy-Methode aus, um den Dataframe zu kopieren (df_filtered)\n",
    "* 3. entferne das \"min\" aus der Spalte duration. Speichere die bereinigte Dauer in der (neuen) Spalte duration_cleaned.\n",
    "* 4. Setze den Type der Spalte duration_cleaned auf int (nutze dazu astype(\"int16\"))\n",
    "* 5. Errechne den Mittelwert, die Standardabweichung, den Min und Max-Wert von duration_cleaned\n",
    "  6. Happy Coding!"
   ]
  },
  {
   "cell_type": "code",
   "execution_count": 23,
   "id": "4e2f2e85",
   "metadata": {},
   "outputs": [],
   "source": [
    "df = pd.read_csv(\"../data/netflix_titles.csv\")"
   ]
  },
  {
   "cell_type": "markdown",
   "id": "00760604",
   "metadata": {},
   "source": [
    "## Umgang mit NaN-Werten\n",
    "wir hatten in einem vorhergehenden Kapitel schon gesehen, wie wir mit NaN-Werten umgehen können. Wir wollen nun fehlende Sensordaten in Spalte A mit dem Durchschnittswert der Sensordaten B und C ersetzen. \n",
    "Falls in B oder C NaN-Werte vorhanden sein sollten, werden diese Zeilen vorweg gelöscht."
   ]
  },
  {
   "cell_type": "code",
   "execution_count": 24,
   "id": "98e1d172",
   "metadata": {},
   "outputs": [],
   "source": [
    "df_sensordata = pd.read_csv(\"../data/sensordata.csv\", header=None, names=[\"SensorA\", \"SensorB\", \"SensorC\"])\n",
    "\n",
    "# Zeilen löschen, wo SensorB oder SensorC NaN-Werte beinhaltet"
   ]
  },
  {
   "cell_type": "markdown",
   "id": "a63ca77f",
   "metadata": {},
   "source": [
    "### 1.) Erstellen einer boolschen Serie mit fehlenden Sensordaten von Sensor A\n",
    "dazu können wir die Methode `isna()` nutzen."
   ]
  },
  {
   "cell_type": "code",
   "execution_count": 25,
   "id": "4c732ddf",
   "metadata": {},
   "outputs": [],
   "source": [
    "# sensordatan Missing A"
   ]
  },
  {
   "cell_type": "markdown",
   "id": "ebe43188",
   "metadata": {},
   "source": [
    "### 2.) Durchschnittswert zwischen Sensor B und Sensor C errechnen"
   ]
  },
  {
   "cell_type": "code",
   "execution_count": 28,
   "id": "ff8a7b73",
   "metadata": {},
   "outputs": [],
   "source": [
    "# Serie mit Durchschnitt-Sensordaten von SensorB und SensorC an den fehlenden Stellen von Sensor A erstellen"
   ]
  },
  {
   "cell_type": "markdown",
   "id": "09c05c59",
   "metadata": {},
   "source": [
    "### 3.) boolsche Serie als Maske nutzen für die loc-Methode"
   ]
  },
  {
   "cell_type": "code",
   "execution_count": 30,
   "id": "cd46bb13",
   "metadata": {},
   "outputs": [],
   "source": [
    "# Alle fehlenden Stellen von Sensor A die Mittelwerte aus 2) auffüllen"
   ]
  }
 ],
 "metadata": {
  "kernelspec": {
   "display_name": "Python 3 (ipykernel)",
   "language": "python",
   "name": "python3"
  },
  "language_info": {
   "codemirror_mode": {
    "name": "ipython",
    "version": 3
   },
   "file_extension": ".py",
   "mimetype": "text/x-python",
   "name": "python",
   "nbconvert_exporter": "python",
   "pygments_lexer": "ipython3",
   "version": "3.12.4"
  }
 },
 "nbformat": 4,
 "nbformat_minor": 5
}
