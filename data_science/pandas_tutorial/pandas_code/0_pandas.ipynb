{
 "cells": [
  {
   "cell_type": "markdown",
   "id": "1a44a960",
   "metadata": {},
   "source": [
    "# Pandas - Einführung\n",
    "Open-Source Bibliothek zum Arbeiten mit Tabellen. Pandas baut auf Numpy auf und erweitert dieses um vielfältige Funktionen, um zum Beipsiel Daten zu analysieren.\n",
    "\n",
    "Pandas ist eine weit verbreitete Open-Source-Python-Bibliothek für Data-Science, Datenanalyse und maschinelles Lernen. Es baut auf Numpy auf, dem grundlegenden Paket für wissenschaftliches Rechnen in Python. Pandas lässt sich als eines der beliebtesten Datenverarbeitungs-Pakete gut in viele andere Python-Data-Science-Pakete integrieren und lässt sich leicht mit dem Paketmanager `pip` installieren.\n",
    "\n",
    "Man kann sich Pandas vorstellen wie eine Excel-Tabelle. Wir können ganze Spalten, ganze Bereiche und einzelne Felder addressieren. Werte einer Spalte bestehen aus einem Datentyp. Diese Datentypen enstprechen den Numpy-Datentypen.\n",
    "\n",
    "## Author\n",
    "Bernd Fischer"
   ]
  },
  {
   "cell_type": "markdown",
   "id": "0bc214bf",
   "metadata": {},
   "source": [
    "## Installation\n",
    "Es ist ratsam, für jedes Projekt eine virtuelle Umgebung anzulegen und zu aktivieren.\n",
    "    \n",
    "    pypthon -m venv env\n",
    "    .\\env\\Scripts\\activate\n",
    "    \n",
    "Wir können Pandas mit pip dann einfach installieren.\n",
    "\n",
    "    (env) pip install pandas"
   ]
  },
  {
   "cell_type": "code",
   "execution_count": 2,
   "id": "09f8635a",
   "metadata": {},
   "outputs": [],
   "source": [
    "import pandas as pd\n",
    "import matplotlib.pyplot as plt"
   ]
  },
  {
   "cell_type": "markdown",
   "id": "4c1c444a",
   "metadata": {},
   "source": [
    "## Grundlagen\n",
    "Pandas bietet im Gegensatz zum Numpy-ndArray zwei weitere Datenstrukturen an: die Serie und den DataFrame.\n",
    "\n",
    "## Series\n",
    "Die Serie ist eine eindimensionale Datenstruktur, ähnlich wie ein Numpy-Array. Zusätzlich zu dem numerischen Index gibt es bei der Series noch einen sprechende Index, wenn gewünscht."
   ]
  },
  {
   "cell_type": "code",
   "execution_count": 7,
   "id": "cbd9842c",
   "metadata": {},
   "outputs": [
    {
     "name": "stderr",
     "output_type": "stream",
     "text": [
      "C:\\Users\\ITS-Admin\\AppData\\Local\\Temp\\ipykernel_3976\\771514884.py:2: FutureWarning: Series.__getitem__ treating keys as positions is deprecated. In a future version, integer keys will always be treated as labels (consistent with DataFrame behavior). To access a value by position, use `ser.iloc[pos]`\n",
      "  wizards.Harry, wizards[\"Harry\"], wizards[0]\n"
     ]
    },
    {
     "data": {
      "text/plain": [
       "(np.int64(12), np.int64(12), np.int64(12))"
      ]
     },
     "execution_count": 7,
     "metadata": {},
     "output_type": "execute_result"
    }
   ],
   "source": [
    "wizards = pd.Series([12, 14, 11], index=[\"Harry\", \"Ron\", \"Hermione\"])\n",
    "wizards.Harry, wizards[\"Harry\"], wizards[0]\n",
    "# Zugriff auf die Elemente einer Series"
   ]
  },
  {
   "cell_type": "markdown",
   "id": "f8505583",
   "metadata": {},
   "source": [
    "### Analysieren der Series\n",
    "Wie schon bei Numpy können wir uns den Shape und die Dimension der Series zurückgeben lassen. Die Values einer Series sind ein Numpy-Arrays und können mit dem values-Attribut ausgegeben werden."
   ]
  },
  {
   "cell_type": "code",
   "execution_count": 8,
   "id": "4782399b",
   "metadata": {},
   "outputs": [
    {
     "data": {
      "text/plain": [
       "(3,)"
      ]
     },
     "execution_count": 8,
     "metadata": {},
     "output_type": "execute_result"
    }
   ],
   "source": [
    "# Shape, Dimension und Type ausgeben\n",
    "wizards.shape"
   ]
  },
  {
   "cell_type": "markdown",
   "id": "02967a73-0525-494a-a13a-f40bc49768a4",
   "metadata": {},
   "source": [
    "## Index und Values\n",
    "Jede Series hat einen Index und Werte"
   ]
  },
  {
   "cell_type": "code",
   "execution_count": 5,
   "id": "a821d24c",
   "metadata": {},
   "outputs": [
    {
     "name": "stdout",
     "output_type": "stream",
     "text": [
      "Values:  [12 14 11] <class 'numpy.ndarray'>\n",
      "Index:  Index(['Harry', 'Ron', 'Hermione'], dtype='object') <class 'pandas.core.indexes.base.Index'>\n"
     ]
    }
   ],
   "source": [
    "print(\"Values: \", wizards.values, type(wizards.values))\n",
    "print(\"Index: \", wizards.index, type(wizards.index))"
   ]
  },
  {
   "cell_type": "markdown",
   "id": "820abd07",
   "metadata": {},
   "source": [
    "### Series plotten\n",
    "Man kann aus Pandas heraus auch gleich plotten. Dazu implementiert Pandas einen Wrapper um die eigentlichen matplotlib-Funktionen."
   ]
  },
  {
   "cell_type": "code",
   "execution_count": 6,
   "id": "80a4cb11",
   "metadata": {},
   "outputs": [
    {
     "data": {
      "text/plain": [
       "<Axes: >"
      ]
     },
     "execution_count": 6,
     "metadata": {},
     "output_type": "execute_result"
    },
    {
     "data": {
      "image/png": "[encoded data removed]",
      "text/plain": [
       "<Figure size 640x480 with 1 Axes>"
      ]
     },
     "metadata": {},
     "output_type": "display_data"
    }
   ],
   "source": [
    "wizards.plot(kind=\"bar\")"
   ]
  },
  {
   "cell_type": "markdown",
   "id": "514de5cc",
   "metadata": {},
   "source": [
    "### eine Series erstellen\n",
    "eine Series kann neben einer Liste/Tupel/Numpy Array (allgemein Sequenz) auch aus einem Dictionary erstellt werden. Die Keys bilden dann den Index ab. Per Konvention wird als Variable, die auf eine Serie verweist, der Buchstabe s verwendet. Das muss natürlich nicht so sein, jeder Name ist denkbar."
   ]
  },
  {
   "cell_type": "code",
   "execution_count": 6,
   "id": "2f17464b",
   "metadata": {},
   "outputs": [],
   "source": [
    "# Eine Series aus einem Dict erstellen"
   ]
  },
  {
   "cell_type": "markdown",
   "id": "8a84bc6d",
   "metadata": {},
   "source": [
    "### Datentyp der Series\n",
    "Der Datentyp einer Series ist der Datentyp, der für alle Werte der Series gilt. Später bei Tabellen (Spalten) im DataFrame, wo die Series eine Spalte repräsentiert, ist der Datentyp für die ganze Spalte. \n",
    "\n",
    "Falls die Werte einer Series numerisch sind, wählt Pandas einen numerischen Datentyp. Der Default-Datentyp ist (für ganzzahlige Werte) int64 sowie für Fließkommazahlen float64. Man kann beim Erstellen oder auch später den Datentyp ändern.\n",
    "Pandas Series können aber nicht nur numerische Datentypen halten, sondern im Grunde jeden Datentyp. Der dazugehörige Pandas dtype wäre dann, zum Beispiel bei Strings, object."
   ]
  },
  {
   "cell_type": "code",
   "execution_count": 10,
   "id": "91121925",
   "metadata": {},
   "outputs": [
    {
     "data": {
      "text/plain": [
       "Hufflepuff    34\n",
       "Slytherin     23\n",
       "Ravenclaw     19\n",
       "Griffindor    22\n",
       "dtype: int64"
      ]
     },
     "execution_count": 10,
     "metadata": {},
     "output_type": "execute_result"
    }
   ],
   "source": [
    "students = [34, 23, 19, 22]\n",
    "houses = [\"Hufflepuff\", \"Slytherin\", \"Ravenclaw\", \"Griffindor\"]\n",
    "\n",
    "# Series erstellen\n",
    "students_houses = pd.Series(students, index=houses)\n",
    "students_houses\n",
    "\n",
    "\n",
    "# Datentyp nach int16 konvertieren"
   ]
  },
  {
   "cell_type": "markdown",
   "id": "8328558e",
   "metadata": {},
   "source": [
    "### Datentyp object\n",
    "Falls es sich bei den Werten in einer Series um nicht-numerische Datentypen handelt bzw. um Mischwerte, wird der Spalte der Datentyp object zugeordnet."
   ]
  },
  {
   "cell_type": "code",
   "execution_count": 7,
   "id": "4647323f",
   "metadata": {},
   "outputs": [
    {
     "data": {
      "text/plain": [
       "(0         Ron\n",
       " 1    Hermione\n",
       " 2       Harry\n",
       " 3        Luna\n",
       " dtype: object,\n",
       " 0     2.0\n",
       " 1     2.2\n",
       " 2    51.0\n",
       " dtype: float64)"
      ]
     },
     "execution_count": 7,
     "metadata": {},
     "output_type": "execute_result"
    }
   ],
   "source": [
    "names = [\"Ron\", \"Hermione\", \"Harry\", \"Luna\"]\n",
    "wizards = pd.Series(names)\n",
    "\n",
    "ages = [2, 2.2, 0x33]\n",
    "ages = pd.Series(ages)\n",
    "wizards, ages"
   ]
  },
  {
   "cell_type": "markdown",
   "id": "2b8b3642",
   "metadata": {},
   "source": [
    "### Speicherverbrauch einer Series\n",
    "Mit `memory_usage()` können wir sehr leicht den Speicherverbrauch in `Bytes` einer Series messen."
   ]
  },
  {
   "cell_type": "code",
   "execution_count": 9,
   "id": "3cde0a56",
   "metadata": {},
   "outputs": [
    {
     "data": {
      "text/plain": [
       "152"
      ]
     },
     "execution_count": 9,
     "metadata": {},
     "output_type": "execute_result"
    }
   ],
   "source": [
    "ages.memory_usage()"
   ]
  },
  {
   "cell_type": "code",
   "execution_count": 10,
   "id": "624c42ec",
   "metadata": {},
   "outputs": [
    {
     "data": {
      "text/plain": [
       "134"
      ]
     },
     "execution_count": 10,
     "metadata": {},
     "output_type": "execute_result"
    }
   ],
   "source": [
    "ages = ages.astype(\"float16\")\n",
    "ages.memory_usage()"
   ]
  },
  {
   "cell_type": "markdown",
   "id": "800ca93b",
   "metadata": {},
   "source": [
    "### Aufgabe\n",
    "erstelle eine Series cities, die Einwohner der Städte Paris (3.8 Mil), Berlin (3.4 Mil) und Hamburg (2.1 Mil) abbildet. Die Städtenamen sollen als Index gelten. Wähle den Datentyp int32."
   ]
  },
  {
   "cell_type": "code",
   "execution_count": 11,
   "id": "377860f7",
   "metadata": {},
   "outputs": [],
   "source": [
    "city_names = [\"Paris\", \"Berlin\", \"Hamburg\"]"
   ]
  },
  {
   "cell_type": "markdown",
   "id": "37ec96cd",
   "metadata": {},
   "source": [
    "## DataFrame\n",
    "Das DataFrame ist eine Matrix und besteht aus mehreren Series. Ein Dataframe muss man sich vorstellen wie eine Excel-Tabelle. Man adressiert vorzugsweise die Spalten, filtert und manipuliert diese und führt Berechnungen darauf aus.\n",
    "\n",
    "Mehr dazu im nächsten Blatt."
   ]
  }
 ],
 "metadata": {
  "kernelspec": {
   "display_name": "Python 3 (ipykernel)",
   "language": "python",
   "name": "python3"
  },
  "language_info": {
   "codemirror_mode": {
    "name": "ipython",
    "version": 3
   },
   "file_extension": ".py",
   "mimetype": "text/x-python",
   "name": "python",
   "nbconvert_exporter": "python",
   "pygments_lexer": "ipython3",
   "version": "3.13.1"
  },
  "vscode": {
   "interpreter": {
    "hash": "7723de124a472222161f85b3a7b4500ba8ecfa8171d3881b019f61239b0ab48e"
   }
  }
 },
 "nbformat": 4,
 "nbformat_minor": 5
}
