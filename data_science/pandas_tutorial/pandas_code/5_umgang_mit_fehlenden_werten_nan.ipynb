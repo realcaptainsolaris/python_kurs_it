{
 "cells": [
  {
   "cell_type": "code",
   "execution_count": 1,
   "id": "578d29fd",
   "metadata": {},
   "outputs": [],
   "source": [
    "import numpy as np\n",
    "import pandas as pd\n",
    "np.random.seed(42)"
   ]
  },
  {
   "cell_type": "markdown",
   "id": "a66d5842",
   "metadata": {},
   "source": [
    "# CSV-Datei: fehlende Werte, NAN\n",
    "Es kommt häufig vor, dass in Datensätzen Werte fehlen. Zum Beispiel fehlende Sensorwerte oder nicht als Zahl intertpretierbare Zahlen. "
   ]
  },
  {
   "cell_type": "markdown",
   "id": "e83898d9",
   "metadata": {},
   "source": [
    "## Was sind NAN-Werte?\n",
    "NaN-Werte (kurz für Not a Number) sind spezielle Werte in Daten, die verwendet werden, um fehlende oder undefinierte Daten in einem Datensatz darzustellen. Sie sind ein zentraler Bestandteil von Datenanalyse- und Datenverarbeitungsbibliotheken wie Pandas. \n",
    "\n",
    "Numpy bietet einen numerischen Datentyp `nan` an, den wir nutzen können. Im folgenden Beispiel erstellen wir einen DataFrame aus einem Dictionary mit einem NaN-Wert. Uns fällt auf, dass der Wert NaN ein Float-Wert ist (nach ISO 754)."
   ]
  },
  {
   "cell_type": "code",
   "execution_count": 2,
   "id": "aa36042b",
   "metadata": {},
   "outputs": [
    {
     "data": {
      "text/plain": [
       "float"
      ]
     },
     "execution_count": 2,
     "metadata": {},
     "output_type": "execute_result"
    }
   ],
   "source": [
    "type(np.nan)"
   ]
  },
  {
   "cell_type": "code",
   "execution_count": 3,
   "id": "f5161a19",
   "metadata": {},
   "outputs": [
    {
     "data": {
      "text/plain": [
       "(   a    b\n",
       " 0  1  4.0\n",
       " 1  2  5.0\n",
       " 2  3  NaN\n",
       " 3  4  6.0,\n",
       " 0    4.0\n",
       " 1    5.0\n",
       " 2    NaN\n",
       " 3    6.0\n",
       " Name: b, dtype: float64)"
      ]
     },
     "execution_count": 3,
     "metadata": {},
     "output_type": "execute_result"
    }
   ],
   "source": [
    "# erstelle ein Dict mit NAN-Werten\n",
    "d = {\n",
    "    \"a\": [1, 2, 3, 4],\n",
    "    \"b\": [4, 5, np.nan, 6],\n",
    "}\n",
    "features = pd.DataFrame(d)\n",
    "features, features.b"
   ]
  },
  {
   "cell_type": "markdown",
   "id": "e8cc717f",
   "metadata": {},
   "source": [
    "### Probleme beim arithmetischen Operationen\n",
    "Bei vielen Daten würde es u.U. gar nicht auffallen, dass sich NaN-Werte eingeschlichen hätten. Würden wir zum Beispiel die Summe aller Werte einer Spalte berechnen, wäre das Ergebnis allerdings kein NaN-Wert, sondern der NaN-Wert wird einfach ignoriert! \n",
    "\n",
    "Generell gilt: bei arithmetischen Operationen wie `sum()` werden NaN-Werte als 0 aufgefasst."
   ]
  },
  {
   "cell_type": "code",
   "execution_count": 6,
   "id": "de455fc7",
   "metadata": {},
   "outputs": [
    {
     "data": {
      "text/plain": [
       "(np.float64(15.0),\n",
       " 0    4.0\n",
       " 1    9.0\n",
       " 2    NaN\n",
       " 3    NaN\n",
       " Name: b, dtype: float64)"
      ]
     },
     "execution_count": 6,
     "metadata": {},
     "output_type": "execute_result"
    }
   ],
   "source": [
    "# wir können zwar damit rechnen, Nan-Werte werden als 0 aufgefasst\n",
    "features.b.sum(), features.b.cumsum(skipna=False)"
   ]
  },
  {
   "cell_type": "markdown",
   "id": "56e9e340",
   "metadata": {},
   "source": [
    "#### Cumsum\n",
    "in der kummulierten Summe ergibt sich ein falscher Wert, da NaN-Werte ignoriert werden. \n",
    "\n",
    "Mit `skipna` lässt sich dieses Verhalten ändern. Dann findet tatsächlich eine Addition statt, aber es gilt: 2 + Nan = NaN."
   ]
  },
  {
   "cell_type": "code",
   "execution_count": 3,
   "id": "79be4632",
   "metadata": {},
   "outputs": [],
   "source": [
    "# cumsum von Spalte b"
   ]
  },
  {
   "cell_type": "markdown",
   "id": "e1c975ef",
   "metadata": {},
   "source": [
    "## Beispiel-Datei Sensordaten\n",
    "Wir wollen Sensordaten einer sensordata.csv importieren und prüfen, wie wir mit fehlenden Werten umgehen können."
   ]
  },
  {
   "cell_type": "markdown",
   "id": "1aaaccf1",
   "metadata": {},
   "source": [
    "### Datei einlesen\n",
    "Probleme: Nicht vorhande Werte werden als NaN (Not a number) abgebildet und die Werte der ersten Zeile der kopflosen CSV-Datei werden als Spaltennamen verwendet. Wenn wir beim Einlesen `header=None` setzen, werden numerische Spaltennamen vergeben (Int64Index)."
   ]
  },
  {
   "cell_type": "code",
   "execution_count": 7,
   "id": "dd73f4d2",
   "metadata": {},
   "outputs": [
    {
     "data": {
      "text/html": [
       "<div>\n",
       "<style scoped>\n",
       "    .dataframe tbody tr th:only-of-type {\n",
       "        vertical-align: middle;\n",
       "    }\n",
       "\n",
       "    .dataframe tbody tr th {\n",
       "        vertical-align: top;\n",
       "    }\n",
       "\n",
       "    .dataframe thead th {\n",
       "        text-align: right;\n",
       "    }\n",
       "</style>\n",
       "<table border=\"1\" class=\"dataframe\">\n",
       "  <thead>\n",
       "    <tr style=\"text-align: right;\">\n",
       "      <th></th>\n",
       "      <th>0</th>\n",
       "      <th>1</th>\n",
       "      <th>2</th>\n",
       "    </tr>\n",
       "  </thead>\n",
       "  <tbody>\n",
       "    <tr>\n",
       "      <th>0</th>\n",
       "      <td>NaN</td>\n",
       "      <td>1218.00</td>\n",
       "      <td>1210.18</td>\n",
       "    </tr>\n",
       "    <tr>\n",
       "      <th>1</th>\n",
       "      <td>NaN</td>\n",
       "      <td>NaN</td>\n",
       "      <td>868.44</td>\n",
       "    </tr>\n",
       "    <tr>\n",
       "      <th>2</th>\n",
       "      <td>1117.92</td>\n",
       "      <td>636.51</td>\n",
       "      <td>NaN</td>\n",
       "    </tr>\n",
       "  </tbody>\n",
       "</table>\n",
       "</div>"
      ],
      "text/plain": [
       "         0        1        2\n",
       "0      NaN  1218.00  1210.18\n",
       "1      NaN      NaN   868.44\n",
       "2  1117.92   636.51      NaN"
      ]
     },
     "execution_count": 7,
     "metadata": {},
     "output_type": "execute_result"
    }
   ],
   "source": [
    "file_name = \"../data/sensordata.csv\"\n",
    "df = pd.read_csv(file_name, header=None)\n",
    "df.head(3)"
   ]
  },
  {
   "cell_type": "markdown",
   "id": "4e795cde",
   "metadata": {},
   "source": [
    "### 1. Spaltennamen anpassen\n",
    "Die 3 Spalten bezeichnen die 3 Sensoren A, B, C. Wir wollen die Spaltennamen jetzt umbenennen."
   ]
  },
  {
   "cell_type": "code",
   "execution_count": 8,
   "id": "e446891d",
   "metadata": {},
   "outputs": [
    {
     "data": {
      "text/html": [
       "<div>\n",
       "<style scoped>\n",
       "    .dataframe tbody tr th:only-of-type {\n",
       "        vertical-align: middle;\n",
       "    }\n",
       "\n",
       "    .dataframe tbody tr th {\n",
       "        vertical-align: top;\n",
       "    }\n",
       "\n",
       "    .dataframe thead th {\n",
       "        text-align: right;\n",
       "    }\n",
       "</style>\n",
       "<table border=\"1\" class=\"dataframe\">\n",
       "  <thead>\n",
       "    <tr style=\"text-align: right;\">\n",
       "      <th></th>\n",
       "      <th>A</th>\n",
       "      <th>B</th>\n",
       "      <th>C</th>\n",
       "    </tr>\n",
       "  </thead>\n",
       "  <tbody>\n",
       "    <tr>\n",
       "      <th>0</th>\n",
       "      <td>NaN</td>\n",
       "      <td>1218.00</td>\n",
       "      <td>1210.18</td>\n",
       "    </tr>\n",
       "    <tr>\n",
       "      <th>1</th>\n",
       "      <td>NaN</td>\n",
       "      <td>NaN</td>\n",
       "      <td>868.44</td>\n",
       "    </tr>\n",
       "    <tr>\n",
       "      <th>2</th>\n",
       "      <td>1117.92</td>\n",
       "      <td>636.51</td>\n",
       "      <td>NaN</td>\n",
       "    </tr>\n",
       "    <tr>\n",
       "      <th>3</th>\n",
       "      <td>922.26</td>\n",
       "      <td>1400.81</td>\n",
       "      <td>NaN</td>\n",
       "    </tr>\n",
       "    <tr>\n",
       "      <th>4</th>\n",
       "      <td>2043.03</td>\n",
       "      <td>1103.48</td>\n",
       "      <td>1143.08</td>\n",
       "    </tr>\n",
       "    <tr>\n",
       "      <th>...</th>\n",
       "      <td>...</td>\n",
       "      <td>...</td>\n",
       "      <td>...</td>\n",
       "    </tr>\n",
       "    <tr>\n",
       "      <th>995</th>\n",
       "      <td>637.47</td>\n",
       "      <td>806.51</td>\n",
       "      <td>727.65</td>\n",
       "    </tr>\n",
       "    <tr>\n",
       "      <th>996</th>\n",
       "      <td>951.60</td>\n",
       "      <td>1535.97</td>\n",
       "      <td>147.27</td>\n",
       "    </tr>\n",
       "    <tr>\n",
       "      <th>997</th>\n",
       "      <td>1289.55</td>\n",
       "      <td>914.46</td>\n",
       "      <td>929.24</td>\n",
       "    </tr>\n",
       "    <tr>\n",
       "      <th>998</th>\n",
       "      <td>1717.64</td>\n",
       "      <td>397.15</td>\n",
       "      <td>735.26</td>\n",
       "    </tr>\n",
       "    <tr>\n",
       "      <th>999</th>\n",
       "      <td>1302.95</td>\n",
       "      <td>1344.66</td>\n",
       "      <td>1889.80</td>\n",
       "    </tr>\n",
       "  </tbody>\n",
       "</table>\n",
       "<p>1000 rows × 3 columns</p>\n",
       "</div>"
      ],
      "text/plain": [
       "           A        B        C\n",
       "0        NaN  1218.00  1210.18\n",
       "1        NaN      NaN   868.44\n",
       "2    1117.92   636.51      NaN\n",
       "3     922.26  1400.81      NaN\n",
       "4    2043.03  1103.48  1143.08\n",
       "..       ...      ...      ...\n",
       "995   637.47   806.51   727.65\n",
       "996   951.60  1535.97   147.27\n",
       "997  1289.55   914.46   929.24\n",
       "998  1717.64   397.15   735.26\n",
       "999  1302.95  1344.66  1889.80\n",
       "\n",
       "[1000 rows x 3 columns]"
      ]
     },
     "execution_count": 8,
     "metadata": {},
     "output_type": "execute_result"
    }
   ],
   "source": [
    "# Spaltennamen angeben\n",
    "df.columns = [\"A\", \"B\", \"C\"]\n",
    "df"
   ]
  },
  {
   "cell_type": "markdown",
   "id": "5a63286b",
   "metadata": {},
   "source": [
    "## Fehlende Werte anzeigen lassen\n",
    "Wir können uns eine boolsche Matrix mit den fehlenden Werten anzeigen lassen. Mit solchen boolschen Serien und Matritzen lässt sich später auch filtern."
   ]
  },
  {
   "cell_type": "code",
   "execution_count": 9,
   "id": "ce8b3c0c",
   "metadata": {},
   "outputs": [
    {
     "data": {
      "text/html": [
       "<div>\n",
       "<style scoped>\n",
       "    .dataframe tbody tr th:only-of-type {\n",
       "        vertical-align: middle;\n",
       "    }\n",
       "\n",
       "    .dataframe tbody tr th {\n",
       "        vertical-align: top;\n",
       "    }\n",
       "\n",
       "    .dataframe thead th {\n",
       "        text-align: right;\n",
       "    }\n",
       "</style>\n",
       "<table border=\"1\" class=\"dataframe\">\n",
       "  <thead>\n",
       "    <tr style=\"text-align: right;\">\n",
       "      <th></th>\n",
       "      <th>A</th>\n",
       "      <th>B</th>\n",
       "      <th>C</th>\n",
       "    </tr>\n",
       "  </thead>\n",
       "  <tbody>\n",
       "    <tr>\n",
       "      <th>0</th>\n",
       "      <td>True</td>\n",
       "      <td>False</td>\n",
       "      <td>False</td>\n",
       "    </tr>\n",
       "    <tr>\n",
       "      <th>1</th>\n",
       "      <td>True</td>\n",
       "      <td>True</td>\n",
       "      <td>False</td>\n",
       "    </tr>\n",
       "    <tr>\n",
       "      <th>2</th>\n",
       "      <td>False</td>\n",
       "      <td>False</td>\n",
       "      <td>True</td>\n",
       "    </tr>\n",
       "    <tr>\n",
       "      <th>3</th>\n",
       "      <td>False</td>\n",
       "      <td>False</td>\n",
       "      <td>True</td>\n",
       "    </tr>\n",
       "    <tr>\n",
       "      <th>4</th>\n",
       "      <td>False</td>\n",
       "      <td>False</td>\n",
       "      <td>False</td>\n",
       "    </tr>\n",
       "    <tr>\n",
       "      <th>...</th>\n",
       "      <td>...</td>\n",
       "      <td>...</td>\n",
       "      <td>...</td>\n",
       "    </tr>\n",
       "    <tr>\n",
       "      <th>995</th>\n",
       "      <td>False</td>\n",
       "      <td>False</td>\n",
       "      <td>False</td>\n",
       "    </tr>\n",
       "    <tr>\n",
       "      <th>996</th>\n",
       "      <td>False</td>\n",
       "      <td>False</td>\n",
       "      <td>False</td>\n",
       "    </tr>\n",
       "    <tr>\n",
       "      <th>997</th>\n",
       "      <td>False</td>\n",
       "      <td>False</td>\n",
       "      <td>False</td>\n",
       "    </tr>\n",
       "    <tr>\n",
       "      <th>998</th>\n",
       "      <td>False</td>\n",
       "      <td>False</td>\n",
       "      <td>False</td>\n",
       "    </tr>\n",
       "    <tr>\n",
       "      <th>999</th>\n",
       "      <td>False</td>\n",
       "      <td>False</td>\n",
       "      <td>False</td>\n",
       "    </tr>\n",
       "  </tbody>\n",
       "</table>\n",
       "<p>1000 rows × 3 columns</p>\n",
       "</div>"
      ],
      "text/plain": [
       "         A      B      C\n",
       "0     True  False  False\n",
       "1     True   True  False\n",
       "2    False  False   True\n",
       "3    False  False   True\n",
       "4    False  False  False\n",
       "..     ...    ...    ...\n",
       "995  False  False  False\n",
       "996  False  False  False\n",
       "997  False  False  False\n",
       "998  False  False  False\n",
       "999  False  False  False\n",
       "\n",
       "[1000 rows x 3 columns]"
      ]
     },
     "execution_count": 9,
     "metadata": {},
     "output_type": "execute_result"
    }
   ],
   "source": [
    "# isna nutzen, umd eine boolsche Matrix zu erstellen\n",
    "missing = df.isna()\n",
    "missing"
   ]
  },
  {
   "cell_type": "markdown",
   "id": "b226f00f",
   "metadata": {},
   "source": [
    "### Fehlende Werte zählen\n",
    "- isna(): Not Available\n",
    "- isnull(): ältere Methode, die genau gleich isna() ist (deprecated)"
   ]
  },
  {
   "cell_type": "code",
   "execution_count": 11,
   "id": "51c4583c",
   "metadata": {},
   "outputs": [
    {
     "data": {
      "text/plain": [
       "A    20\n",
       "B    33\n",
       "C    39\n",
       "dtype: int64"
      ]
     },
     "execution_count": 11,
     "metadata": {},
     "output_type": "execute_result"
    }
   ],
   "source": [
    "# Spaltenweise NAN-Werte zählen\n",
    "df.isna().sum()"
   ]
  },
  {
   "cell_type": "markdown",
   "id": "f24a7cfe",
   "metadata": {},
   "source": [
    "### Prüfen, ob in Spalte A ein wahrer Wert vorkommt (Series Methoden)\n",
    "\n",
    "Die Methoden any, all und isnull() können ausgefüht werden, zu prüfen, ob Werte falsy oder NaN sind\n",
    "- isnull: eine boolsche Serie, die wahr zeigt, wenn NaN\n",
    "- any: eine boolsche Funktion, die wahr ist, wenn ein Wert der Serie wahr ist\n",
    "- all: eine boolsche Funktion, die wahr ist, wenn ein Wert der Serie wahr ist"
   ]
  },
  {
   "cell_type": "code",
   "execution_count": 8,
   "id": "34675f3b",
   "metadata": {},
   "outputs": [],
   "source": [
    "# any nutzen, um zu prüfen, ob in Spalte a zumindest ein wahrer Wert vorkommt (vlg. Python any)\n",
    "d = {\n",
    "    \"a\": [0, 0, 0, np.nan],\n",
    "    \"b\": [4, 5, 1, 6],\n",
    "    \"c\": [0, 0, 0, 0]\n",
    "}"
   ]
  },
  {
   "cell_type": "markdown",
   "id": "c11a6e6f",
   "metadata": {},
   "source": [
    "### Prüfen, ob in Spalte A alle Werte truthy sind (all)"
   ]
  },
  {
   "cell_type": "code",
   "execution_count": 9,
   "id": "f8941339",
   "metadata": {},
   "outputs": [],
   "source": [
    "# all nutzen"
   ]
  },
  {
   "cell_type": "markdown",
   "id": "91d77db5",
   "metadata": {},
   "source": [
    "### 2. Zeilen mit Nan-Werten aus dem DataFrame löschen\n",
    "eine mögliche Strategie, mit NaN-Werten umzugehen, ist es, Zeilen, die mindestens einen NaN-Wert enthalten, komplett zu löschen. Das ist nicht immer möglich aber bei Sensordaten, die im Millisekundentakt gemessen werden, ist das eine angemessene Strategie."
   ]
  },
  {
   "cell_type": "code",
   "execution_count": 14,
   "id": "a941a75f",
   "metadata": {},
   "outputs": [
    {
     "data": {
      "text/html": [
       "<div>\n",
       "<style scoped>\n",
       "    .dataframe tbody tr th:only-of-type {\n",
       "        vertical-align: middle;\n",
       "    }\n",
       "\n",
       "    .dataframe tbody tr th {\n",
       "        vertical-align: top;\n",
       "    }\n",
       "\n",
       "    .dataframe thead th {\n",
       "        text-align: right;\n",
       "    }\n",
       "</style>\n",
       "<table border=\"1\" class=\"dataframe\">\n",
       "  <thead>\n",
       "    <tr style=\"text-align: right;\">\n",
       "      <th></th>\n",
       "      <th>A</th>\n",
       "      <th>B</th>\n",
       "      <th>C</th>\n",
       "    </tr>\n",
       "  </thead>\n",
       "  <tbody>\n",
       "    <tr>\n",
       "      <th>0</th>\n",
       "      <td>NaN</td>\n",
       "      <td>1218.00</td>\n",
       "      <td>1210.18</td>\n",
       "    </tr>\n",
       "    <tr>\n",
       "      <th>2</th>\n",
       "      <td>1117.92</td>\n",
       "      <td>636.51</td>\n",
       "      <td>NaN</td>\n",
       "    </tr>\n",
       "    <tr>\n",
       "      <th>3</th>\n",
       "      <td>922.26</td>\n",
       "      <td>1400.81</td>\n",
       "      <td>NaN</td>\n",
       "    </tr>\n",
       "  </tbody>\n",
       "</table>\n",
       "</div>"
      ],
      "text/plain": [
       "         A        B        C\n",
       "0      NaN  1218.00  1210.18\n",
       "2  1117.92   636.51      NaN\n",
       "3   922.26  1400.81      NaN"
      ]
     },
     "execution_count": 14,
     "metadata": {},
     "output_type": "execute_result"
    }
   ],
   "source": [
    "# DataFrame anhand der Rows-Achse löschen, wenn ein NAN-Wert in der Zeile vorkommt\n",
    "df_cleaned = df.dropna(axis=\"rows\", thresh=2)\n",
    "df_cleaned.head(3)"
   ]
  },
  {
   "cell_type": "markdown",
   "id": "72d958c2",
   "metadata": {},
   "source": [
    "### 3. Mindest Anzahl an NaN-Werten pro Zeile\n",
    "wir können für die Methode `dropna()` auch einen threshhold angeben, ab wievielen Nan-Werten pro Zeile die Zeile gelöscht werden soll. Im folgenden Beispiel löschen wir nur Zeilen aus dem Dataframe, die mindestens zwei NaN-Werte enthalten."
   ]
  },
  {
   "cell_type": "code",
   "execution_count": 11,
   "id": "57cc38c4",
   "metadata": {},
   "outputs": [],
   "source": [
    "# threshold angeben, wieviele NaN-Werte in der Zeile vorkommen müssen\n"
   ]
  },
  {
   "cell_type": "markdown",
   "id": "0c7c6d6c",
   "metadata": {},
   "source": [
    "### Spalten löschen\n",
    "bisher haben wir immer ganze Spalten gelöscht, wenn ein NaN-Wert in der Zeile vorkam. Wir können natürlich auch Spalten löschen. Im Beispiel bleibt nur der Index übrig, weil jede Spalte mindestens einen Nan-Wert besitzt. Grundsätzlich ist das Löschen ganzer Spalten wohl eher die Ausnahme."
   ]
  },
  {
   "cell_type": "code",
   "execution_count": 13,
   "id": "92218444",
   "metadata": {},
   "outputs": [],
   "source": [
    "# Zeilen löschen"
   ]
  },
  {
   "cell_type": "markdown",
   "id": "2aea20f6",
   "metadata": {},
   "source": [
    "### Inplace Löschen\n",
    "wir müssen den Dataframe nicht zwingend umkopieren, es ist auch ein inplace-Löschen der Zeilen möglich"
   ]
  },
  {
   "cell_type": "code",
   "execution_count": 56,
   "id": "85d0add8",
   "metadata": {},
   "outputs": [
    {
     "data": {
      "text/html": [
       "<div>\n",
       "<style scoped>\n",
       "    .dataframe tbody tr th:only-of-type {\n",
       "        vertical-align: middle;\n",
       "    }\n",
       "\n",
       "    .dataframe tbody tr th {\n",
       "        vertical-align: top;\n",
       "    }\n",
       "\n",
       "    .dataframe thead th {\n",
       "        text-align: right;\n",
       "    }\n",
       "</style>\n",
       "<table border=\"1\" class=\"dataframe\">\n",
       "  <thead>\n",
       "    <tr style=\"text-align: right;\">\n",
       "      <th></th>\n",
       "      <th>0</th>\n",
       "      <th>1</th>\n",
       "      <th>2</th>\n",
       "    </tr>\n",
       "  </thead>\n",
       "  <tbody>\n",
       "    <tr>\n",
       "      <th>4</th>\n",
       "      <td>2043.03</td>\n",
       "      <td>1103.48</td>\n",
       "      <td>1143.08</td>\n",
       "    </tr>\n",
       "    <tr>\n",
       "      <th>5</th>\n",
       "      <td>2081.55</td>\n",
       "      <td>662.27</td>\n",
       "      <td>1799.80</td>\n",
       "    </tr>\n",
       "    <tr>\n",
       "      <th>6</th>\n",
       "      <td>276.57</td>\n",
       "      <td>1324.42</td>\n",
       "      <td>1063.86</td>\n",
       "    </tr>\n",
       "    <tr>\n",
       "      <th>9</th>\n",
       "      <td>1266.55</td>\n",
       "      <td>1410.51</td>\n",
       "      <td>1803.36</td>\n",
       "    </tr>\n",
       "    <tr>\n",
       "      <th>10</th>\n",
       "      <td>1582.38</td>\n",
       "      <td>1281.72</td>\n",
       "      <td>1727.09</td>\n",
       "    </tr>\n",
       "    <tr>\n",
       "      <th>...</th>\n",
       "      <td>...</td>\n",
       "      <td>...</td>\n",
       "      <td>...</td>\n",
       "    </tr>\n",
       "    <tr>\n",
       "      <th>995</th>\n",
       "      <td>637.47</td>\n",
       "      <td>806.51</td>\n",
       "      <td>727.65</td>\n",
       "    </tr>\n",
       "    <tr>\n",
       "      <th>996</th>\n",
       "      <td>951.60</td>\n",
       "      <td>1535.97</td>\n",
       "      <td>147.27</td>\n",
       "    </tr>\n",
       "    <tr>\n",
       "      <th>997</th>\n",
       "      <td>1289.55</td>\n",
       "      <td>914.46</td>\n",
       "      <td>929.24</td>\n",
       "    </tr>\n",
       "    <tr>\n",
       "      <th>998</th>\n",
       "      <td>1717.64</td>\n",
       "      <td>397.15</td>\n",
       "      <td>735.26</td>\n",
       "    </tr>\n",
       "    <tr>\n",
       "      <th>999</th>\n",
       "      <td>1302.95</td>\n",
       "      <td>1344.66</td>\n",
       "      <td>1889.80</td>\n",
       "    </tr>\n",
       "  </tbody>\n",
       "</table>\n",
       "<p>941 rows × 3 columns</p>\n",
       "</div>"
      ],
      "text/plain": [
       "           0        1        2\n",
       "4    2043.03  1103.48  1143.08\n",
       "5    2081.55   662.27  1799.80\n",
       "6     276.57  1324.42  1063.86\n",
       "9    1266.55  1410.51  1803.36\n",
       "10   1582.38  1281.72  1727.09\n",
       "..       ...      ...      ...\n",
       "995   637.47   806.51   727.65\n",
       "996   951.60  1535.97   147.27\n",
       "997  1289.55   914.46   929.24\n",
       "998  1717.64   397.15   735.26\n",
       "999  1302.95  1344.66  1889.80\n",
       "\n",
       "[941 rows x 3 columns]"
      ]
     },
     "execution_count": 56,
     "metadata": {},
     "output_type": "execute_result"
    }
   ],
   "source": [
    "# Zeilen inplace llöschen"
   ]
  },
  {
   "cell_type": "markdown",
   "id": "d11b2003",
   "metadata": {},
   "source": [
    "## Fehlende Werte auffüllen\n",
    "Wir können fehlende Werte auch mit Platzhalterwerten auffüllen. Im folgenden Beispiel füllen wir alle fehlenden Werte mit 0 auf. Die Operation lässt sich nütürlich ebenso inplace durchführen."
   ]
  },
  {
   "cell_type": "code",
   "execution_count": 15,
   "id": "2a99d311",
   "metadata": {},
   "outputs": [
    {
     "data": {
      "text/html": [
       "<div>\n",
       "<style scoped>\n",
       "    .dataframe tbody tr th:only-of-type {\n",
       "        vertical-align: middle;\n",
       "    }\n",
       "\n",
       "    .dataframe tbody tr th {\n",
       "        vertical-align: top;\n",
       "    }\n",
       "\n",
       "    .dataframe thead th {\n",
       "        text-align: right;\n",
       "    }\n",
       "</style>\n",
       "<table border=\"1\" class=\"dataframe\">\n",
       "  <thead>\n",
       "    <tr style=\"text-align: right;\">\n",
       "      <th></th>\n",
       "      <th>A</th>\n",
       "      <th>B</th>\n",
       "      <th>C</th>\n",
       "    </tr>\n",
       "  </thead>\n",
       "  <tbody>\n",
       "    <tr>\n",
       "      <th>0</th>\n",
       "      <td>42.00</td>\n",
       "      <td>1218.00</td>\n",
       "      <td>1210.18</td>\n",
       "    </tr>\n",
       "    <tr>\n",
       "      <th>1</th>\n",
       "      <td>42.00</td>\n",
       "      <td>42.00</td>\n",
       "      <td>868.44</td>\n",
       "    </tr>\n",
       "    <tr>\n",
       "      <th>2</th>\n",
       "      <td>1117.92</td>\n",
       "      <td>636.51</td>\n",
       "      <td>42.00</td>\n",
       "    </tr>\n",
       "    <tr>\n",
       "      <th>3</th>\n",
       "      <td>922.26</td>\n",
       "      <td>1400.81</td>\n",
       "      <td>42.00</td>\n",
       "    </tr>\n",
       "    <tr>\n",
       "      <th>4</th>\n",
       "      <td>2043.03</td>\n",
       "      <td>1103.48</td>\n",
       "      <td>1143.08</td>\n",
       "    </tr>\n",
       "    <tr>\n",
       "      <th>...</th>\n",
       "      <td>...</td>\n",
       "      <td>...</td>\n",
       "      <td>...</td>\n",
       "    </tr>\n",
       "    <tr>\n",
       "      <th>995</th>\n",
       "      <td>637.47</td>\n",
       "      <td>806.51</td>\n",
       "      <td>727.65</td>\n",
       "    </tr>\n",
       "    <tr>\n",
       "      <th>996</th>\n",
       "      <td>951.60</td>\n",
       "      <td>1535.97</td>\n",
       "      <td>147.27</td>\n",
       "    </tr>\n",
       "    <tr>\n",
       "      <th>997</th>\n",
       "      <td>1289.55</td>\n",
       "      <td>914.46</td>\n",
       "      <td>929.24</td>\n",
       "    </tr>\n",
       "    <tr>\n",
       "      <th>998</th>\n",
       "      <td>1717.64</td>\n",
       "      <td>397.15</td>\n",
       "      <td>735.26</td>\n",
       "    </tr>\n",
       "    <tr>\n",
       "      <th>999</th>\n",
       "      <td>1302.95</td>\n",
       "      <td>1344.66</td>\n",
       "      <td>1889.80</td>\n",
       "    </tr>\n",
       "  </tbody>\n",
       "</table>\n",
       "<p>1000 rows × 3 columns</p>\n",
       "</div>"
      ],
      "text/plain": [
       "           A        B        C\n",
       "0      42.00  1218.00  1210.18\n",
       "1      42.00    42.00   868.44\n",
       "2    1117.92   636.51    42.00\n",
       "3     922.26  1400.81    42.00\n",
       "4    2043.03  1103.48  1143.08\n",
       "..       ...      ...      ...\n",
       "995   637.47   806.51   727.65\n",
       "996   951.60  1535.97   147.27\n",
       "997  1289.55   914.46   929.24\n",
       "998  1717.64   397.15   735.26\n",
       "999  1302.95  1344.66  1889.80\n",
       "\n",
       "[1000 rows x 3 columns]"
      ]
     },
     "execution_count": 15,
     "metadata": {},
     "output_type": "execute_result"
    }
   ],
   "source": [
    "df_filled = df.fillna(value=42)\n",
    "df_filled"
   ]
  },
  {
   "cell_type": "markdown",
   "id": "dc8acd3f",
   "metadata": {},
   "source": [
    "## Fehlende Werte interpolieren\n",
    "Wir können fehlende Werte natürlich auch durch andere, selbst errechnete Werte ersetzen, dazu später mehr. Eine einfache Methode, fehlende Werte mit Mittelwerten vorhergehender und nachfolgender Werte zu ersetzen, ist die Methode `interpolate`. Mit dem Parameter `limit_direction` lässt sich bestimmen, ob die Interpolation von \"vorne\" oder hinten durchgeführt wird. Der default-Wert ist hier `forward`.\n",
    "\n",
    "Zusätzlich kann auch noch mit `method` die Interpolations-Methode gewählt werden. Neben `linear` (default-Wert) gibt es noch `nearest`, `values`, `quadratic` und einige andere mehr. Hier sei wieder auf die Doku verwiesen:\n",
    "\n",
    "https://pandas.pydata.org/pandas-docs/version/0.25.0/reference/api/pandas.DataFrame.interpolate.html?highlight=interpolate#pandas.DataFrame.interpolate"
   ]
  },
  {
   "cell_type": "code",
   "execution_count": 24,
   "id": "c943e95a",
   "metadata": {},
   "outputs": [
    {
     "data": {
      "text/plain": [
       "(0      1218.00\n",
       " 1          NaN\n",
       " 2       636.51\n",
       " 3      1400.81\n",
       " 4      1103.48\n",
       "         ...   \n",
       " 995     806.51\n",
       " 996    1535.97\n",
       " 997     914.46\n",
       " 998     397.15\n",
       " 999    1344.66\n",
       " Name: B, Length: 1000, dtype: float64,\n",
       " 0      1218.000\n",
       " 1       927.255\n",
       " 2       636.510\n",
       " 3      1400.810\n",
       " 4      1103.480\n",
       "          ...   \n",
       " 995     806.510\n",
       " 996    1535.970\n",
       " 997     914.460\n",
       " 998     397.150\n",
       " 999    1344.660\n",
       " Name: B, Length: 1000, dtype: float64)"
      ]
     },
     "execution_count": 24,
     "metadata": {},
     "output_type": "execute_result"
    }
   ],
   "source": [
    "# Fehlende Werte in  Spalten interpolieren\n",
    "df[\"B\"], df[\"B\"].interpolate()"
   ]
  },
  {
   "cell_type": "code",
   "execution_count": 23,
   "id": "6562539f",
   "metadata": {},
   "outputs": [
    {
     "data": {
      "text/plain": [
       "0      1117.92\n",
       "1      1117.92\n",
       "2      1117.92\n",
       "3       922.26\n",
       "4      2043.03\n",
       "        ...   \n",
       "995     637.47\n",
       "996     951.60\n",
       "997    1289.55\n",
       "998    1717.64\n",
       "999    1302.95\n",
       "Name: A, Length: 1000, dtype: float64"
      ]
     },
     "execution_count": 23,
     "metadata": {},
     "output_type": "execute_result"
    }
   ],
   "source": [
    "# Da hier die ersten beiden Werte der Spalte NaN sind, lässt sich mit forward nicht interpolieren.\n",
    "# dann kann backward genutzt werden, um von hinten zu beginnen\n",
    "df[\"A\"].interpolate(limit_direction=\"backward\")"
   ]
  }
 ],
 "metadata": {
  "kernelspec": {
   "display_name": "Python 3 (ipykernel)",
   "language": "python",
   "name": "python3"
  },
  "language_info": {
   "codemirror_mode": {
    "name": "ipython",
    "version": 3
   },
   "file_extension": ".py",
   "mimetype": "text/x-python",
   "name": "python",
   "nbconvert_exporter": "python",
   "pygments_lexer": "ipython3",
   "version": "3.13.1"
  },
  "vscode": {
   "interpreter": {
    "hash": "7723de124a472222161f85b3a7b4500ba8ecfa8171d3881b019f61239b0ab48e"
   }
  }
 },
 "nbformat": 4,
 "nbformat_minor": 5
}
