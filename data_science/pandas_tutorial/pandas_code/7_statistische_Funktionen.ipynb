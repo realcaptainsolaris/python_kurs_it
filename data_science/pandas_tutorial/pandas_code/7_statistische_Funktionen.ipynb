{
 "cells": [
  {
   "cell_type": "markdown",
   "id": "4885f9fa",
   "metadata": {},
   "source": [
    "# Statistische Funktionen (Deskriptive Statistik)\n",
    "Pandas bietet eine ganz Reihe an Funktionen für die deskriptive Statistik. Mittelwert, Modus, Median, Varianz, Standardabweichung"
   ]
  },
  {
   "cell_type": "code",
   "execution_count": null,
   "id": "aa1c857f",
   "metadata": {},
   "outputs": [],
   "source": []
  },
  {
   "cell_type": "code",
   "execution_count": 1,
   "id": "c6e2ba18",
   "metadata": {},
   "outputs": [
    {
     "data": {
      "text/html": [
       "<div>\n",
       "<style scoped>\n",
       "    .dataframe tbody tr th:only-of-type {\n",
       "        vertical-align: middle;\n",
       "    }\n",
       "\n",
       "    .dataframe tbody tr th {\n",
       "        vertical-align: top;\n",
       "    }\n",
       "\n",
       "    .dataframe thead th {\n",
       "        text-align: right;\n",
       "    }\n",
       "</style>\n",
       "<table border=\"1\" class=\"dataframe\">\n",
       "  <thead>\n",
       "    <tr style=\"text-align: right;\">\n",
       "      <th></th>\n",
       "      <th>Gender</th>\n",
       "      <th>Height</th>\n",
       "      <th>Weight</th>\n",
       "    </tr>\n",
       "  </thead>\n",
       "  <tbody>\n",
       "    <tr>\n",
       "      <th>0</th>\n",
       "      <td>Male</td>\n",
       "      <td>73.847017</td>\n",
       "      <td>241.893563</td>\n",
       "    </tr>\n",
       "    <tr>\n",
       "      <th>1</th>\n",
       "      <td>Male</td>\n",
       "      <td>68.781904</td>\n",
       "      <td>162.310473</td>\n",
       "    </tr>\n",
       "    <tr>\n",
       "      <th>2</th>\n",
       "      <td>Male</td>\n",
       "      <td>74.110105</td>\n",
       "      <td>212.740856</td>\n",
       "    </tr>\n",
       "    <tr>\n",
       "      <th>3</th>\n",
       "      <td>Male</td>\n",
       "      <td>71.730978</td>\n",
       "      <td>220.042470</td>\n",
       "    </tr>\n",
       "    <tr>\n",
       "      <th>4</th>\n",
       "      <td>Male</td>\n",
       "      <td>69.881796</td>\n",
       "      <td>206.349801</td>\n",
       "    </tr>\n",
       "  </tbody>\n",
       "</table>\n",
       "</div>"
      ],
      "text/plain": [
       "  Gender     Height      Weight\n",
       "0   Male  73.847017  241.893563\n",
       "1   Male  68.781904  162.310473\n",
       "2   Male  74.110105  212.740856\n",
       "3   Male  71.730978  220.042470\n",
       "4   Male  69.881796  206.349801"
      ]
     },
     "execution_count": 1,
     "metadata": {},
     "output_type": "execute_result"
    }
   ],
   "source": [
    "import numpy as np\n",
    "import pandas as pd\n",
    "import matplotlib.pyplot as plt\n",
    "\n",
    "# Körpergrößen in inch, Gewicht in pounds\n",
    "df = pd.read_csv(\"../data/heights.csv\")\n",
    "\n",
    "df.head()"
   ]
  },
  {
   "cell_type": "markdown",
   "id": "a99cf0a5",
   "metadata": {},
   "source": [
    "## Describe\n",
    "Mit der Funktion describe lassen sich die wichtigsten statistischen Werte eines Dataframes abbilden.\n",
    "\n",
    "Der Output von df.describe() liefert eine statistische Übersicht numerischer Spalten eines DataFrames, einschließlich Kennzahlen wie Anzahl, Mittelwert, Standardabweichung, Minimum, Maximum sowie Quartile.\n",
    "\n",
    "**Quartile** sind statistische Kennwerte, die ein geordnetes Datenset in vier gleich große Teile (25%-Schritte) unterteilen und dabei die Verteilung der Daten beschreiben. Sie helfen, Streuung und Schwerpunkte der Daten zu analysieren.\n",
    "\n",
    "Die Quartile sind:\n",
    "\n",
    "1. **1. Quartil (Q1)**: Der Wert, unterhalb dessen 25% der Daten liegen (auch **unteres Quartil** genannt).\n",
    "2. **2. Quartil (Q2)**: Der Wert, unterhalb dessen 50% der Daten liegen (das ist der **Median**).\n",
    "3. **3. Quartil (Q3)**: Der Wert, unterhalb dessen 75% der Daten liegen (auch **oberes Quartil** genannt).\n"
   ]
  },
  {
   "cell_type": "code",
   "execution_count": 2,
   "id": "32224db8",
   "metadata": {},
   "outputs": [
    {
     "data": {
      "text/html": [
       "<div>\n",
       "<style scoped>\n",
       "    .dataframe tbody tr th:only-of-type {\n",
       "        vertical-align: middle;\n",
       "    }\n",
       "\n",
       "    .dataframe tbody tr th {\n",
       "        vertical-align: top;\n",
       "    }\n",
       "\n",
       "    .dataframe thead th {\n",
       "        text-align: right;\n",
       "    }\n",
       "</style>\n",
       "<table border=\"1\" class=\"dataframe\">\n",
       "  <thead>\n",
       "    <tr style=\"text-align: right;\">\n",
       "      <th></th>\n",
       "      <th>Height</th>\n",
       "      <th>Weight</th>\n",
       "    </tr>\n",
       "  </thead>\n",
       "  <tbody>\n",
       "    <tr>\n",
       "      <th>count</th>\n",
       "      <td>10000.000000</td>\n",
       "      <td>10000.000000</td>\n",
       "    </tr>\n",
       "    <tr>\n",
       "      <th>mean</th>\n",
       "      <td>66.367560</td>\n",
       "      <td>161.440357</td>\n",
       "    </tr>\n",
       "    <tr>\n",
       "      <th>std</th>\n",
       "      <td>3.847528</td>\n",
       "      <td>32.108439</td>\n",
       "    </tr>\n",
       "    <tr>\n",
       "      <th>min</th>\n",
       "      <td>54.263133</td>\n",
       "      <td>64.700127</td>\n",
       "    </tr>\n",
       "    <tr>\n",
       "      <th>25%</th>\n",
       "      <td>63.505620</td>\n",
       "      <td>135.818051</td>\n",
       "    </tr>\n",
       "    <tr>\n",
       "      <th>50%</th>\n",
       "      <td>66.318070</td>\n",
       "      <td>161.212928</td>\n",
       "    </tr>\n",
       "    <tr>\n",
       "      <th>75%</th>\n",
       "      <td>69.174262</td>\n",
       "      <td>187.169525</td>\n",
       "    </tr>\n",
       "    <tr>\n",
       "      <th>max</th>\n",
       "      <td>78.998742</td>\n",
       "      <td>269.989699</td>\n",
       "    </tr>\n",
       "  </tbody>\n",
       "</table>\n",
       "</div>"
      ],
      "text/plain": [
       "             Height        Weight\n",
       "count  10000.000000  10000.000000\n",
       "mean      66.367560    161.440357\n",
       "std        3.847528     32.108439\n",
       "min       54.263133     64.700127\n",
       "25%       63.505620    135.818051\n",
       "50%       66.318070    161.212928\n",
       "75%       69.174262    187.169525\n",
       "max       78.998742    269.989699"
      ]
     },
     "execution_count": 2,
     "metadata": {},
     "output_type": "execute_result"
    }
   ],
   "source": [
    "# Describe\n",
    "df.describe()"
   ]
  },
  {
   "cell_type": "markdown",
   "id": "c6d6bc74",
   "metadata": {},
   "source": [
    "## Mittelwert einer Series (Spalte oder Zeile)\n",
    "Mittelwert der Spalte Height"
   ]
  },
  {
   "cell_type": "code",
   "execution_count": 3,
   "id": "2c3d3c58",
   "metadata": {},
   "outputs": [
    {
     "data": {
      "text/plain": [
       "np.float64(66.36755975482124)"
      ]
     },
     "execution_count": 3,
     "metadata": {},
     "output_type": "execute_result"
    }
   ],
   "source": [
    "# Mean einer Spalte\n",
    "df.Height.mean()"
   ]
  },
  {
   "cell_type": "markdown",
   "id": "d5578329",
   "metadata": {},
   "source": [
    "## Median"
   ]
  },
  {
   "cell_type": "code",
   "execution_count": 4,
   "id": "3a6473eb",
   "metadata": {},
   "outputs": [
    {
     "data": {
      "text/plain": [
       "66.31807008178464"
      ]
     },
     "execution_count": 4,
     "metadata": {},
     "output_type": "execute_result"
    }
   ],
   "source": [
    "# Median einer Spalte"
   ]
  },
  {
   "cell_type": "markdown",
   "id": "059dcb63",
   "metadata": {},
   "source": [
    "## Varianz (Streumaß)\n",
    "\n",
    "$var(x) = \\frac{1}{n} \\sum_{i=1}^n (x_i - \\overline{x})^2$"
   ]
  },
  {
   "cell_type": "code",
   "execution_count": 5,
   "id": "51489acd",
   "metadata": {},
   "outputs": [
    {
     "data": {
      "text/plain": [
       "(14.8019922928768, 14.803472640140777)"
      ]
     },
     "execution_count": 5,
     "metadata": {},
     "output_type": "execute_result"
    }
   ],
   "source": [
    "# Vergleich von Berechnung der Varianz VS der Methode variance"
   ]
  },
  {
   "cell_type": "code",
   "execution_count": 4,
   "id": "670359c5",
   "metadata": {},
   "outputs": [],
   "source": [
    "# Varianz des Gewichts"
   ]
  },
  {
   "cell_type": "markdown",
   "id": "ea534f35",
   "metadata": {},
   "source": [
    "## Standardabweichung\n",
    "$ \\sigma = \\sqrt{var(x)}$"
   ]
  },
  {
   "cell_type": "code",
   "execution_count": 5,
   "id": "eeb801c3",
   "metadata": {},
   "outputs": [],
   "source": [
    "# Berechnung der Standarabweichung als Wurzel der Varianz VS. Methode std"
   ]
  },
  {
   "cell_type": "markdown",
   "id": "f53484c5",
   "metadata": {},
   "source": [
    "## Modus"
   ]
  },
  {
   "cell_type": "code",
   "execution_count": 6,
   "id": "3607984a",
   "metadata": {},
   "outputs": [],
   "source": [
    "# Modus Methode"
   ]
  },
  {
   "cell_type": "markdown",
   "id": "4d2297e3",
   "metadata": {},
   "source": [
    "## Min und Max\n",
    "die Funktionen `min` und `max` lassen sich auf Spalten sowie auf ganze Dataframes anwenden."
   ]
  },
  {
   "cell_type": "code",
   "execution_count": 7,
   "id": "ee2c975a",
   "metadata": {},
   "outputs": [],
   "source": [
    "# Min und Max auf Spalten angewendet"
   ]
  },
  {
   "cell_type": "markdown",
   "id": "d4bbddb3",
   "metadata": {},
   "source": [
    "## MAD: Mittlere absolute Abweichung\n",
    "Neben Varianz und Standardabweichung gibt es noch ein drittes Maß, welches Streuung charakterisiert, die **mittlere absolute Abweichung***. Sie entspricht der summierten absoluten Differenz der Beobachtungswerte zum Mittelwert. Negative Werte werden also positiv, damit sich in der Summe keine 0 ergibt.\n",
    "\n",
    "$MAD = \\frac{1}{n} \\sum_{i=1}^n |x_i - \\overline{x}|$"
   ]
  },
  {
   "cell_type": "code",
   "execution_count": 8,
   "id": "fa4656ec",
   "metadata": {},
   "outputs": [],
   "source": [
    "# Aufgabe: berechne die MAD von Weight ohne Zuhilfenahme der Pandas-Funktion mad"
   ]
  },
  {
   "cell_type": "markdown",
   "id": "29c2502c",
   "metadata": {},
   "source": [
    "## Aufgabe: BMI\n",
    "a) Füge eine neue Spalte BMI hinzu. \n",
    "\n",
    "`BMI-Formel = Körpergewicht (in kg) geteilt durch (Körpergröße (in m) zum Quadrat).`\n",
    "\n",
    "Beachte, dass die Spalte Weight in Pounds angegeben ist und die Spalte Height in inch.    \n",
    "- Für die Berechnung benötigen wir kg und m.\n",
    "\n",
    "* 1 Pound = 0.5 kg\n",
    "* 1 inch = 2,54 cm\n",
    "\n",
    "Es muss also für die Spalten `Height` und `Weight` eine Umrechnung stattfinden. \n",
    "\n",
    "b) Plotte Histrogramme für für die Spalten `Height` und `Weight`"
   ]
  },
  {
   "cell_type": "code",
   "execution_count": 9,
   "id": "ae27e950",
   "metadata": {},
   "outputs": [],
   "source": [
    "df = pd.read_csv(\"../data/heights.csv\")\n",
    "# Happy Coding (10 Minuten Zeit)"
   ]
  },
  {
   "cell_type": "markdown",
   "id": "fc236ecc",
   "metadata": {},
   "source": [
    "## Plot von zwei Features des Datensatzes: Height und Weight"
   ]
  },
  {
   "cell_type": "code",
   "execution_count": 10,
   "id": "5c95e626",
   "metadata": {},
   "outputs": [],
   "source": [
    "# Scatterplot von Körpergröße und Gewicht"
   ]
  },
  {
   "cell_type": "code",
   "execution_count": 6,
   "id": "1dc9f1db",
   "metadata": {},
   "outputs": [
    {
     "data": {
      "text/plain": [
       "<Axes: >"
      ]
     },
     "execution_count": 6,
     "metadata": {},
     "output_type": "execute_result"
    },
    {
     "data": {
      "image/png": "[encoded data removed]",
      "text/plain": [
       "<Figure size 640x480 with 1 Axes>"
      ]
     },
     "metadata": {},
     "output_type": "display_data"
    }
   ],
   "source": [
    "# Boxplot Lörpergröße"
   ]
  },
  {
   "cell_type": "code",
   "execution_count": 14,
   "id": "f0b0188b",
   "metadata": {},
   "outputs": [
    {
     "data": {
      "text/plain": [
       "<AxesSubplot:>"
      ]
     },
     "execution_count": 14,
     "metadata": {},
     "output_type": "execute_result"
    },
    {
     "data": {
      "image/png": "[encoded data removed]",
      "text/plain": [
       "<Figure size 432x288 with 1 Axes>"
      ]
     },
     "metadata": {
      "needs_background": "light"
     },
     "output_type": "display_data"
    }
   ],
   "source": [
    "# Boxplot Gewicht"
   ]
  },
  {
   "cell_type": "markdown",
   "id": "1121f81e",
   "metadata": {},
   "source": [
    "## Histogramme der Eigenschaften"
   ]
  },
  {
   "cell_type": "code",
   "execution_count": 4,
   "id": "ffe830be",
   "metadata": {},
   "outputs": [
    {
     "data": {
      "text/plain": [
       "array([[<Axes: title={'center': 'Height'}>,\n",
       "        <Axes: title={'center': 'Weight'}>]], dtype=object)"
      ]
     },
     "execution_count": 4,
     "metadata": {},
     "output_type": "execute_result"
    },
    {
     "data": {
      "image/png": "[encoded data removed]",
      "text/plain": [
       "<Figure size 640x480 with 2 Axes>"
      ]
     },
     "metadata": {},
     "output_type": "display_data"
    }
   ],
   "source": [
    "# Histogramm des Dataframes\n",
    "df.hist()"
   ]
  },
  {
   "cell_type": "markdown",
   "id": "a26d6148",
   "metadata": {},
   "source": [
    "## Kovarianz zwischen zwei Features\n",
    "\n",
    "Sie gibt die Richtung des Zusammenhangs zwischen zwei quantitativen Merkmalen an. Die Summe der Produkte der Differenzen von x - Mittelwert und y - Mittelwert durch die Summe aller Datenpunkte. Nimmt die Kovarianz einen postiven Wert an, korrelieren die beiden Werte positiv. Ansonsten halt negativ. Wenn sie 0 ist, korrelieren die Werte überhaupt nicht.\n",
    "\n",
    "**Formel der Kovarianz:**\n",
    "\n",
    "$c_{XY} = \\frac{1}{n} \\sum_{i=1}^n (x_i - \\overline{x}) (y_i - \\overline{y})$    \n",
    "$\\overline{y}$ = Mittelwert der y-Werte     \n",
    "$\\overline{x}$ = Mittelwert der x-Werte  \n",
    "\n",
    "### Pandas cov\n",
    "Die Pandas-Methode cov() errechnet die Kovarianz-Matrix von n Eingabe-Features, also Spalten. Aus dieser lassen sich die Varianzen der einzelnen Features sowie die Kovarianzen der verglichenen Features ausrechnen.\n",
    "\n",
    "Im Beispiel ist die Varianz für das Gewicht 257.73, die Varianz der Höhe 0.009511. Die Kovarianz beträgt 1.45.\n",
    "Alle Werte NACH Umrechnung in Meter und Kilogramm."
   ]
  },
  {
   "cell_type": "code",
   "execution_count": 16,
   "id": "c18a9184",
   "metadata": {},
   "outputs": [
    {
     "data": {
      "text/html": [
       "<div>\n",
       "<style scoped>\n",
       "    .dataframe tbody tr th:only-of-type {\n",
       "        vertical-align: middle;\n",
       "    }\n",
       "\n",
       "    .dataframe tbody tr th {\n",
       "        vertical-align: top;\n",
       "    }\n",
       "\n",
       "    .dataframe thead th {\n",
       "        text-align: right;\n",
       "    }\n",
       "</style>\n",
       "<table border=\"1\" class=\"dataframe\">\n",
       "  <thead>\n",
       "    <tr style=\"text-align: right;\">\n",
       "      <th></th>\n",
       "      <th>Weight</th>\n",
       "      <th>Height</th>\n",
       "    </tr>\n",
       "  </thead>\n",
       "  <tbody>\n",
       "    <tr>\n",
       "      <th>Weight</th>\n",
       "      <td>257.737964</td>\n",
       "      <td>1.450882</td>\n",
       "    </tr>\n",
       "    <tr>\n",
       "      <th>Height</th>\n",
       "      <td>1.450882</td>\n",
       "      <td>0.009551</td>\n",
       "    </tr>\n",
       "  </tbody>\n",
       "</table>\n",
       "</div>"
      ],
      "text/plain": [
       "            Weight    Height\n",
       "Weight  257.737964  1.450882\n",
       "Height    1.450882  0.009551"
      ]
     },
     "execution_count": 16,
     "metadata": {},
     "output_type": "execute_result"
    }
   ],
   "source": [
    "# cov"
   ]
  },
  {
   "cell_type": "markdown",
   "id": "96bd6be6",
   "metadata": {},
   "source": [
    "## Korrelationskoeffizient\n",
    "Der Korrelationskoeffizient zeigt die Stärke des Zusammenhangs zwischen zwei quantitativen Merkmalen.\n",
    "Wir teilen die Kovarianz durch das Produkt von Standardabweichung von X und Standardabweichung von Y.\n",
    "\n",
    "$r_{XY} = \\frac{c_{XY}}{s_X \\cdot s_Y}$\n",
    "\n",
    "### Aussage\n",
    "Als Konsequenz ergibt sich, dass der Korrelationskoeffizient nur Werte zwischen –1 und +1 annehmen kann\n",
    "\n",
    "Starke negative Korrelation wenn $ -1 ≤r_{XY} < -0,6 $    \n",
    "Schwache negative Korrelation wenn $ -0,6 ≤ r_{XY} < 0 $      \n",
    "keine Korrelation: $r_{XY} = 0 $     \n",
    "Schwache positive Korrelation wenn $ 0 < r_{XY} ≤ 0,6 $       \n",
    "Starke positive Korrelation wenn $ 0,6 < r_{XY} ≤ 1 $      \n",
    "\n",
    "Über den Parameter `method` lässt sich die Methode angeben, Standard ist `Pearson`. \n",
    "\n",
    "siehe Doku:\n",
    "https://pandas.pydata.org/docs/reference/api/pandas.DataFrame.corr.html"
   ]
  },
  {
   "cell_type": "code",
   "execution_count": 11,
   "id": "2c27d226",
   "metadata": {},
   "outputs": [],
   "source": [
    "# Korrelationskoeffizient"
   ]
  },
  {
   "cell_type": "markdown",
   "id": "6cfa5d47",
   "metadata": {},
   "source": [
    "## Aufgabe: Aktien\n",
    "\n",
    "wir sollen die Kurse der beiden Gringotts Aktien \"Wizards Brooms\" (X) und \"Witches and Ditches Inc.\" (Y) vergleichen.\n",
    "Korrelieren die beiden Kurse?\n",
    "\n",
    "\n",
    "### Aufgabe\n",
    "* Erstelle einen neuen DataFrame\n",
    "* Bestimme Mittelwert und Median der beiden Aktienkurse. \n",
    "* Bestimme Varianz und Standardabweichung der beiden Aktienkurse. \n",
    "* Fertige einen Scatterplot der beiden Features an.    \n",
    "* Bestimme den Korrelationskoeffizienten der beiden Aktienkurse.    \n"
   ]
  },
  {
   "cell_type": "code",
   "execution_count": 13,
   "id": "b9e89803",
   "metadata": {},
   "outputs": [],
   "source": [
    "brooms = [27.9, 28.2, 27.5, 28.3, 28.2, 28.7, 27.9, 27.3, 29.1, 29.6, 29.5, 29.8]\n",
    "witches_inc = [43, 46.1, 43.4, 43.8, 47.3, 47.8, 43.2, 45.2, 47.2, 45.7, 48.5, 50.6]"
   ]
  },
  {
   "cell_type": "code",
   "execution_count": 14,
   "id": "69c0ff63",
   "metadata": {},
   "outputs": [],
   "source": [
    "aktienkurse = pd.DataFrame({\n",
    "    \"brooms\": brooms,\n",
    "    \"witches\": witches_inc,\n",
    "})\n"
   ]
  },
  {
   "cell_type": "code",
   "execution_count": null,
   "id": "117a79b4",
   "metadata": {},
   "outputs": [],
   "source": []
  },
  {
   "cell_type": "code",
   "execution_count": 18,
   "id": "5826ff3a",
   "metadata": {},
   "outputs": [
    {
     "data": {
      "text/html": [
       "<div>\n",
       "<style scoped>\n",
       "    .dataframe tbody tr th:only-of-type {\n",
       "        vertical-align: middle;\n",
       "    }\n",
       "\n",
       "    .dataframe tbody tr th {\n",
       "        vertical-align: top;\n",
       "    }\n",
       "\n",
       "    .dataframe thead th {\n",
       "        text-align: right;\n",
       "    }\n",
       "</style>\n",
       "<table border=\"1\" class=\"dataframe\">\n",
       "  <thead>\n",
       "    <tr style=\"text-align: right;\">\n",
       "      <th></th>\n",
       "      <th>brooms</th>\n",
       "      <th>witches</th>\n",
       "    </tr>\n",
       "  </thead>\n",
       "  <tbody>\n",
       "    <tr>\n",
       "      <th>brooms</th>\n",
       "      <td>0.698182</td>\n",
       "      <td>1.480909</td>\n",
       "    </tr>\n",
       "    <tr>\n",
       "      <th>witches</th>\n",
       "      <td>1.480909</td>\n",
       "      <td>5.723333</td>\n",
       "    </tr>\n",
       "  </tbody>\n",
       "</table>\n",
       "</div>"
      ],
      "text/plain": [
       "           brooms   witches\n",
       "brooms   0.698182  1.480909\n",
       "witches  1.480909  5.723333"
      ]
     },
     "execution_count": 18,
     "metadata": {},
     "output_type": "execute_result"
    }
   ],
   "source": [
    "aktienkurse.cov()"
   ]
  }
 ],
 "metadata": {
  "kernelspec": {
   "display_name": "Python 3 (ipykernel)",
   "language": "python",
   "name": "python3"
  },
  "language_info": {
   "codemirror_mode": {
    "name": "ipython",
    "version": 3
   },
   "file_extension": ".py",
   "mimetype": "text/x-python",
   "name": "python",
   "nbconvert_exporter": "python",
   "pygments_lexer": "ipython3",
   "version": "3.13.1"
  }
 },
 "nbformat": 4,
 "nbformat_minor": 5
}
