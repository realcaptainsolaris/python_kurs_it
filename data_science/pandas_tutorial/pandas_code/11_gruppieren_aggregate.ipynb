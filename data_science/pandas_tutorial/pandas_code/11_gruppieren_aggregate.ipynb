{
 "cells": [
  {
   "cell_type": "markdown",
   "id": "6cf22f19",
   "metadata": {},
   "source": [
    "# Gruppieren und Aggregate\n",
    "\n",
    "## Beispieldatei\n",
    "Wir nutzen im Beispiel die `legislators-current.csv`, die die aktuellen Mitglieder des Kongresses abbildet.\n",
    "\n",
    "Wir wollen Datensätze anhand von Spaltennamen gruppieren und mitilfe von Aggregatsfunktionen Werte zusammenfassen. `groupby()` ähnelt stark der SQL-Entsprechung `GROUP BY`. \n",
    "\n",
    "Zum Beispiel könnten wir im Datensatz nach `state` gruppieren und die Anzahl der Senatoren aufsummieren. Für dieses Aggregat stellt Pandas viele Funktionen zur Verfügung."
   ]
  },
  {
   "cell_type": "code",
   "execution_count": 1,
   "id": "eb565b6c",
   "metadata": {},
   "outputs": [
    {
     "data": {
      "text/html": [
       "<div>\n",
       "<style scoped>\n",
       "    .dataframe tbody tr th:only-of-type {\n",
       "        vertical-align: middle;\n",
       "    }\n",
       "\n",
       "    .dataframe tbody tr th {\n",
       "        vertical-align: top;\n",
       "    }\n",
       "\n",
       "    .dataframe thead th {\n",
       "        text-align: right;\n",
       "    }\n",
       "</style>\n",
       "<table border=\"1\" class=\"dataframe\">\n",
       "  <thead>\n",
       "    <tr style=\"text-align: right;\">\n",
       "      <th></th>\n",
       "      <th>last_name</th>\n",
       "      <th>first_name</th>\n",
       "      <th>birthday</th>\n",
       "      <th>gender</th>\n",
       "      <th>type</th>\n",
       "      <th>state</th>\n",
       "    </tr>\n",
       "  </thead>\n",
       "  <tbody>\n",
       "    <tr>\n",
       "      <th>0</th>\n",
       "      <td>Brown</td>\n",
       "      <td>Sherrod</td>\n",
       "      <td>1952-11-09</td>\n",
       "      <td>M</td>\n",
       "      <td>sen</td>\n",
       "      <td>OH</td>\n",
       "    </tr>\n",
       "    <tr>\n",
       "      <th>1</th>\n",
       "      <td>Cantwell</td>\n",
       "      <td>Maria</td>\n",
       "      <td>1958-10-13</td>\n",
       "      <td>F</td>\n",
       "      <td>sen</td>\n",
       "      <td>WA</td>\n",
       "    </tr>\n",
       "    <tr>\n",
       "      <th>2</th>\n",
       "      <td>Cardin</td>\n",
       "      <td>Benjamin</td>\n",
       "      <td>1943-10-05</td>\n",
       "      <td>M</td>\n",
       "      <td>sen</td>\n",
       "      <td>MD</td>\n",
       "    </tr>\n",
       "    <tr>\n",
       "      <th>3</th>\n",
       "      <td>Carper</td>\n",
       "      <td>Thomas</td>\n",
       "      <td>1947-01-23</td>\n",
       "      <td>M</td>\n",
       "      <td>sen</td>\n",
       "      <td>DE</td>\n",
       "    </tr>\n",
       "    <tr>\n",
       "      <th>4</th>\n",
       "      <td>Casey</td>\n",
       "      <td>Robert</td>\n",
       "      <td>1960-04-13</td>\n",
       "      <td>M</td>\n",
       "      <td>sen</td>\n",
       "      <td>PA</td>\n",
       "    </tr>\n",
       "    <tr>\n",
       "      <th>...</th>\n",
       "      <td>...</td>\n",
       "      <td>...</td>\n",
       "      <td>...</td>\n",
       "      <td>...</td>\n",
       "      <td>...</td>\n",
       "      <td>...</td>\n",
       "    </tr>\n",
       "    <tr>\n",
       "      <th>531</th>\n",
       "      <td>Stansbury</td>\n",
       "      <td>Melanie</td>\n",
       "      <td>1979-01-31</td>\n",
       "      <td>F</td>\n",
       "      <td>rep</td>\n",
       "      <td>NM</td>\n",
       "    </tr>\n",
       "    <tr>\n",
       "      <th>532</th>\n",
       "      <td>Ellzey</td>\n",
       "      <td>Jake</td>\n",
       "      <td>1970-01-24</td>\n",
       "      <td>M</td>\n",
       "      <td>rep</td>\n",
       "      <td>TX</td>\n",
       "    </tr>\n",
       "    <tr>\n",
       "      <th>533</th>\n",
       "      <td>Brown</td>\n",
       "      <td>Shontel</td>\n",
       "      <td>1975-06-24</td>\n",
       "      <td>F</td>\n",
       "      <td>rep</td>\n",
       "      <td>OH</td>\n",
       "    </tr>\n",
       "    <tr>\n",
       "      <th>534</th>\n",
       "      <td>Carey</td>\n",
       "      <td>Mike</td>\n",
       "      <td>1971-03-13</td>\n",
       "      <td>M</td>\n",
       "      <td>rep</td>\n",
       "      <td>OH</td>\n",
       "    </tr>\n",
       "    <tr>\n",
       "      <th>535</th>\n",
       "      <td>Cherfilus-McCormick</td>\n",
       "      <td>Sheila</td>\n",
       "      <td>1979-01-25</td>\n",
       "      <td>F</td>\n",
       "      <td>rep</td>\n",
       "      <td>FL</td>\n",
       "    </tr>\n",
       "  </tbody>\n",
       "</table>\n",
       "<p>536 rows × 6 columns</p>\n",
       "</div>"
      ],
      "text/plain": [
       "               last_name first_name    birthday gender type state\n",
       "0                  Brown    Sherrod  1952-11-09      M  sen    OH\n",
       "1               Cantwell      Maria  1958-10-13      F  sen    WA\n",
       "2                 Cardin   Benjamin  1943-10-05      M  sen    MD\n",
       "3                 Carper     Thomas  1947-01-23      M  sen    DE\n",
       "4                  Casey     Robert  1960-04-13      M  sen    PA\n",
       "..                   ...        ...         ...    ...  ...   ...\n",
       "531            Stansbury    Melanie  1979-01-31      F  rep    NM\n",
       "532               Ellzey       Jake  1970-01-24      M  rep    TX\n",
       "533                Brown    Shontel  1975-06-24      F  rep    OH\n",
       "534                Carey       Mike  1971-03-13      M  rep    OH\n",
       "535  Cherfilus-McCormick     Sheila  1979-01-25      F  rep    FL\n",
       "\n",
       "[536 rows x 6 columns]"
      ]
     },
     "execution_count": 1,
     "metadata": {},
     "output_type": "execute_result"
    }
   ],
   "source": [
    "import numpy as np\n",
    "import pandas as pd\n",
    "import matplotlib.pyplot as plt\n",
    "\n",
    "df = pd.read_csv(\"../data/legislators-current.csv\", usecols=[\"first_name\", \"last_name\", \"gender\", \"type\", \"state\", \"birthday\"])\n",
    "df"
   ]
  },
  {
   "cell_type": "markdown",
   "id": "3dc752f5",
   "metadata": {},
   "source": [
    "## Das DataFrameGroupBy Objekt\n",
    "Der `groupby`-Funktion können wir einen Spaltennamen übergeben, oder eine Liste mit Spaltennamen oder einen Numpy-Array mit Zeilen-Indizies.\n",
    "\n",
    "Wenn wir die `groupby` Funktion für eine Spalte ausführen, erhalten wir ein sogenanntes `DataFrameGroupBy`-Objekt. Für jedes Bestandteil des übergebenen Spalteneintrags erhalten wir einen Eintrag."
   ]
  },
  {
   "cell_type": "code",
   "execution_count": 19,
   "id": "fd4a0a8f",
   "metadata": {},
   "outputs": [
    {
     "data": {
      "text/plain": [
       "<pandas.core.groupby.generic.DataFrameGroupBy object at 0x7499bd104d70>"
      ]
     },
     "execution_count": 19,
     "metadata": {},
     "output_type": "execute_result"
    }
   ],
   "source": [
    "# Gruppiert nach State"
   ]
  },
  {
   "cell_type": "code",
   "execution_count": 2,
   "id": "ab3b82cd",
   "metadata": {},
   "outputs": [],
   "source": [
    "# Das Gruppenobjekt in eine liste umformen\n",
    "# Liste an Index 0 anzeigen"
   ]
  },
  {
   "cell_type": "markdown",
   "id": "7988709d",
   "metadata": {},
   "source": [
    "## groupby\n",
    "Um dieses Objekt zu nutzen, müssen wir Aggregatsfunktionen darauf anwenden.\n",
    "Hier im Beipiel gruppieren wir nach State und führen auf der Spalte `state` die Aggregatsfunktion `count()` aus. Wir zählen also die Anzahl der Kongressmitglieder gruppiert nach State."
   ]
  },
  {
   "cell_type": "code",
   "execution_count": 6,
   "id": "e1b77a7b",
   "metadata": {},
   "outputs": [],
   "source": [
    "# Anzahl Kongressmitglieder nach State"
   ]
  },
  {
   "cell_type": "markdown",
   "id": "37f3bce0",
   "metadata": {},
   "source": [
    "## Groupby eine Liste von Spalten übergeben\n",
    "Ebenso, wie wir das auch in SQL machen können, können wir nach mehreren Spalten gruppieren. Hier gruppieren wir nach `state` und dann nach `gender`. Wir erhalten eine Multi-Index-Series. `Multi-index-Serien` werden in diesem Tutorial nicht besprochen, da das zu weit führen würde. Man kann aber verhindern, dass eine Multiindex-Serie angelegt wird, indem man `as_index=False` angibt."
   ]
  },
  {
   "cell_type": "code",
   "execution_count": 15,
   "id": "8ae91ee2",
   "metadata": {},
   "outputs": [],
   "source": [
    "# Gruppiere nach state und gender und zähle die Vorkommen"
   ]
  },
  {
   "cell_type": "markdown",
   "id": "ec88b124",
   "metadata": {},
   "source": [
    "# Aufgabe Baseball\n",
    "\n",
    "Gegeben ist ein Dictionary, welches zwei Baseball-Teams repräsentiert. Die Spalten Team, Position und Alter sollen zu einem\n",
    "DataFrame konvertiert werden.\n",
    "\n",
    "- Welches Durchschnittsalter hat jedes Team?\n",
    "- Berechne mit, max, avg, std und var je Team und Position\n",
    "- Welches Durchschnittsalter haben die Pitcher der Red Sox?"
   ]
  },
  {
   "cell_type": "code",
   "execution_count": 16,
   "id": "21dc122e",
   "metadata": {},
   "outputs": [],
   "source": [
    "data = {\"Team\": [\"Red Sox\", \"Red Sox\", \"Red Sox\", \"Red Sox\", \"Red Sox\", \"Red Sox\", \"Yankees\", \"Yankees\", \"Yankees\", \"Yankees\", \"Yankees\", \"Yankees\"],\n",
    "        \"Pos\": [\"Pitcher\", \"Pitcher\", \"Pitcher\", \"Not Pitcher\", \"Not Pitcher\", \"Not Pitcher\", \"Pitcher\", \"Pitcher\", \"Pitcher\", \"Not Pitcher\", \"Not Pitcher\", \"Not Pitcher\"],\n",
    "        \"Age\": [24, 28, 40, 22, 29, 33, 31, 26, 21, 36, 25, 31]}"
   ]
  },
  {
   "cell_type": "code",
   "execution_count": 17,
   "id": "a5d76f09",
   "metadata": {},
   "outputs": [],
   "source": [
    "# durchschnittsalter der Teams"
   ]
  },
  {
   "cell_type": "code",
   "execution_count": 18,
   "id": "e2d32af8",
   "metadata": {},
   "outputs": [],
   "source": [
    "# median, min max. "
   ]
  },
  {
   "cell_type": "code",
   "execution_count": 19,
   "id": "60eef909",
   "metadata": {},
   "outputs": [],
   "source": [
    "# gruppiert nach zwei Spalten, resultiert in Multi Index. mit reset_index() wieder auf einen Index runterbrechen"
   ]
  },
  {
   "cell_type": "code",
   "execution_count": 26,
   "id": "09f6d3a9",
   "metadata": {},
   "outputs": [
    {
     "data": {
      "text/html": [
       "<div>\n",
       "<style scoped>\n",
       "    .dataframe tbody tr th:only-of-type {\n",
       "        vertical-align: middle;\n",
       "    }\n",
       "\n",
       "    .dataframe tbody tr th {\n",
       "        vertical-align: top;\n",
       "    }\n",
       "\n",
       "    .dataframe thead th {\n",
       "        text-align: right;\n",
       "    }\n",
       "</style>\n",
       "<table border=\"1\" class=\"dataframe\">\n",
       "  <thead>\n",
       "    <tr style=\"text-align: right;\">\n",
       "      <th></th>\n",
       "      <th>Team</th>\n",
       "      <th>Pos</th>\n",
       "      <th>Age</th>\n",
       "    </tr>\n",
       "  </thead>\n",
       "  <tbody>\n",
       "    <tr>\n",
       "      <th>0</th>\n",
       "      <td>Red Sox</td>\n",
       "      <td>Pitcher</td>\n",
       "      <td>24</td>\n",
       "    </tr>\n",
       "    <tr>\n",
       "      <th>1</th>\n",
       "      <td>Red Sox</td>\n",
       "      <td>Pitcher</td>\n",
       "      <td>28</td>\n",
       "    </tr>\n",
       "    <tr>\n",
       "      <th>2</th>\n",
       "      <td>Red Sox</td>\n",
       "      <td>Pitcher</td>\n",
       "      <td>40</td>\n",
       "    </tr>\n",
       "    <tr>\n",
       "      <th>3</th>\n",
       "      <td>Red Sox</td>\n",
       "      <td>Not Pitcher</td>\n",
       "      <td>22</td>\n",
       "    </tr>\n",
       "    <tr>\n",
       "      <th>4</th>\n",
       "      <td>Red Sox</td>\n",
       "      <td>Not Pitcher</td>\n",
       "      <td>29</td>\n",
       "    </tr>\n",
       "    <tr>\n",
       "      <th>5</th>\n",
       "      <td>Red Sox</td>\n",
       "      <td>Not Pitcher</td>\n",
       "      <td>33</td>\n",
       "    </tr>\n",
       "    <tr>\n",
       "      <th>6</th>\n",
       "      <td>Yankees</td>\n",
       "      <td>Pitcher</td>\n",
       "      <td>31</td>\n",
       "    </tr>\n",
       "    <tr>\n",
       "      <th>7</th>\n",
       "      <td>Yankees</td>\n",
       "      <td>Pitcher</td>\n",
       "      <td>26</td>\n",
       "    </tr>\n",
       "    <tr>\n",
       "      <th>8</th>\n",
       "      <td>Yankees</td>\n",
       "      <td>Pitcher</td>\n",
       "      <td>21</td>\n",
       "    </tr>\n",
       "    <tr>\n",
       "      <th>9</th>\n",
       "      <td>Yankees</td>\n",
       "      <td>Not Pitcher</td>\n",
       "      <td>36</td>\n",
       "    </tr>\n",
       "    <tr>\n",
       "      <th>10</th>\n",
       "      <td>Yankees</td>\n",
       "      <td>Not Pitcher</td>\n",
       "      <td>25</td>\n",
       "    </tr>\n",
       "    <tr>\n",
       "      <th>11</th>\n",
       "      <td>Yankees</td>\n",
       "      <td>Not Pitcher</td>\n",
       "      <td>31</td>\n",
       "    </tr>\n",
       "  </tbody>\n",
       "</table>\n",
       "</div>"
      ],
      "text/plain": [
       "       Team          Pos  Age\n",
       "0   Red Sox      Pitcher   24\n",
       "1   Red Sox      Pitcher   28\n",
       "2   Red Sox      Pitcher   40\n",
       "3   Red Sox  Not Pitcher   22\n",
       "4   Red Sox  Not Pitcher   29\n",
       "5   Red Sox  Not Pitcher   33\n",
       "6   Yankees      Pitcher   31\n",
       "7   Yankees      Pitcher   26\n",
       "8   Yankees      Pitcher   21\n",
       "9   Yankees  Not Pitcher   36\n",
       "10  Yankees  Not Pitcher   25\n",
       "11  Yankees  Not Pitcher   31"
      ]
     },
     "execution_count": 26,
     "metadata": {},
     "output_type": "execute_result"
    }
   ],
   "source": [
    "df"
   ]
  },
  {
   "cell_type": "code",
   "execution_count": null,
   "id": "067bebd2",
   "metadata": {},
   "outputs": [],
   "source": []
  }
 ],
 "metadata": {
  "kernelspec": {
   "display_name": "Python 3 (ipykernel)",
   "language": "python",
   "name": "python3"
  },
  "language_info": {
   "codemirror_mode": {
    "name": "ipython",
    "version": 3
   },
   "file_extension": ".py",
   "mimetype": "text/x-python",
   "name": "python",
   "nbconvert_exporter": "python",
   "pygments_lexer": "ipython3",
   "version": "3.12.4"
  }
 },
 "nbformat": 4,
 "nbformat_minor": 5
}
